{
 "cells": [
  {
   "cell_type": "code",
   "execution_count": 9,
   "metadata": {
    "executionInfo": {
     "elapsed": 8166,
     "status": "ok",
     "timestamp": 1685987423677,
     "user": {
      "displayName": "Alvin Luu",
      "userId": "07275320099449223646"
     },
     "user_tz": 420
    },
    "id": "h5Yf95hVaaoI"
   },
   "outputs": [],
   "source": [
    "import tensorflow as tf\n",
    "import numpy as np\n",
    "from tensorflow.keras import layers\n",
    "import pandas as pd\n",
    "from matplotlib import pyplot as plt\n",
    "from plotly import express as px\n",
    "from sklearn.preprocessing import LabelEncoder\n",
    "from sklearn.model_selection import train_test_split"
   ]
  },
  {
   "cell_type": "markdown",
   "metadata": {},
   "source": [
    "# Neural network model with Tensorflow"
   ]
  },
  {
   "cell_type": "markdown",
   "metadata": {},
   "source": [
    "## Data preparation"
   ]
  },
  {
   "cell_type": "markdown",
   "metadata": {},
   "source": [
    "In this notebook, we will be working with Google Colab, and so we will need to link the notebook to our drive in order to access `flights.csv`."
   ]
  },
  {
   "cell_type": "code",
   "execution_count": 2,
   "metadata": {
    "colab": {
     "base_uri": "https://localhost:8080/"
    },
    "executionInfo": {
     "elapsed": 1680,
     "status": "ok",
     "timestamp": 1685987425329,
     "user": {
      "displayName": "Alvin Luu",
      "userId": "07275320099449223646"
     },
     "user_tz": 420
    },
    "id": "0a5CgUsEdNsK",
    "outputId": "41d6c5ab-af58-4b14-a290-6528f169b07e"
   },
   "outputs": [
    {
     "name": "stdout",
     "output_type": "stream",
     "text": [
      "Drive already mounted at /content/drive/; to attempt to forcibly remount, call drive.mount(\"/content/drive/\", force_remount=True).\n"
     ]
    }
   ],
   "source": [
    "from google.colab import drive\n",
    "drive.mount('/content/drive/')"
   ]
  },
  {
   "cell_type": "code",
   "execution_count": 3,
   "metadata": {
    "colab": {
     "base_uri": "https://localhost:8080/"
    },
    "executionInfo": {
     "elapsed": 11,
     "status": "ok",
     "timestamp": 1685987425331,
     "user": {
      "displayName": "Alvin Luu",
      "userId": "07275320099449223646"
     },
     "user_tz": 420
    },
    "id": "hy5eev1FMm5J",
    "outputId": "19b90036-e6da-40d3-8386-ae60c2c2c264"
   },
   "outputs": [
    {
     "name": "stdout",
     "output_type": "stream",
     "text": [
      "/content/drive/My Drive/Colab Notebooks\n"
     ]
    }
   ],
   "source": [
    "cd '/content/drive/My Drive/Colab Notebooks'"
   ]
  },
  {
   "cell_type": "markdown",
   "metadata": {
    "id": "3u-xIoZzgVRu"
   },
   "source": [
    "Preprocessing is a module we created containing various preprocessing functions that will be useful before we begin creating our neural network."
   ]
  },
  {
   "cell_type": "code",
   "execution_count": 2,
   "metadata": {
    "executionInfo": {
     "elapsed": 724,
     "status": "ok",
     "timestamp": 1685987433303,
     "user": {
      "displayName": "Alvin Luu",
      "userId": "07275320099449223646"
     },
     "user_tz": 420
    },
    "id": "OX_ENOQlKfcB"
   },
   "outputs": [],
   "source": [
    "import preprocessing"
   ]
  },
  {
   "cell_type": "markdown",
   "metadata": {},
   "source": [
    "We read the flights dataset into our notebook, and then perform preprocessing on it."
   ]
  },
  {
   "cell_type": "code",
   "execution_count": 11,
   "metadata": {
    "executionInfo": {
     "elapsed": 532,
     "status": "ok",
     "timestamp": 1685987435113,
     "user": {
      "displayName": "Alvin Luu",
      "userId": "07275320099449223646"
     },
     "user_tz": 420
    },
    "id": "_w7yjY4_a0d5"
   },
   "outputs": [],
   "source": [
    "flights = pd.read_csv('flights.csv')"
   ]
  },
  {
   "cell_type": "code",
   "execution_count": 12,
   "metadata": {
    "colab": {
     "base_uri": "https://localhost:8080/",
     "height": 424
    },
    "executionInfo": {
     "elapsed": 17,
     "status": "ok",
     "timestamp": 1685987435114,
     "user": {
      "displayName": "Alvin Luu",
      "userId": "07275320099449223646"
     },
     "user_tz": 420
    },
    "id": "GEJMPCfNMxjw",
    "outputId": "4585a06f-a394-409c-e0a7-dfa6930873b2"
   },
   "outputs": [
    {
     "data": {
      "text/html": [
       "<div>\n",
       "<style scoped>\n",
       "    .dataframe tbody tr th:only-of-type {\n",
       "        vertical-align: middle;\n",
       "    }\n",
       "\n",
       "    .dataframe tbody tr th {\n",
       "        vertical-align: top;\n",
       "    }\n",
       "\n",
       "    .dataframe thead th {\n",
       "        text-align: right;\n",
       "    }\n",
       "</style>\n",
       "<table border=\"1\" class=\"dataframe\">\n",
       "  <thead>\n",
       "    <tr style=\"text-align: right;\">\n",
       "      <th></th>\n",
       "      <th>Price</th>\n",
       "      <th>Company Name</th>\n",
       "      <th>Stops</th>\n",
       "      <th>Duration</th>\n",
       "      <th>Destination</th>\n",
       "      <th>From</th>\n",
       "      <th>Date</th>\n",
       "    </tr>\n",
       "  </thead>\n",
       "  <tbody>\n",
       "    <tr>\n",
       "      <th>0</th>\n",
       "      <td>254</td>\n",
       "      <td>American Airlines</td>\n",
       "      <td>nonstop</td>\n",
       "      <td>4h 38m</td>\n",
       "      <td>ATL</td>\n",
       "      <td>LAX</td>\n",
       "      <td>6/1/23</td>\n",
       "    </tr>\n",
       "    <tr>\n",
       "      <th>1</th>\n",
       "      <td>73</td>\n",
       "      <td>Spirit Airlines</td>\n",
       "      <td>1 stop</td>\n",
       "      <td>25h 28m</td>\n",
       "      <td>ATL</td>\n",
       "      <td>LAX</td>\n",
       "      <td>6/1/23</td>\n",
       "    </tr>\n",
       "    <tr>\n",
       "      <th>2</th>\n",
       "      <td>209</td>\n",
       "      <td>American Airlines</td>\n",
       "      <td>1 stop</td>\n",
       "      <td>6h 15m</td>\n",
       "      <td>ATL</td>\n",
       "      <td>LAX</td>\n",
       "      <td>6/1/23</td>\n",
       "    </tr>\n",
       "    <tr>\n",
       "      <th>3</th>\n",
       "      <td>159</td>\n",
       "      <td>United Airlines</td>\n",
       "      <td>1 stop</td>\n",
       "      <td>6h 55m</td>\n",
       "      <td>ATL</td>\n",
       "      <td>LAX</td>\n",
       "      <td>6/1/23</td>\n",
       "    </tr>\n",
       "    <tr>\n",
       "      <th>4</th>\n",
       "      <td>204</td>\n",
       "      <td>United Airlines</td>\n",
       "      <td>1 stop</td>\n",
       "      <td>6h 10m</td>\n",
       "      <td>ATL</td>\n",
       "      <td>LAX</td>\n",
       "      <td>6/1/23</td>\n",
       "    </tr>\n",
       "    <tr>\n",
       "      <th>...</th>\n",
       "      <td>...</td>\n",
       "      <td>...</td>\n",
       "      <td>...</td>\n",
       "      <td>...</td>\n",
       "      <td>...</td>\n",
       "      <td>...</td>\n",
       "      <td>...</td>\n",
       "    </tr>\n",
       "    <tr>\n",
       "      <th>158633</th>\n",
       "      <td>982</td>\n",
       "      <td>American Airlines</td>\n",
       "      <td>1 stop</td>\n",
       "      <td>21h 55m</td>\n",
       "      <td>SFO</td>\n",
       "      <td>LAX</td>\n",
       "      <td>8/31/23</td>\n",
       "    </tr>\n",
       "    <tr>\n",
       "      <th>158634</th>\n",
       "      <td>712</td>\n",
       "      <td>Spirit Airlines, Sun Country Air</td>\n",
       "      <td>2 stops</td>\n",
       "      <td>31h 15m</td>\n",
       "      <td>SFO</td>\n",
       "      <td>LAX</td>\n",
       "      <td>8/31/23</td>\n",
       "    </tr>\n",
       "    <tr>\n",
       "      <th>158635</th>\n",
       "      <td>702</td>\n",
       "      <td>Spirit Airlines, Sun Country Air</td>\n",
       "      <td>2 stops</td>\n",
       "      <td>32h 27m</td>\n",
       "      <td>SFO</td>\n",
       "      <td>LAX</td>\n",
       "      <td>8/31/23</td>\n",
       "    </tr>\n",
       "    <tr>\n",
       "      <th>158636</th>\n",
       "      <td>737</td>\n",
       "      <td>Spirit Airlines, Sun Country Air</td>\n",
       "      <td>2 stops</td>\n",
       "      <td>32h 14m</td>\n",
       "      <td>SFO</td>\n",
       "      <td>LAX</td>\n",
       "      <td>8/31/23</td>\n",
       "    </tr>\n",
       "    <tr>\n",
       "      <th>158637</th>\n",
       "      <td>639</td>\n",
       "      <td>Spirit Airlines, Sun Country Air</td>\n",
       "      <td>3 stops</td>\n",
       "      <td>34h 53m</td>\n",
       "      <td>SFO</td>\n",
       "      <td>LAX</td>\n",
       "      <td>8/31/23</td>\n",
       "    </tr>\n",
       "  </tbody>\n",
       "</table>\n",
       "<p>158638 rows × 7 columns</p>\n",
       "</div>"
      ],
      "text/plain": [
       "        Price                      Company Name    Stops Duration Destination  \\\n",
       "0         254                 American Airlines  nonstop   4h 38m         ATL   \n",
       "1          73                   Spirit Airlines   1 stop  25h 28m         ATL   \n",
       "2         209                 American Airlines   1 stop   6h 15m         ATL   \n",
       "3         159                   United Airlines   1 stop   6h 55m         ATL   \n",
       "4         204                   United Airlines   1 stop   6h 10m         ATL   \n",
       "...       ...                               ...      ...      ...         ...   \n",
       "158633    982                 American Airlines   1 stop  21h 55m         SFO   \n",
       "158634    712  Spirit Airlines, Sun Country Air  2 stops  31h 15m         SFO   \n",
       "158635    702  Spirit Airlines, Sun Country Air  2 stops  32h 27m         SFO   \n",
       "158636    737  Spirit Airlines, Sun Country Air  2 stops  32h 14m         SFO   \n",
       "158637    639  Spirit Airlines, Sun Country Air  3 stops  34h 53m         SFO   \n",
       "\n",
       "       From     Date  \n",
       "0       LAX   6/1/23  \n",
       "1       LAX   6/1/23  \n",
       "2       LAX   6/1/23  \n",
       "3       LAX   6/1/23  \n",
       "4       LAX   6/1/23  \n",
       "...     ...      ...  \n",
       "158633  LAX  8/31/23  \n",
       "158634  LAX  8/31/23  \n",
       "158635  LAX  8/31/23  \n",
       "158636  LAX  8/31/23  \n",
       "158637  LAX  8/31/23  \n",
       "\n",
       "[158638 rows x 7 columns]"
      ]
     },
     "execution_count": 12,
     "metadata": {},
     "output_type": "execute_result"
    }
   ],
   "source": [
    "flights"
   ]
  },
  {
   "cell_type": "code",
   "execution_count": 13,
   "metadata": {
    "executionInfo": {
     "elapsed": 1521,
     "status": "ok",
     "timestamp": 1685987438538,
     "user": {
      "displayName": "Alvin Luu",
      "userId": "07275320099449223646"
     },
     "user_tz": 420
    },
    "id": "7MCZGNP2Lfkn"
   },
   "outputs": [
    {
     "name": "stderr",
     "output_type": "stream",
     "text": [
      "C:\\Users\\luual\\OneDrive\\Documents\\GitHub\\PiC16BGroupProject\\preprocessing.py:41: FutureWarning: The default value of regex will change from True to False in a future version.\n",
      "  df['Company Name'] = df['Company Name'].str.replace('[^\\w\\s]', '')\n",
      "C:\\Users\\luual\\OneDrive\\Documents\\GitHub\\PiC16BGroupProject\\preprocessing.py:43: FutureWarning: The default value of regex will change from True to False in a future version.\n",
      "  df['Company Name'] = df['Company Name'].str.replace('\\s+', ' ')\n",
      "C:\\Users\\luual\\OneDrive\\Documents\\GitHub\\PiC16BGroupProject\\preprocessing.py:41: FutureWarning: The default value of regex will change from True to False in a future version.\n",
      "  df['Company Name'] = df['Company Name'].str.replace('[^\\w\\s]', '')\n",
      "C:\\Users\\luual\\OneDrive\\Documents\\GitHub\\PiC16BGroupProject\\preprocessing.py:43: FutureWarning: The default value of regex will change from True to False in a future version.\n",
      "  df['Company Name'] = df['Company Name'].str.replace('\\s+', ' ')\n"
     ]
    }
   ],
   "source": [
    "flights['Duration'] = preprocessing.clean_duration(flights['Duration'])\n",
    "flights['Stops'] = flights['Stops'].apply(preprocessing.clean_stops).astype(float).fillna(-1).astype(int)\n",
    "flights['Stops'] = flights['Stops'].replace(-1, '')\n",
    "flights = preprocessing.clean_company_name(flights)\n",
    "flights = preprocessing.clean_date(flights)\n",
    "flights = preprocessing.preprocess(flights)\n",
    "flights = preprocessing.clean_destination(flights)"
   ]
  },
  {
   "cell_type": "markdown",
   "metadata": {},
   "source": [
    "As seen below, the columns of the new data frame has been encoded into values that our model can train on. We have also added a `DayOfWeek` and `Month` column as useful features that may help predict ticket prices."
   ]
  },
  {
   "cell_type": "code",
   "execution_count": 14,
   "metadata": {
    "colab": {
     "base_uri": "https://localhost:8080/",
     "height": 424
    },
    "executionInfo": {
     "elapsed": 14,
     "status": "ok",
     "timestamp": 1685987438539,
     "user": {
      "displayName": "Alvin Luu",
      "userId": "07275320099449223646"
     },
     "user_tz": 420
    },
    "id": "-WbvTkzKLvT0",
    "outputId": "62136cfa-b402-4d54-da4e-10c40eda2e68"
   },
   "outputs": [
    {
     "data": {
      "text/html": [
       "<div>\n",
       "<style scoped>\n",
       "    .dataframe tbody tr th:only-of-type {\n",
       "        vertical-align: middle;\n",
       "    }\n",
       "\n",
       "    .dataframe tbody tr th {\n",
       "        vertical-align: top;\n",
       "    }\n",
       "\n",
       "    .dataframe thead th {\n",
       "        text-align: right;\n",
       "    }\n",
       "</style>\n",
       "<table border=\"1\" class=\"dataframe\">\n",
       "  <thead>\n",
       "    <tr style=\"text-align: right;\">\n",
       "      <th></th>\n",
       "      <th>Price</th>\n",
       "      <th>Company Name</th>\n",
       "      <th>Stops</th>\n",
       "      <th>Duration</th>\n",
       "      <th>Destination</th>\n",
       "      <th>From</th>\n",
       "      <th>Date</th>\n",
       "      <th>DayOfWeek</th>\n",
       "      <th>Month</th>\n",
       "    </tr>\n",
       "  </thead>\n",
       "  <tbody>\n",
       "    <tr>\n",
       "      <th>0</th>\n",
       "      <td>254</td>\n",
       "      <td>7</td>\n",
       "      <td>0</td>\n",
       "      <td>278</td>\n",
       "      <td>0</td>\n",
       "      <td>LAX</td>\n",
       "      <td>0</td>\n",
       "      <td>4</td>\n",
       "      <td>6</td>\n",
       "    </tr>\n",
       "    <tr>\n",
       "      <th>1</th>\n",
       "      <td>73</td>\n",
       "      <td>24</td>\n",
       "      <td>1</td>\n",
       "      <td>1528</td>\n",
       "      <td>0</td>\n",
       "      <td>LAX</td>\n",
       "      <td>0</td>\n",
       "      <td>4</td>\n",
       "      <td>6</td>\n",
       "    </tr>\n",
       "    <tr>\n",
       "      <th>2</th>\n",
       "      <td>209</td>\n",
       "      <td>7</td>\n",
       "      <td>1</td>\n",
       "      <td>375</td>\n",
       "      <td>0</td>\n",
       "      <td>LAX</td>\n",
       "      <td>0</td>\n",
       "      <td>4</td>\n",
       "      <td>6</td>\n",
       "    </tr>\n",
       "    <tr>\n",
       "      <th>3</th>\n",
       "      <td>159</td>\n",
       "      <td>44</td>\n",
       "      <td>1</td>\n",
       "      <td>415</td>\n",
       "      <td>0</td>\n",
       "      <td>LAX</td>\n",
       "      <td>0</td>\n",
       "      <td>4</td>\n",
       "      <td>6</td>\n",
       "    </tr>\n",
       "    <tr>\n",
       "      <th>4</th>\n",
       "      <td>204</td>\n",
       "      <td>44</td>\n",
       "      <td>1</td>\n",
       "      <td>370</td>\n",
       "      <td>0</td>\n",
       "      <td>LAX</td>\n",
       "      <td>0</td>\n",
       "      <td>4</td>\n",
       "      <td>6</td>\n",
       "    </tr>\n",
       "    <tr>\n",
       "      <th>...</th>\n",
       "      <td>...</td>\n",
       "      <td>...</td>\n",
       "      <td>...</td>\n",
       "      <td>...</td>\n",
       "      <td>...</td>\n",
       "      <td>...</td>\n",
       "      <td>...</td>\n",
       "      <td>...</td>\n",
       "      <td>...</td>\n",
       "    </tr>\n",
       "    <tr>\n",
       "      <th>158633</th>\n",
       "      <td>982</td>\n",
       "      <td>7</td>\n",
       "      <td>1</td>\n",
       "      <td>1315</td>\n",
       "      <td>6</td>\n",
       "      <td>LAX</td>\n",
       "      <td>91</td>\n",
       "      <td>4</td>\n",
       "      <td>8</td>\n",
       "    </tr>\n",
       "    <tr>\n",
       "      <th>158634</th>\n",
       "      <td>712</td>\n",
       "      <td>34</td>\n",
       "      <td>2</td>\n",
       "      <td>1875</td>\n",
       "      <td>6</td>\n",
       "      <td>LAX</td>\n",
       "      <td>91</td>\n",
       "      <td>4</td>\n",
       "      <td>8</td>\n",
       "    </tr>\n",
       "    <tr>\n",
       "      <th>158635</th>\n",
       "      <td>702</td>\n",
       "      <td>34</td>\n",
       "      <td>2</td>\n",
       "      <td>1947</td>\n",
       "      <td>6</td>\n",
       "      <td>LAX</td>\n",
       "      <td>91</td>\n",
       "      <td>4</td>\n",
       "      <td>8</td>\n",
       "    </tr>\n",
       "    <tr>\n",
       "      <th>158636</th>\n",
       "      <td>737</td>\n",
       "      <td>34</td>\n",
       "      <td>2</td>\n",
       "      <td>1934</td>\n",
       "      <td>6</td>\n",
       "      <td>LAX</td>\n",
       "      <td>91</td>\n",
       "      <td>4</td>\n",
       "      <td>8</td>\n",
       "    </tr>\n",
       "    <tr>\n",
       "      <th>158637</th>\n",
       "      <td>639</td>\n",
       "      <td>34</td>\n",
       "      <td>3</td>\n",
       "      <td>2093</td>\n",
       "      <td>6</td>\n",
       "      <td>LAX</td>\n",
       "      <td>91</td>\n",
       "      <td>4</td>\n",
       "      <td>8</td>\n",
       "    </tr>\n",
       "  </tbody>\n",
       "</table>\n",
       "<p>158638 rows × 9 columns</p>\n",
       "</div>"
      ],
      "text/plain": [
       "        Price  Company Name Stops  Duration  Destination From  Date  \\\n",
       "0         254             7     0       278            0  LAX     0   \n",
       "1          73            24     1      1528            0  LAX     0   \n",
       "2         209             7     1       375            0  LAX     0   \n",
       "3         159            44     1       415            0  LAX     0   \n",
       "4         204            44     1       370            0  LAX     0   \n",
       "...       ...           ...   ...       ...          ...  ...   ...   \n",
       "158633    982             7     1      1315            6  LAX    91   \n",
       "158634    712            34     2      1875            6  LAX    91   \n",
       "158635    702            34     2      1947            6  LAX    91   \n",
       "158636    737            34     2      1934            6  LAX    91   \n",
       "158637    639            34     3      2093            6  LAX    91   \n",
       "\n",
       "        DayOfWeek  Month  \n",
       "0               4      6  \n",
       "1               4      6  \n",
       "2               4      6  \n",
       "3               4      6  \n",
       "4               4      6  \n",
       "...           ...    ...  \n",
       "158633          4      8  \n",
       "158634          4      8  \n",
       "158635          4      8  \n",
       "158636          4      8  \n",
       "158637          4      8  \n",
       "\n",
       "[158638 rows x 9 columns]"
      ]
     },
     "execution_count": 14,
     "metadata": {},
     "output_type": "execute_result"
    }
   ],
   "source": [
    "flights"
   ]
  },
  {
   "cell_type": "markdown",
   "metadata": {},
   "source": [
    "We are now ready to perform a train-test-split."
   ]
  },
  {
   "cell_type": "code",
   "execution_count": 15,
   "metadata": {
    "executionInfo": {
     "elapsed": 11,
     "status": "ok",
     "timestamp": 1685987449246,
     "user": {
      "displayName": "Alvin Luu",
      "userId": "07275320099449223646"
     },
     "user_tz": 420
    },
    "id": "mIiEfQ6WPNtA"
   },
   "outputs": [],
   "source": [
    "X = flights[['Company Name', 'Stops', 'Duration', 'Destination', 'Date', 'DayOfWeek', 'Month']]\n",
    "X = np.array(X).astype(float)\n",
    "y = flights['Price']\n",
    "\n",
    "X_train, X_test, y_train, y_test = train_test_split(X, y, test_size = 0.2)"
   ]
  },
  {
   "cell_type": "markdown",
   "metadata": {},
   "source": [
    "Looking at the shape of `X_train` and `y_train`, we see that there are a total of 126819 data points each with 7 features and 1 price."
   ]
  },
  {
   "cell_type": "code",
   "execution_count": 17,
   "metadata": {
    "colab": {
     "base_uri": "https://localhost:8080/"
    },
    "executionInfo": {
     "elapsed": 3,
     "status": "ok",
     "timestamp": 1685987450615,
     "user": {
      "displayName": "Alvin Luu",
      "userId": "07275320099449223646"
     },
     "user_tz": 420
    },
    "id": "AEBePlfINwUl",
    "outputId": "a4b5c65c-c4e4-4cbd-98c2-dbcaa68285d4"
   },
   "outputs": [
    {
     "data": {
      "text/plain": [
       "((126819, 7), (126819,))"
      ]
     },
     "execution_count": 17,
     "metadata": {},
     "output_type": "execute_result"
    }
   ],
   "source": [
    "X_train.shape, y_train.shape"
   ]
  },
  {
   "cell_type": "markdown",
   "metadata": {
    "id": "KeCTQlrCgvi1"
   },
   "source": [
    "## Training a model"
   ]
  },
  {
   "cell_type": "markdown",
   "metadata": {},
   "source": [
    "We will use the following model structure below."
   ]
  },
  {
   "cell_type": "code",
   "execution_count": 18,
   "metadata": {
    "executionInfo": {
     "elapsed": 1558,
     "status": "ok",
     "timestamp": 1685987455490,
     "user": {
      "displayName": "Alvin Luu",
      "userId": "07275320099449223646"
     },
     "user_tz": 420
    },
    "id": "p0ZgWEUoNy4L"
   },
   "outputs": [],
   "source": [
    "model = tf.keras.models.Sequential([\n",
    "    layers.Dense(500, activation = 'relu'),\n",
    "    layers.Dropout(.2),\n",
    "    layers.Dense(500, activation = 'relu'),\n",
    "    layers.Dropout(.2),\n",
    "    layers.Dense(500, activation = 'relu'),\n",
    "    layers.Dense(1)\n",
    "])"
   ]
  },
  {
   "cell_type": "code",
   "execution_count": 19,
   "metadata": {
    "executionInfo": {
     "elapsed": 2,
     "status": "ok",
     "timestamp": 1685987455822,
     "user": {
      "displayName": "Alvin Luu",
      "userId": "07275320099449223646"
     },
     "user_tz": 420
    },
    "id": "OaTSwf6gOTQy"
   },
   "outputs": [],
   "source": [
    "model.compile(optimizer = 'adam', loss = 'huber')"
   ]
  },
  {
   "cell_type": "code",
   "execution_count": 20,
   "metadata": {
    "colab": {
     "base_uri": "https://localhost:8080/"
    },
    "executionInfo": {
     "elapsed": 323212,
     "status": "ok",
     "timestamp": 1685987784196,
     "user": {
      "displayName": "Alvin Luu",
      "userId": "07275320099449223646"
     },
     "user_tz": 420
    },
    "id": "k-RFoAcgOY0-",
    "outputId": "76970c29-15a2-4519-bb8a-947d1edf2c8b"
   },
   "outputs": [
    {
     "name": "stdout",
     "output_type": "stream",
     "text": [
      "Epoch 1/20\n",
      "3171/3171 [==============================] - 16s 4ms/step - loss: 157.2650 - val_loss: 145.7135\n",
      "Epoch 2/20\n",
      "3171/3171 [==============================] - 15s 5ms/step - loss: 144.1944 - val_loss: 142.8638\n",
      "Epoch 3/20\n",
      "3171/3171 [==============================] - 16s 5ms/step - loss: 141.5355 - val_loss: 141.4133\n",
      "Epoch 4/20\n",
      "3171/3171 [==============================] - 14s 4ms/step - loss: 139.4045 - val_loss: 130.4239\n",
      "Epoch 5/20\n",
      "3171/3171 [==============================] - 13s 4ms/step - loss: 136.8326 - val_loss: 127.6201\n",
      "Epoch 6/20\n",
      "3171/3171 [==============================] - 14s 4ms/step - loss: 133.8753 - val_loss: 121.7676\n",
      "Epoch 7/20\n",
      "3171/3171 [==============================] - 13s 4ms/step - loss: 132.1305 - val_loss: 120.5667\n",
      "Epoch 8/20\n",
      "3171/3171 [==============================] - 13s 4ms/step - loss: 130.3667 - val_loss: 119.9825\n",
      "Epoch 9/20\n",
      "3171/3171 [==============================] - 13s 4ms/step - loss: 128.4059 - val_loss: 119.5762\n",
      "Epoch 10/20\n",
      "3171/3171 [==============================] - 13s 4ms/step - loss: 128.1437 - val_loss: 119.9984\n",
      "Epoch 11/20\n",
      "3171/3171 [==============================] - 13s 4ms/step - loss: 127.5702 - val_loss: 117.6308\n",
      "Epoch 12/20\n",
      "3171/3171 [==============================] - 13s 4ms/step - loss: 126.6768 - val_loss: 115.0976\n",
      "Epoch 13/20\n",
      "3171/3171 [==============================] - 12s 4ms/step - loss: 125.6978 - val_loss: 116.8393\n",
      "Epoch 14/20\n",
      "3171/3171 [==============================] - 12s 4ms/step - loss: 125.2600 - val_loss: 116.7495\n",
      "Epoch 15/20\n",
      "3171/3171 [==============================] - 13s 4ms/step - loss: 123.9406 - val_loss: 115.2259\n",
      "Epoch 16/20\n",
      "3171/3171 [==============================] - 13s 4ms/step - loss: 122.5963 - val_loss: 112.1134\n",
      "Epoch 17/20\n",
      "3171/3171 [==============================] - 13s 4ms/step - loss: 122.2423 - val_loss: 118.1363\n",
      "Epoch 18/20\n",
      "3171/3171 [==============================] - 13s 4ms/step - loss: 121.2117 - val_loss: 110.0145\n",
      "Epoch 19/20\n",
      "3171/3171 [==============================] - 12s 4ms/step - loss: 120.3853 - val_loss: 111.2991\n",
      "Epoch 20/20\n",
      "3171/3171 [==============================] - 12s 4ms/step - loss: 119.4246 - val_loss: 114.8653\n"
     ]
    }
   ],
   "source": [
    "history = model.fit(X_train, y_train, epochs = 20, verbose = 1, validation_split = .2)"
   ]
  },
  {
   "cell_type": "markdown",
   "metadata": {},
   "source": [
    "Through various testing, the lowest validation loss we could attain was about 110, which unfortunately is somewhat high considering ticket prices average around $300-$400."
   ]
  },
  {
   "cell_type": "code",
   "execution_count": 21,
   "metadata": {
    "colab": {
     "base_uri": "https://localhost:8080/",
     "height": 447
    },
    "executionInfo": {
     "elapsed": 626,
     "status": "ok",
     "timestamp": 1685987788736,
     "user": {
      "displayName": "Alvin Luu",
      "userId": "07275320099449223646"
     },
     "user_tz": 420
    },
    "id": "3vuyhLbWOaH0",
    "outputId": "0fbcd688-ffd4-42bd-b5de-c940d907ba18"
   },
   "outputs": [
    {
     "data": {
      "text/plain": [
       "<matplotlib.legend.Legend at 0x7fdb083de020>"
      ]
     },
     "execution_count": 21,
     "metadata": {},
     "output_type": "execute_result"
    },
    {
     "data": {
      "image/png": "[encoded data removed]",
      "text/plain": [
       "<Figure size 640x480 with 1 Axes>"
      ]
     },
     "metadata": {},
     "output_type": "display_data"
    }
   ],
   "source": [
    "plt.plot(history.history['loss'],label='training loss')\n",
    "plt.plot(history.history['val_loss'],label='validation loss')\n",
    "plt.legend()"
   ]
  },
  {
   "cell_type": "markdown",
   "metadata": {
    "id": "aahkZESCg2ua"
   },
   "source": [
    "## Evaluating the model"
   ]
  },
  {
   "cell_type": "markdown",
   "metadata": {},
   "source": [
    "Where does our model struggle to perform? We will examine some of the predictions found by the neural network, using this function that allows us to compute predictions and errors."
   ]
  },
  {
   "cell_type": "code",
   "execution_count": 24,
   "metadata": {
    "executionInfo": {
     "elapsed": 338,
     "status": "ok",
     "timestamp": 1685987828345,
     "user": {
      "displayName": "Alvin Luu",
      "userId": "07275320099449223646"
     },
     "user_tz": 420
    },
    "id": "KQ8bzhw0l1rz"
   },
   "outputs": [],
   "source": [
    "def model_summary(model):\n",
    "  '''\n",
    "  Function prints a small summary comparing predictions and actual values, and returns both.\n",
    "  '''\n",
    "\n",
    "  print('Model evaluated on test data: ')\n",
    "  model.evaluate(X_test, y_test, verbose = 2)\n",
    "  print('')\n",
    "\n",
    "  preds = model.predict(X_test)\n",
    "  preds = preds.flatten()\n",
    "  print(f'\\nPredictions: \\n{preds[:20]}')\n",
    "\n",
    "  actual = np.array(y_test)\n",
    "  print(f'\\nActual: \\n{actual[:20]}')\n",
    "  \n",
    "  return (preds, actual)\n",
    "  "
   ]
  },
  {
   "cell_type": "markdown",
   "metadata": {},
   "source": [
    "Generally, our model performs very well, but it seems that it really struggles to predict the more expensive ticket prices."
   ]
  },
  {
   "cell_type": "code",
   "execution_count": 25,
   "metadata": {
    "colab": {
     "base_uri": "https://localhost:8080/"
    },
    "executionInfo": {
     "elapsed": 4577,
     "status": "ok",
     "timestamp": 1685987833304,
     "user": {
      "displayName": "Alvin Luu",
      "userId": "07275320099449223646"
     },
     "user_tz": 420
    },
    "id": "BwtQurhRqrkI",
    "outputId": "db13693c-fbf9-4793-e52f-ca008616a232",
    "scrolled": true
   },
   "outputs": [
    {
     "name": "stdout",
     "output_type": "stream",
     "text": [
      "Model evaluated on test data: \n",
      "991/991 - 2s - loss: 115.7833 - 2s/epoch - 2ms/step\n",
      "\n",
      "991/991 [==============================] - 1s 1ms/step\n",
      "\n",
      "Predictions: \n",
      "[358.02032 302.2499  602.8917  334.7989  340.50143 459.82397 366.94888\n",
      " 519.72687 205.95583 367.27686 349.88654 340.6147  368.16223 331.7524\n",
      " 487.7619  440.7665  167.29417 309.47714 367.95142 285.4464 ]\n",
      "\n",
      "Actual: \n",
      "[397 283 626 229 480 564 469 515 337 649 501 274 403 679 587 509 146 220\n",
      " 275 303]\n"
     ]
    }
   ],
   "source": [
    "preds, actual = model_summary(model)\n",
    "error = preds - actual"
   ]
  },
  {
   "cell_type": "markdown",
   "metadata": {},
   "source": [
    "Plotting the error, we see that most error falls between 200 and -400, but there are a notable amount of outliers in the -3000 range. These are most likely extremely expensive tickets that are so rare in our data set that the model struggles to accurately predict it. "
   ]
  },
  {
   "cell_type": "code",
   "execution_count": 33,
   "metadata": {
    "colab": {
     "base_uri": "https://localhost:8080/",
     "height": 430
    },
    "executionInfo": {
     "elapsed": 1626,
     "status": "ok",
     "timestamp": 1685988067157,
     "user": {
      "displayName": "Alvin Luu",
      "userId": "07275320099449223646"
     },
     "user_tz": 420
    },
    "id": "xB5OC2wMrE1K",
    "outputId": "2c994218-c1dc-4fb4-e58f-39f22c54bc14"
   },
   "outputs": [
    {
     "data": {
      "image/png": "[encoded data removed]",
      "text/plain": [
       "<Figure size 640x480 with 1 Axes>"
      ]
     },
     "metadata": {},
     "output_type": "display_data"
    }
   ],
   "source": [
    "plt.scatter(np.arange(len(error)), \n",
    "            error, \n",
    "            c = actual, \n",
    "            alpha = .2, \n",
    "            cmap = 'viridis')\n",
    "plt.yticks([200, 0, -200, -400, -1000, -2000, -3000, -4000])\n",
    "plt.show()"
   ]
  },
  {
   "cell_type": "markdown",
   "metadata": {},
   "source": [
    "This becomes clearer as we see there are an extremely small amount of ticket prices between \\\\$1000 and \\\\$2000, and even a maximum of $4683!"
   ]
  },
  {
   "cell_type": "code",
   "execution_count": 37,
   "metadata": {
    "colab": {
     "base_uri": "https://localhost:8080/",
     "height": 517
    },
    "executionInfo": {
     "elapsed": 381,
     "status": "ok",
     "timestamp": 1685988112954,
     "user": {
      "displayName": "Alvin Luu",
      "userId": "07275320099449223646"
     },
     "user_tz": 420
    },
    "id": "7_zWU0iheSr0",
    "outputId": "8f2bb0c6-8aba-4b51-993c-e8cf8b0510e4"
   },
   "outputs": [
    {
     "data": {
      "text/plain": [
       "(array([1.12471e+05, 4.27140e+04, 2.51600e+03, 4.99000e+02, 1.00000e+02,\n",
       "        3.30000e+01, 7.00000e+00, 1.45000e+02, 3.70000e+01, 2.00000e+00]),\n",
       " array([  41. ,  505.2,  969.4, 1433.6, 1897.8, 2362. , 2826.2, 3290.4,\n",
       "        3754.6, 4218.8, 4683. ]),\n",
       " <BarContainer object of 10 artists>)"
      ]
     },
     "execution_count": 37,
     "metadata": {},
     "output_type": "execute_result"
    },
    {
     "data": {
      "image/png": "[encoded data removed]",
      "text/plain": [
       "<Figure size 640x480 with 1 Axes>"
      ]
     },
     "metadata": {},
     "output_type": "display_data"
    }
   ],
   "source": [
    "plt.hist(flights['Price'])"
   ]
  },
  {
   "cell_type": "code",
   "execution_count": 38,
   "metadata": {
    "colab": {
     "base_uri": "https://localhost:8080/"
    },
    "executionInfo": {
     "elapsed": 333,
     "status": "ok",
     "timestamp": 1685988115289,
     "user": {
      "displayName": "Alvin Luu",
      "userId": "07275320099449223646"
     },
     "user_tz": 420
    },
    "id": "fUb8M4cBef7G",
    "outputId": "a5e37bf5-a9af-4ede-f6f0-3d59395a6908"
   },
   "outputs": [
    {
     "data": {
      "text/plain": [
       "(41, 4683)"
      ]
     },
     "execution_count": 38,
     "metadata": {},
     "output_type": "execute_result"
    }
   ],
   "source": [
    "flights['Price'].min(), flights['Price'].max()"
   ]
  },
  {
   "cell_type": "code",
   "execution_count": null,
   "metadata": {
    "id": "iLkSVOVfXTrH"
   },
   "outputs": [],
   "source": []
  }
 ],
 "metadata": {
  "accelerator": "GPU",
  "colab": {
   "authorship_tag": "ABX9TyOEYN0OHpAIqqJnnYekoabq",
   "gpuType": "T4",
   "provenance": []
  },
  "kernelspec": {
   "display_name": "Python 3 (ipykernel)",
   "language": "python",
   "name": "python3"
  },
  "language_info": {
   "codemirror_mode": {
    "name": "ipython",
    "version": 3
   },
   "file_extension": ".py",
   "mimetype": "text/x-python",
   "name": "python",
   "nbconvert_exporter": "python",
   "pygments_lexer": "ipython3",
   "version": "3.9.12"
  }
 },
 "nbformat": 4,
 "nbformat_minor": 1
}
