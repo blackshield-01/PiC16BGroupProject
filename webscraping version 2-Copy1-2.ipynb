{
 "cells": [
  {
   "cell_type": "code",
   "execution_count": 2,
   "id": "b2ba57a5",
   "metadata": {},
   "outputs": [],
   "source": [
    "from time import sleep\n",
    "import pandas as pd\n",
    "from selenium import webdriver\n",
    "from bs4 import BeautifulSoup\n",
    "import os\n",
    "from selenium.webdriver.support.ui import WebDriverWait\n",
    "import requests\n",
    "from selenium.common.exceptions import NoSuchElementException\n",
    "import time\n",
    "from selenium.webdriver.common.by import By\n",
    "from selenium.webdriver.support import expected_conditions as EC\n",
    "import pandas as pd"
   ]
  },
  {
   "cell_type": "code",
   "execution_count": 3,
   "id": "6b4a4ff1",
   "metadata": {},
   "outputs": [
    {
     "name": "stdout",
     "output_type": "stream",
     "text": [
      "[<selenium.webdriver.remote.webelement.WebElement (session=\"3d97f7223e7c389ed5aa540959ec65b0\", element=\"70f6171d-ff37-49e4-80fe-28a702bf4ddd\")>, <selenium.webdriver.remote.webelement.WebElement (session=\"3d97f7223e7c389ed5aa540959ec65b0\", element=\"f69248fd-21f5-45c1-ab08-397705bf87ca\")>, <selenium.webdriver.remote.webelement.WebElement (session=\"3d97f7223e7c389ed5aa540959ec65b0\", element=\"8674897c-1c78-4b5b-874d-89b1cb74a961\")>, <selenium.webdriver.remote.webelement.WebElement (session=\"3d97f7223e7c389ed5aa540959ec65b0\", element=\"ff11fe1f-76aa-4eee-b876-1e8a2f5e7e2c\")>, <selenium.webdriver.remote.webelement.WebElement (session=\"3d97f7223e7c389ed5aa540959ec65b0\", element=\"a67b352a-65f4-46dd-97d9-62b0af4dc941\")>, <selenium.webdriver.remote.webelement.WebElement (session=\"3d97f7223e7c389ed5aa540959ec65b0\", element=\"a397894e-344d-4784-a521-8a4dbfdc9dc6\")>, <selenium.webdriver.remote.webelement.WebElement (session=\"3d97f7223e7c389ed5aa540959ec65b0\", element=\"9038e022-6f8b-4800-8235-31dd33fc52b8\")>, <selenium.webdriver.remote.webelement.WebElement (session=\"3d97f7223e7c389ed5aa540959ec65b0\", element=\"2827f326-c71e-4c2a-9f6d-cd0f503b74ce\")>, <selenium.webdriver.remote.webelement.WebElement (session=\"3d97f7223e7c389ed5aa540959ec65b0\", element=\"f8477f07-2b08-4514-a2fe-187e94445dcf\")>, <selenium.webdriver.remote.webelement.WebElement (session=\"3d97f7223e7c389ed5aa540959ec65b0\", element=\"e5e094a8-1453-4c77-9001-872d4ebfff99\")>, <selenium.webdriver.remote.webelement.WebElement (session=\"3d97f7223e7c389ed5aa540959ec65b0\", element=\"569b6170-9858-4361-9ca4-7e0adbdc99c8\")>, <selenium.webdriver.remote.webelement.WebElement (session=\"3d97f7223e7c389ed5aa540959ec65b0\", element=\"dd9a5bab-5b4a-4284-a0db-e50fc8af80da\")>, <selenium.webdriver.remote.webelement.WebElement (session=\"3d97f7223e7c389ed5aa540959ec65b0\", element=\"676e682e-aad9-4359-b5c4-75b9a288aece\")>, <selenium.webdriver.remote.webelement.WebElement (session=\"3d97f7223e7c389ed5aa540959ec65b0\", element=\"fbef2925-bab2-48fe-a361-8f4ba27d7442\")>, <selenium.webdriver.remote.webelement.WebElement (session=\"3d97f7223e7c389ed5aa540959ec65b0\", element=\"5fbdea11-b613-4cd9-8d02-0c8d476a917c\")>, <selenium.webdriver.remote.webelement.WebElement (session=\"3d97f7223e7c389ed5aa540959ec65b0\", element=\"779117d8-3b30-453d-80ca-9af050bb9405\")>, <selenium.webdriver.remote.webelement.WebElement (session=\"3d97f7223e7c389ed5aa540959ec65b0\", element=\"8a88b0bc-0e3e-45e2-8960-a5fd385c8472\")>, <selenium.webdriver.remote.webelement.WebElement (session=\"3d97f7223e7c389ed5aa540959ec65b0\", element=\"952b93f3-8756-4b20-8510-50247f17d29d\")>, <selenium.webdriver.remote.webelement.WebElement (session=\"3d97f7223e7c389ed5aa540959ec65b0\", element=\"6dc700a4-e543-4ac1-95cb-bfbea07bfd32\")>, <selenium.webdriver.remote.webelement.WebElement (session=\"3d97f7223e7c389ed5aa540959ec65b0\", element=\"1de2073d-a46b-4253-a028-6443e2e2adad\")>, <selenium.webdriver.remote.webelement.WebElement (session=\"3d97f7223e7c389ed5aa540959ec65b0\", element=\"94f649e3-db0b-41c4-a96b-8d295f930832\")>, <selenium.webdriver.remote.webelement.WebElement (session=\"3d97f7223e7c389ed5aa540959ec65b0\", element=\"6655ea9d-fbf8-4ed6-855e-50edbb5cf6ce\")>, <selenium.webdriver.remote.webelement.WebElement (session=\"3d97f7223e7c389ed5aa540959ec65b0\", element=\"042735b4-f9c0-40d6-a2ef-d490fb8ea6b8\")>, <selenium.webdriver.remote.webelement.WebElement (session=\"3d97f7223e7c389ed5aa540959ec65b0\", element=\"baf820bd-ef59-4aa7-b1a9-975829e81d14\")>, <selenium.webdriver.remote.webelement.WebElement (session=\"3d97f7223e7c389ed5aa540959ec65b0\", element=\"85a4a17a-771a-48fc-9df4-2c05ac225f0e\")>, <selenium.webdriver.remote.webelement.WebElement (session=\"3d97f7223e7c389ed5aa540959ec65b0\", element=\"66fa9f52-b218-4d51-a7e3-334e755c1370\")>, <selenium.webdriver.remote.webelement.WebElement (session=\"3d97f7223e7c389ed5aa540959ec65b0\", element=\"efe907cb-39ee-4bba-8924-cfaca71c4535\")>, <selenium.webdriver.remote.webelement.WebElement (session=\"3d97f7223e7c389ed5aa540959ec65b0\", element=\"91271cec-45f1-42d2-a0ee-3db72606ca93\")>, <selenium.webdriver.remote.webelement.WebElement (session=\"3d97f7223e7c389ed5aa540959ec65b0\", element=\"3abecade-ff08-424a-89e1-03548b4238d0\")>, <selenium.webdriver.remote.webelement.WebElement (session=\"3d97f7223e7c389ed5aa540959ec65b0\", element=\"55230342-92fe-47d8-86f9-10282f12c3c0\")>, <selenium.webdriver.remote.webelement.WebElement (session=\"3d97f7223e7c389ed5aa540959ec65b0\", element=\"dc177eb0-2073-4461-8c04-0feeee2f6f95\")>, <selenium.webdriver.remote.webelement.WebElement (session=\"3d97f7223e7c389ed5aa540959ec65b0\", element=\"65346dd1-3beb-4017-9fdf-b771878ac308\")>, <selenium.webdriver.remote.webelement.WebElement (session=\"3d97f7223e7c389ed5aa540959ec65b0\", element=\"e001e5b0-3ef8-4809-b7f4-aa6baad981f0\")>, <selenium.webdriver.remote.webelement.WebElement (session=\"3d97f7223e7c389ed5aa540959ec65b0\", element=\"542d9b14-d1da-4d1f-9007-ccaa29d30adc\")>, <selenium.webdriver.remote.webelement.WebElement (session=\"3d97f7223e7c389ed5aa540959ec65b0\", element=\"55ae111a-90b6-4b86-be22-afc4b7c4f60e\")>, <selenium.webdriver.remote.webelement.WebElement (session=\"3d97f7223e7c389ed5aa540959ec65b0\", element=\"ed9fe3e4-50e7-448e-b6fb-30aa237928e7\")>, <selenium.webdriver.remote.webelement.WebElement (session=\"3d97f7223e7c389ed5aa540959ec65b0\", element=\"aae57c32-944d-462a-b938-06440eba1ba7\")>, <selenium.webdriver.remote.webelement.WebElement (session=\"3d97f7223e7c389ed5aa540959ec65b0\", element=\"24f18d9d-f925-451d-8856-264e7202de8f\")>, <selenium.webdriver.remote.webelement.WebElement (session=\"3d97f7223e7c389ed5aa540959ec65b0\", element=\"93b14571-c3b5-4d85-9ff5-93026b109fbe\")>, <selenium.webdriver.remote.webelement.WebElement (session=\"3d97f7223e7c389ed5aa540959ec65b0\", element=\"634211f6-8e5a-489a-b556-df573e9817c6\")>, <selenium.webdriver.remote.webelement.WebElement (session=\"3d97f7223e7c389ed5aa540959ec65b0\", element=\"b27d419e-9459-488b-ad54-f2434d0eacf6\")>, <selenium.webdriver.remote.webelement.WebElement (session=\"3d97f7223e7c389ed5aa540959ec65b0\", element=\"39e2fa4e-7f9d-49a3-af9d-e95b7a1f0ea3\")>, <selenium.webdriver.remote.webelement.WebElement (session=\"3d97f7223e7c389ed5aa540959ec65b0\", element=\"3c6a410b-4bcd-411f-acfe-99979f29b925\")>, <selenium.webdriver.remote.webelement.WebElement (session=\"3d97f7223e7c389ed5aa540959ec65b0\", element=\"db7c9fe2-cb90-42b0-be85-ae8b8b851800\")>, <selenium.webdriver.remote.webelement.WebElement (session=\"3d97f7223e7c389ed5aa540959ec65b0\", element=\"402727cc-b544-4769-8c5a-a9ce8d25994c\")>, <selenium.webdriver.remote.webelement.WebElement (session=\"3d97f7223e7c389ed5aa540959ec65b0\", element=\"b580e465-be38-4026-864a-fc68c2f37b17\")>, <selenium.webdriver.remote.webelement.WebElement (session=\"3d97f7223e7c389ed5aa540959ec65b0\", element=\"1f51addf-1e1a-4af5-97d2-2faa46294cc2\")>, <selenium.webdriver.remote.webelement.WebElement (session=\"3d97f7223e7c389ed5aa540959ec65b0\", element=\"ba741a1b-126c-4068-b4cd-e23b9697faef\")>, <selenium.webdriver.remote.webelement.WebElement (session=\"3d97f7223e7c389ed5aa540959ec65b0\", element=\"51b2cdb5-8e17-430a-b88b-fd1ccbdbd0a6\")>, <selenium.webdriver.remote.webelement.WebElement (session=\"3d97f7223e7c389ed5aa540959ec65b0\", element=\"e574c19a-be53-468d-89a3-5435a0194216\")>, <selenium.webdriver.remote.webelement.WebElement (session=\"3d97f7223e7c389ed5aa540959ec65b0\", element=\"07220c36-a573-4c40-a071-07a9b68d90e8\")>, <selenium.webdriver.remote.webelement.WebElement (session=\"3d97f7223e7c389ed5aa540959ec65b0\", element=\"c68775c2-bc97-438e-9ddd-dcd12a8d1388\")>, <selenium.webdriver.remote.webelement.WebElement (session=\"3d97f7223e7c389ed5aa540959ec65b0\", element=\"9bb72f6f-560c-4296-be2d-0525d5f92752\")>, <selenium.webdriver.remote.webelement.WebElement (session=\"3d97f7223e7c389ed5aa540959ec65b0\", element=\"06b8610f-76fc-455d-ab72-e9998a08380f\")>, <selenium.webdriver.remote.webelement.WebElement (session=\"3d97f7223e7c389ed5aa540959ec65b0\", element=\"6c84c1f0-ce30-49d9-8319-c2d3ce6cf0c5\")>, <selenium.webdriver.remote.webelement.WebElement (session=\"3d97f7223e7c389ed5aa540959ec65b0\", element=\"993be465-0c7a-410c-b8cd-b42323de1889\")>, <selenium.webdriver.remote.webelement.WebElement (session=\"3d97f7223e7c389ed5aa540959ec65b0\", element=\"b463bcaa-230e-4cdb-b126-dab9ec0ef466\")>, <selenium.webdriver.remote.webelement.WebElement (session=\"3d97f7223e7c389ed5aa540959ec65b0\", element=\"40cda1e0-89be-4297-86b1-acf1f359faad\")>, <selenium.webdriver.remote.webelement.WebElement (session=\"3d97f7223e7c389ed5aa540959ec65b0\", element=\"04aebf5f-a509-4eb6-851e-46ecb430d789\")>, <selenium.webdriver.remote.webelement.WebElement (session=\"3d97f7223e7c389ed5aa540959ec65b0\", element=\"9687cf71-5e7f-4786-8275-b7ab8c96d48c\")>, <selenium.webdriver.remote.webelement.WebElement (session=\"3d97f7223e7c389ed5aa540959ec65b0\", element=\"69b094eb-0c82-42d1-ae71-b8e2b864bd23\")>, <selenium.webdriver.remote.webelement.WebElement (session=\"3d97f7223e7c389ed5aa540959ec65b0\", element=\"ca5ef4e1-adf2-428d-b92a-e85b3b549d72\")>, <selenium.webdriver.remote.webelement.WebElement (session=\"3d97f7223e7c389ed5aa540959ec65b0\", element=\"c874124c-4776-49db-a1a4-c7d8a7574097\")>, <selenium.webdriver.remote.webelement.WebElement (session=\"3d97f7223e7c389ed5aa540959ec65b0\", element=\"a92fa69b-39e8-4d6d-9e09-55bac61bcb16\")>, <selenium.webdriver.remote.webelement.WebElement (session=\"3d97f7223e7c389ed5aa540959ec65b0\", element=\"500977fa-eda9-46be-bd32-983281f34e02\")>, <selenium.webdriver.remote.webelement.WebElement (session=\"3d97f7223e7c389ed5aa540959ec65b0\", element=\"2a56ff74-afe6-48d3-a7db-b50b857567b0\")>, <selenium.webdriver.remote.webelement.WebElement (session=\"3d97f7223e7c389ed5aa540959ec65b0\", element=\"42047eb6-3de4-40a4-90e8-0d3bd84cdd3e\")>, <selenium.webdriver.remote.webelement.WebElement (session=\"3d97f7223e7c389ed5aa540959ec65b0\", element=\"1d11cdea-a0f8-4834-afb6-15d950d32a63\")>, <selenium.webdriver.remote.webelement.WebElement (session=\"3d97f7223e7c389ed5aa540959ec65b0\", element=\"5ac0c49c-02f1-41a3-8071-2b2ff1ec94d2\")>, <selenium.webdriver.remote.webelement.WebElement (session=\"3d97f7223e7c389ed5aa540959ec65b0\", element=\"61dcbd5f-39e4-4c4e-ab21-7f80639338d9\")>, <selenium.webdriver.remote.webelement.WebElement (session=\"3d97f7223e7c389ed5aa540959ec65b0\", element=\"1e16cf94-bcef-485d-8d95-902c018b2ecd\")>, <selenium.webdriver.remote.webelement.WebElement (session=\"3d97f7223e7c389ed5aa540959ec65b0\", element=\"69338943-7184-433c-a35e-01dff7eb4c29\")>, <selenium.webdriver.remote.webelement.WebElement (session=\"3d97f7223e7c389ed5aa540959ec65b0\", element=\"91e28051-32be-45ca-952c-47a253a14c36\")>, <selenium.webdriver.remote.webelement.WebElement (session=\"3d97f7223e7c389ed5aa540959ec65b0\", element=\"3665055f-5d47-47f8-b9d2-1f396b03cb64\")>, <selenium.webdriver.remote.webelement.WebElement (session=\"3d97f7223e7c389ed5aa540959ec65b0\", element=\"0da287bc-53e1-48d3-bc71-0ac7de45803a\")>, <selenium.webdriver.remote.webelement.WebElement (session=\"3d97f7223e7c389ed5aa540959ec65b0\", element=\"1db47532-24da-45fc-b049-45e9b8525131\")>, <selenium.webdriver.remote.webelement.WebElement (session=\"3d97f7223e7c389ed5aa540959ec65b0\", element=\"ef903cb0-c61a-4601-bfbe-8babb92831ae\")>, <selenium.webdriver.remote.webelement.WebElement (session=\"3d97f7223e7c389ed5aa540959ec65b0\", element=\"ac052459-6578-4288-aa99-2f2e705e65b9\")>, <selenium.webdriver.remote.webelement.WebElement (session=\"3d97f7223e7c389ed5aa540959ec65b0\", element=\"fff2d97b-525f-40f0-9342-f4d409451647\")>, <selenium.webdriver.remote.webelement.WebElement (session=\"3d97f7223e7c389ed5aa540959ec65b0\", element=\"00426ea2-aa22-408d-8330-a5806e39fe3a\")>, <selenium.webdriver.remote.webelement.WebElement (session=\"3d97f7223e7c389ed5aa540959ec65b0\", element=\"c6c74e4d-7ded-426f-9fe3-385d77cc84ea\")>, <selenium.webdriver.remote.webelement.WebElement (session=\"3d97f7223e7c389ed5aa540959ec65b0\", element=\"56be3eb1-6f71-4a50-931c-215882dc427b\")>, <selenium.webdriver.remote.webelement.WebElement (session=\"3d97f7223e7c389ed5aa540959ec65b0\", element=\"b2b52bd5-d7d4-4c26-add0-d875d388dd2a\")>, <selenium.webdriver.remote.webelement.WebElement (session=\"3d97f7223e7c389ed5aa540959ec65b0\", element=\"1e7fd478-ffe9-43f7-9c07-9ac8763725dd\")>, <selenium.webdriver.remote.webelement.WebElement (session=\"3d97f7223e7c389ed5aa540959ec65b0\", element=\"365454c3-6b33-4bdf-a2ef-5c4635a22df5\")>, <selenium.webdriver.remote.webelement.WebElement (session=\"3d97f7223e7c389ed5aa540959ec65b0\", element=\"bb077c10-5f28-439d-9991-4a9d4d640662\")>, <selenium.webdriver.remote.webelement.WebElement (session=\"3d97f7223e7c389ed5aa540959ec65b0\", element=\"49603da8-780b-4069-a767-0cb9a9f706b6\")>, <selenium.webdriver.remote.webelement.WebElement (session=\"3d97f7223e7c389ed5aa540959ec65b0\", element=\"c180a8d8-cbbd-4af9-92e7-ca7262fe88d7\")>, <selenium.webdriver.remote.webelement.WebElement (session=\"3d97f7223e7c389ed5aa540959ec65b0\", element=\"a0bf5ef1-7e7a-4529-b49a-185af53f6db7\")>, <selenium.webdriver.remote.webelement.WebElement (session=\"3d97f7223e7c389ed5aa540959ec65b0\", element=\"91b46a32-caf1-4e7c-841d-c018f352ccce\")>, <selenium.webdriver.remote.webelement.WebElement (session=\"3d97f7223e7c389ed5aa540959ec65b0\", element=\"986dce09-20b4-4cef-99c4-511422a93da3\")>, <selenium.webdriver.remote.webelement.WebElement (session=\"3d97f7223e7c389ed5aa540959ec65b0\", element=\"b8ca017c-2ce4-46c0-9f6a-a6be9d4d052c\")>, <selenium.webdriver.remote.webelement.WebElement (session=\"3d97f7223e7c389ed5aa540959ec65b0\", element=\"27608617-a600-453a-9a4a-dd196c0e8efd\")>, <selenium.webdriver.remote.webelement.WebElement (session=\"3d97f7223e7c389ed5aa540959ec65b0\", element=\"4a00b719-b6c6-45e3-a700-2d99206d04aa\")>, <selenium.webdriver.remote.webelement.WebElement (session=\"3d97f7223e7c389ed5aa540959ec65b0\", element=\"d926370b-9e48-483a-80df-84a3b22d3750\")>, <selenium.webdriver.remote.webelement.WebElement (session=\"3d97f7223e7c389ed5aa540959ec65b0\", element=\"17f1cdff-1d6c-4405-9a75-ec45b22ba9cc\")>, <selenium.webdriver.remote.webelement.WebElement (session=\"3d97f7223e7c389ed5aa540959ec65b0\", element=\"939163a5-2074-4bd3-976b-e8f61d3d9868\")>, <selenium.webdriver.remote.webelement.WebElement (session=\"3d97f7223e7c389ed5aa540959ec65b0\", element=\"b473bc3c-bb4e-4e57-8896-0d33504e9036\")>, <selenium.webdriver.remote.webelement.WebElement (session=\"3d97f7223e7c389ed5aa540959ec65b0\", element=\"d1133b0f-5c32-4eba-87fb-8c4ee27c09b1\")>, <selenium.webdriver.remote.webelement.WebElement (session=\"3d97f7223e7c389ed5aa540959ec65b0\", element=\"618a5949-b2aa-4ff3-a4e2-94a19ffb6d3e\")>, <selenium.webdriver.remote.webelement.WebElement (session=\"3d97f7223e7c389ed5aa540959ec65b0\", element=\"ce7dffd5-2f43-4701-a3d3-1a80bd99bbe3\")>, <selenium.webdriver.remote.webelement.WebElement (session=\"3d97f7223e7c389ed5aa540959ec65b0\", element=\"fdab48d2-d233-49be-8b3a-9232f15f8774\")>, <selenium.webdriver.remote.webelement.WebElement (session=\"3d97f7223e7c389ed5aa540959ec65b0\", element=\"3d904650-f227-4359-93b4-d9e168d5b93f\")>, <selenium.webdriver.remote.webelement.WebElement (session=\"3d97f7223e7c389ed5aa540959ec65b0\", element=\"68a03a86-d3da-4098-9a18-e80c293945c8\")>, <selenium.webdriver.remote.webelement.WebElement (session=\"3d97f7223e7c389ed5aa540959ec65b0\", element=\"1ad3399d-ca64-4100-93ad-a2738aeee7bd\")>, <selenium.webdriver.remote.webelement.WebElement (session=\"3d97f7223e7c389ed5aa540959ec65b0\", element=\"80288031-450a-477c-b7e5-2893c1451703\")>, <selenium.webdriver.remote.webelement.WebElement (session=\"3d97f7223e7c389ed5aa540959ec65b0\", element=\"e8f62c7b-fcfd-4952-a127-927ae1f266ef\")>, <selenium.webdriver.remote.webelement.WebElement (session=\"3d97f7223e7c389ed5aa540959ec65b0\", element=\"3a0ca5ef-df06-4030-a6bd-f2c0cd66d834\")>, <selenium.webdriver.remote.webelement.WebElement (session=\"3d97f7223e7c389ed5aa540959ec65b0\", element=\"a682539d-0034-4c06-8a0b-8b1a4bb6fbba\")>, <selenium.webdriver.remote.webelement.WebElement (session=\"3d97f7223e7c389ed5aa540959ec65b0\", element=\"a5763216-af87-4a4f-b983-210edad056e4\")>, <selenium.webdriver.remote.webelement.WebElement (session=\"3d97f7223e7c389ed5aa540959ec65b0\", element=\"7ab96cc3-62c1-45e8-b2d5-d56a0d07bc97\")>, <selenium.webdriver.remote.webelement.WebElement (session=\"3d97f7223e7c389ed5aa540959ec65b0\", element=\"731f1e51-f8ef-42eb-89e0-8e1abeb94d3a\")>, <selenium.webdriver.remote.webelement.WebElement (session=\"3d97f7223e7c389ed5aa540959ec65b0\", element=\"d42f736e-6645-426b-a041-e86c852e01ae\")>, <selenium.webdriver.remote.webelement.WebElement (session=\"3d97f7223e7c389ed5aa540959ec65b0\", element=\"2752c8ee-5747-4f3a-8e47-5218ec38e0da\")>, <selenium.webdriver.remote.webelement.WebElement (session=\"3d97f7223e7c389ed5aa540959ec65b0\", element=\"0cdfb6c2-d478-4c6a-a318-aeda3db915e6\")>, <selenium.webdriver.remote.webelement.WebElement (session=\"3d97f7223e7c389ed5aa540959ec65b0\", element=\"f5f9fa57-e5c2-456b-9dbc-5603f59867ae\")>, <selenium.webdriver.remote.webelement.WebElement (session=\"3d97f7223e7c389ed5aa540959ec65b0\", element=\"633db58a-41d9-47b4-83d5-0c525c1445fc\")>, <selenium.webdriver.remote.webelement.WebElement (session=\"3d97f7223e7c389ed5aa540959ec65b0\", element=\"b5a0ef33-13fc-4382-9459-99a313f17a07\")>, <selenium.webdriver.remote.webelement.WebElement (session=\"3d97f7223e7c389ed5aa540959ec65b0\", element=\"6c3ebbfb-d4c0-48bf-b14a-1349a9011ffe\")>, <selenium.webdriver.remote.webelement.WebElement (session=\"3d97f7223e7c389ed5aa540959ec65b0\", element=\"dbfc40ae-c614-41c6-a7e2-809b9ea08e0e\")>, <selenium.webdriver.remote.webelement.WebElement (session=\"3d97f7223e7c389ed5aa540959ec65b0\", element=\"66e0ac53-f631-47d5-942d-44015c06a2b9\")>, <selenium.webdriver.remote.webelement.WebElement (session=\"3d97f7223e7c389ed5aa540959ec65b0\", element=\"7ffa236e-de97-4acc-a602-89f8068127aa\")>, <selenium.webdriver.remote.webelement.WebElement (session=\"3d97f7223e7c389ed5aa540959ec65b0\", element=\"6e3103c6-d6d2-40b0-af05-6449e0753ade\")>, <selenium.webdriver.remote.webelement.WebElement (session=\"3d97f7223e7c389ed5aa540959ec65b0\", element=\"517d49a0-f120-4405-8fd3-437f3f159643\")>, <selenium.webdriver.remote.webelement.WebElement (session=\"3d97f7223e7c389ed5aa540959ec65b0\", element=\"a403e324-9854-4404-ad1c-e61d3191e87c\")>, <selenium.webdriver.remote.webelement.WebElement (session=\"3d97f7223e7c389ed5aa540959ec65b0\", element=\"aac46204-5132-4af1-8011-03ab3c824794\")>, <selenium.webdriver.remote.webelement.WebElement (session=\"3d97f7223e7c389ed5aa540959ec65b0\", element=\"60ddc7c3-615a-48d5-b4f7-3e95f69aa153\")>, <selenium.webdriver.remote.webelement.WebElement (session=\"3d97f7223e7c389ed5aa540959ec65b0\", element=\"f66d9f48-df94-4fb3-b443-edaab7f0ee19\")>, <selenium.webdriver.remote.webelement.WebElement (session=\"3d97f7223e7c389ed5aa540959ec65b0\", element=\"279c83ad-aaf0-44b8-b4f2-4bede9bf6e57\")>, <selenium.webdriver.remote.webelement.WebElement (session=\"3d97f7223e7c389ed5aa540959ec65b0\", element=\"b1e8ad72-2328-4d9e-a1b7-d397de167c3b\")>, <selenium.webdriver.remote.webelement.WebElement (session=\"3d97f7223e7c389ed5aa540959ec65b0\", element=\"fc52da61-e5dc-4f1a-9ab1-f7ad5f986204\")>, <selenium.webdriver.remote.webelement.WebElement (session=\"3d97f7223e7c389ed5aa540959ec65b0\", element=\"0da792a5-1a72-4ea0-aeb4-b87fb8d81ec8\")>, <selenium.webdriver.remote.webelement.WebElement (session=\"3d97f7223e7c389ed5aa540959ec65b0\", element=\"b8c1ce65-1ab8-4e78-91dc-716b391ef198\")>, <selenium.webdriver.remote.webelement.WebElement (session=\"3d97f7223e7c389ed5aa540959ec65b0\", element=\"1fd8a18f-120c-4e0d-b336-b8f269866eae\")>, <selenium.webdriver.remote.webelement.WebElement (session=\"3d97f7223e7c389ed5aa540959ec65b0\", element=\"ccf059d6-4f53-4734-8932-dd3f4cafe613\")>, <selenium.webdriver.remote.webelement.WebElement (session=\"3d97f7223e7c389ed5aa540959ec65b0\", element=\"24880411-41ca-44a8-81c9-30e9d0e66e69\")>, <selenium.webdriver.remote.webelement.WebElement (session=\"3d97f7223e7c389ed5aa540959ec65b0\", element=\"d9579379-7420-4c66-aff7-f4c245482c23\")>, <selenium.webdriver.remote.webelement.WebElement (session=\"3d97f7223e7c389ed5aa540959ec65b0\", element=\"5ca89f4f-58f2-445b-81a4-877f6e7da68c\")>, <selenium.webdriver.remote.webelement.WebElement (session=\"3d97f7223e7c389ed5aa540959ec65b0\", element=\"284ac2fb-9c3a-49c1-a494-86e1b967e38c\")>, <selenium.webdriver.remote.webelement.WebElement (session=\"3d97f7223e7c389ed5aa540959ec65b0\", element=\"ddd8999e-860c-4117-a0d3-48aea442a6a9\")>, <selenium.webdriver.remote.webelement.WebElement (session=\"3d97f7223e7c389ed5aa540959ec65b0\", element=\"133fbd3f-9e89-4d8b-9c6e-cfb3162a0dee\")>, <selenium.webdriver.remote.webelement.WebElement (session=\"3d97f7223e7c389ed5aa540959ec65b0\", element=\"c3c51b0d-b2e5-4428-9c27-56209fe0325c\")>, <selenium.webdriver.remote.webelement.WebElement (session=\"3d97f7223e7c389ed5aa540959ec65b0\", element=\"53809589-c4d8-4c72-97e4-9cc219aa21f9\")>, <selenium.webdriver.remote.webelement.WebElement (session=\"3d97f7223e7c389ed5aa540959ec65b0\", element=\"4119e62c-2634-4eb2-b721-4cdb0b8ce512\")>, <selenium.webdriver.remote.webelement.WebElement (session=\"3d97f7223e7c389ed5aa540959ec65b0\", element=\"57bc2885-ac1f-4753-94ab-bfd6ee6be20b\")>, <selenium.webdriver.remote.webelement.WebElement (session=\"3d97f7223e7c389ed5aa540959ec65b0\", element=\"b670e3ea-27a2-46cc-8a05-fd5d602f2601\")>, <selenium.webdriver.remote.webelement.WebElement (session=\"3d97f7223e7c389ed5aa540959ec65b0\", element=\"e809fdbc-ce44-4b92-a644-36210b3c5de7\")>, <selenium.webdriver.remote.webelement.WebElement (session=\"3d97f7223e7c389ed5aa540959ec65b0\", element=\"75a3c8b1-f0b2-40ca-a20d-2f143c262c8d\")>, <selenium.webdriver.remote.webelement.WebElement (session=\"3d97f7223e7c389ed5aa540959ec65b0\", element=\"a80d2c7a-bc6b-4a52-9b21-32e2a2bb3f17\")>, <selenium.webdriver.remote.webelement.WebElement (session=\"3d97f7223e7c389ed5aa540959ec65b0\", element=\"2d043255-4b92-4d32-9790-410f56e55ceb\")>]\n"
     ]
    }
   ],
   "source": [
    "driver = webdriver.Chrome()\n",
    "# url = 'https://www.kayak.com/flights/LAX-HNL/2023-07-03/2023-07-07?sort=bestflight_a'\n",
    "to_location = 'HNL'\n",
    "url = 'https://www.kayak.com/flights/LAX-{to_location}/2023-07-03?sort=bestflight_a'.format(to_location = to_location)\n",
    "driver.get(url)\n",
    "\n",
    "wait = WebDriverWait(driver, 20)\n",
    "for i in range(10):\n",
    "    show_more_button = wait.until(EC.presence_of_element_located((By.CSS_SELECTOR, '.ULvh-button.show-more-button')))\n",
    "    driver.execute_script(\"arguments[0].click();\", show_more_button)\n",
    "    try:\n",
    "        wait.until(EC.staleness_of(show_more_button))\n",
    "    except:\n",
    "        pass\n",
    "\n",
    "flight_rows = driver.find_elements(\"xpath\",'//div[@class=\"nrc6-inner\"]')\n",
    "print(flight_rows)"
   ]
  },
  {
   "cell_type": "code",
   "execution_count": 4,
   "id": "b0697331",
   "metadata": {},
   "outputs": [],
   "source": [
    "list_prices = []\n",
    "list_company_names=[]\n",
    "list_stops=[]\n",
    "list_duration=[]"
   ]
  },
  {
   "cell_type": "code",
   "execution_count": 5,
   "id": "d0494250",
   "metadata": {},
   "outputs": [
    {
     "name": "stdout",
     "output_type": "stream",
     "text": [
      "['$326', '$319', '$400', '$400', '$400', '$400', '$450', '$490', '$409', '$556', '$471', '$481', '$481', '$481', '$471', '$680', '$471', '$362', '$481', '$481', '$481', '$555', '$555', '$485', '$481', '$485', '$411', '$481', '$485', '$471', '$471', '$471', '$515', '$481', '$539', '$455', '$539', '$515', '$481', '$539', '$539', '$481', '$539', '$539', '$539', '$539', '$555', '$539', '$395', '$411', '$539', '$539', '$548', '$555', '$395', '$539', '$485', '$515', '$481', '$485', '$481', '$485', '$411', '$426', '$498', '$539', '$435', '$548', '$481', '$485', '$471', '$539', '$486', '$426', '$555', '$469', '$539', '$438', '$539', '$411', '$481', '$459', '$343', '$486', '$539', '$481', '$411', '$426', '$545', '$450', '$539', '$395', '$539', '$485', '$459', '$343', '$395', '$539', '$411', '$545', '$537', '$395', '$397', '$400', '$688', '$411', '$400', '$561', '$498', '$616', '$395', '$545', '$600', '$481', '$688', '$555', '$564', '$689', '$459', '$375', '$438', '$568', '$481', '$343', '$545', '$481', '$375', '$555', '$395', '$564', '$459', '$420', '$568', '$317', '$640', '$450', '$481', '$373', '$564', '$769', '$395', '$720', '$375', '$439', '$375', '$459', '$400', '$720', '$395', '$375']\n",
      "['American Airlines', 'Alaska Airlines', 'United Airlines', 'United Airlines', 'United Airlines', 'American Airlines', 'Delta', 'United Airlines', 'United Airlines', 'American Airlines', 'United Airlines', 'American Airlines', 'American Airlines', 'American Airlines', 'United Airlines', 'Delta', 'United Airlines', 'United Airlines', 'American Airlines', 'American Airlines', 'American Airlines', 'American Airlines', 'American Airlines', 'United Airlines', 'American Airlines', 'United Airlines', 'United Airlines', 'American Airlines', 'United Airlines', 'United Airlines', 'United Airlines', 'United Airlines', 'Hawaiian Airlines', 'American Airlines', 'United Airlines, Hawaiian Airlines', 'Hawaiian Airlines', 'United Airlines, Hawaiian Airlines', 'Hawaiian Airlines', 'American Airlines', 'United Airlines, Hawaiian Airlines', 'United Airlines, Hawaiian Airlines', 'American Airlines', 'United Airlines, Hawaiian Airlines', 'United Airlines, Hawaiian Airlines', 'United Airlines, Hawaiian Airlines', 'United Airlines, Hawaiian Airlines', 'American Airlines', 'United Airlines, Hawaiian Airlines', 'United Airlines', 'United Airlines', 'United Airlines, Hawaiian Airlines', 'United Airlines, Hawaiian Airlines', 'United Airlines, Hawaiian Airlines', 'American Airlines', 'United Airlines', 'United Airlines, Hawaiian Airlines', 'United Airlines', 'Hawaiian Airlines', 'American Airlines', 'United Airlines', 'American Airlines', 'United Airlines', 'United Airlines', 'Hawaiian Airlines', 'Alaska Airlines', 'United Airlines, Hawaiian Airlines', 'Alaska Airlines', 'United Airlines, Hawaiian Airlines', 'American Airlines', 'United Airlines', 'United Airlines', 'United Airlines, Hawaiian Airlines', 'Hawaiian Airlines', 'Hawaiian Airlines', 'American Airlines', 'United Airlines', 'United Airlines, Hawaiian Airlines', 'Alaska Airlines', 'United Airlines, Hawaiian Airlines', 'United Airlines', 'American Airlines', 'Alaska Airlines', 'United Airlines', 'Hawaiian Airlines', 'United Airlines, Hawaiian Airlines', 'American Airlines', 'United Airlines', 'Hawaiian Airlines', 'Hawaiian Airlines', 'Alaska Airlines', 'United Airlines, Hawaiian Airlines', 'United Airlines', 'United Airlines, Hawaiian Airlines', 'United Airlines', 'Alaska Airlines', 'United Airlines', 'United Airlines', 'United Airlines, Hawaiian Airlines', 'United Airlines', 'Hawaiian Airlines', 'United Airlines, Alaska Airlines', 'United Airlines', 'Alaska Airlines', 'Spirit Airlines, Hawaiian Airlines', 'American Airlines', 'United Airlines', 'Alaska Airlines', 'United Airlines, Hawaiian Airlines', 'Alaska Airlines', 'United Airlines', 'United Airlines', 'Hawaiian Airlines', 'United Airlines, Hawaiian Airlines', 'American Airlines', 'American Airlines', 'American Airlines', 'American Airlines', 'Delta', 'Alaska Airlines', 'United Airlines', 'Alaska Airlines', 'United Airlines', 'American Airlines', 'United Airlines', 'United Airlines, Alaska Airlines', 'American Airlines', 'United Airlines', 'American Airlines', 'United Airlines', 'American Airlines', 'Alaska Airlines', 'United Airlines', 'United Airlines', 'Alaska Airlines', 'American Airlines', 'Alaska Airlines', 'American Airlines', 'Alaska Airlines', 'American Airlines', 'United Airlines', 'United Airlines', 'American Airlines', 'United Airlines', 'United Airlines, Alaska Airlines', 'United Airlines', 'Alaska Airlines', 'Alaska Airlines', 'American Airlines', 'United Airlines', 'United Airlines']\n",
      "['nonstop', 'nonstop', 'nonstop', 'nonstop', 'nonstop', 'nonstop', 'nonstop', 'nonstop', '1 stop', 'nonstop', '1 stop', '1 stop', '1 stop', '1 stop', '1 stop', 'nonstop', '1 stop', '1 stop', '1 stop', '1 stop', '1 stop', '1 stop', '1 stop', '1 stop', '1 stop', '1 stop', '1 stop', '1 stop', '1 stop', '1 stop', '1 stop', '1 stop', '1 stop', '1 stop', '1 stop', '1 stop', '1 stop', '1 stop', '1 stop', '1 stop', '1 stop', '1 stop', '1 stop', '1 stop', '1 stop', '1 stop', '1 stop', '1 stop', '1 stop', '1 stop', '1 stop', '1 stop', '1 stop', '1 stop', '1 stop', '1 stop', '1 stop', '1 stop', '1 stop', '1 stop', '1 stop', '1 stop', '1 stop', '1 stop', '1 stop', '1 stop', '1 stop', '1 stop', '1 stop', '1 stop', '1 stop', '1 stop', '1 stop', '1 stop', '1 stop', '1 stop', '1 stop', '1 stop', '1 stop', '1 stop', '1 stop', '1 stop', '2 stops', '1 stop', '1 stop', '1 stop', '1 stop', '1 stop', '1 stop', '1 stop', '1 stop', '1 stop', '1 stop', '1 stop', '1 stop', '2 stops', '1 stop', '1 stop', '1 stop', '1 stop', '1 stop', '1 stop', '2 stops', '1 stop', '1 stop', '1 stop', '1 stop', '1 stop', '1 stop', '2 stops', '1 stop', '1 stop', '1 stop', '1 stop', '1 stop', '1 stop', '2 stops', '1 stop', '1 stop', '1 stop', '1 stop', '2 stops', '1 stop', '2 stops', '2 stops', '1 stop', '1 stop', '1 stop', '1 stop', '2 stops', '1 stop', '2 stops', '2 stops', '1 stop', '2 stops', '1 stop', '1 stop', '2 stops', '2 stops', '1 stop', '1 stop', '2 stops', '1 stop', '1 stop', '1 stop', '1 stop', '1 stop', '2 stops', '1 stop', '1 stop']\n",
      "['5h 48m', '6h 10m', '5h 38m', '5h 30m', '5h 40m', '5h 57m', '5h 42m', '5h 40m', '8h 24m', '5h 48m', '8h 30m', '7h 55m', '8h 30m', '8h 55m', '8h 45m', '5h 49m', '8h 45m', '10h 41m', '8h 55m', '9h 10m', '9h 38m', '8h 32m', '8h 57m', '10h 14m', '10h 25m', '10h 22m', '11h 34m', '10h 39m', '10h 38m', '10h 51m', '8h 30m', '8h 45m', '8h 17m', '8h 55m', '7h 46m', '10h 03m', '7h 49m', '9h 00m', '9h 10m', '7h 50m', '8h 33m', '9h 38m', '8h 05m', '8h 37m', '8h 40m', '8h 44m', '8h 32m', '8h 53m', '11h 16m', '11h 05m', '9h 05m', '9h 09m', '9h 00m', '8h 57m', '11h 36m', '9h 20m', '10h 14m', '9h 50m', '10h 25m', '10h 22m', '10h 25m', '10h 22m', '11h 34m', '11h 20m', '10h 15m', '9h 39m', '11h 15m', '9h 00m', '10h 39m', '10h 38m', '10h 51m', '9h 48m', '10h 39m', '11h 40m', '9h 40m', '11h 00m', '9h 57m', '11h 44m', '10h 13m', '12h 16m', '11h 24m', '11h 50m', '13h 17m', '11h 24m', '10h 35m', '11h 31m', '12h 40m', '12h 26m', '10h 35m', '12h 13m', '10h 49m', '13h 06m', '10h 55m', '11h 53m', '12h 25m', '14h 00m', '13h 33m', '11h 18m', '13h 41m', '11h 36m', '11h 15m', '14h 01m', '13h 19m', '9h 45m', '9h 31m', '13h 55m', '14h 09m', '9h 35m', '12h 45m', '10h 37m', '14h 28m', '12h 23m', '11h 20m', '13h 58m', '10h 43m', '13h 03m', '12h 37m', '11h 01m', '14h 10m', '16h 11m', '15h 04m', '13h 01m', '14h 46m', '16h 36m', '13h 07m', '14h 52m', '16h 42m', '13h 47m', '16h 16m', '13h 22m', '14h 55m', '15h 40m', '13h 25m', '17h 43m', '12h 18m', '15h 43m', '15h 14m', '16h 10m', '13h 49m', '10h 55m', '16h 53m', '11h 35m', '17h 37m', '14h 24m', '17h 37m', '16h 10m', '17h 14m', '12h 00m', '15h 55m', '18h 03m']\n"
     ]
    }
   ],
   "source": [
    "\n",
    "for WebElement in flight_rows:\n",
    "    elementHTML = WebElement.get_attribute('outerHTML')\n",
    "    elementSoup = BeautifulSoup(elementHTML, 'html.parser')\n",
    "    # price\n",
    "    temp_price = elementSoup.find(\"div\", {\"class\": \"nrc6-price-section\"})\n",
    "    price = temp_price.find(\"div\", {\"class\": \"f8F1-price-text\"})\n",
    "    list_prices.append(price.text)\n",
    "    \n",
    "    #company names#\n",
    "    company_names = elementSoup.find(\"div\",{\"class\":\"c_cgF c_cgF-mod-variant-default\"}).text\n",
    "    list_company_names.append(company_names)\n",
    "    \n",
    "    # stops\n",
    "    temp_stops = elementSoup.find(\"div\", {\"class\": \"vmXl vmXl-mod-variant-default\"})\n",
    "    stops = temp_stops.find(\"span\", {\"class\": \"JWEO-stops-text\"})\n",
    "    list_stops.append(stops.text)\n",
    "\n",
    "    #durations  \n",
    "    temp_durations = elementSoup.find(\"div\", {\"class\": \"xdW8\"})\n",
    "    durations = temp_durations.find(\"div\", {\"class\": \"vmXl vmXl-mod-variant-default\"}).text\n",
    "    list_duration.append(durations)\n",
    "\n",
    "print(list_prices)\n",
    "print(list_company_names)\n",
    "print(list_stops)\n",
    "print(list_duration)"
   ]
  },
  {
   "cell_type": "code",
   "execution_count": 6,
   "id": "6f323ff2",
   "metadata": {},
   "outputs": [],
   "source": [
    "df = pd.DataFrame({\n",
    "    'Price': list_prices,\n",
    "    'Company Name': list_company_names,\n",
    "    'Stops': list_stops,\n",
    "    'Duration': list_duration\n",
    "})"
   ]
  },
  {
   "cell_type": "code",
   "execution_count": 7,
   "id": "3c872b65",
   "metadata": {},
   "outputs": [
    {
     "data": {
      "text/html": [
       "<div>\n",
       "<style scoped>\n",
       "    .dataframe tbody tr th:only-of-type {\n",
       "        vertical-align: middle;\n",
       "    }\n",
       "\n",
       "    .dataframe tbody tr th {\n",
       "        vertical-align: top;\n",
       "    }\n",
       "\n",
       "    .dataframe thead th {\n",
       "        text-align: right;\n",
       "    }\n",
       "</style>\n",
       "<table border=\"1\" class=\"dataframe\">\n",
       "  <thead>\n",
       "    <tr style=\"text-align: right;\">\n",
       "      <th></th>\n",
       "      <th>Price</th>\n",
       "      <th>Company Name</th>\n",
       "      <th>Stops</th>\n",
       "      <th>Duration</th>\n",
       "    </tr>\n",
       "  </thead>\n",
       "  <tbody>\n",
       "    <tr>\n",
       "      <th>0</th>\n",
       "      <td>$326</td>\n",
       "      <td>American Airlines</td>\n",
       "      <td>nonstop</td>\n",
       "      <td>5h 48m</td>\n",
       "    </tr>\n",
       "    <tr>\n",
       "      <th>1</th>\n",
       "      <td>$319</td>\n",
       "      <td>Alaska Airlines</td>\n",
       "      <td>nonstop</td>\n",
       "      <td>6h 10m</td>\n",
       "    </tr>\n",
       "    <tr>\n",
       "      <th>2</th>\n",
       "      <td>$400</td>\n",
       "      <td>United Airlines</td>\n",
       "      <td>nonstop</td>\n",
       "      <td>5h 38m</td>\n",
       "    </tr>\n",
       "    <tr>\n",
       "      <th>3</th>\n",
       "      <td>$400</td>\n",
       "      <td>United Airlines</td>\n",
       "      <td>nonstop</td>\n",
       "      <td>5h 30m</td>\n",
       "    </tr>\n",
       "    <tr>\n",
       "      <th>4</th>\n",
       "      <td>$400</td>\n",
       "      <td>United Airlines</td>\n",
       "      <td>nonstop</td>\n",
       "      <td>5h 40m</td>\n",
       "    </tr>\n",
       "    <tr>\n",
       "      <th>...</th>\n",
       "      <td>...</td>\n",
       "      <td>...</td>\n",
       "      <td>...</td>\n",
       "      <td>...</td>\n",
       "    </tr>\n",
       "    <tr>\n",
       "      <th>145</th>\n",
       "      <td>$459</td>\n",
       "      <td>Alaska Airlines</td>\n",
       "      <td>1 stop</td>\n",
       "      <td>16h 10m</td>\n",
       "    </tr>\n",
       "    <tr>\n",
       "      <th>146</th>\n",
       "      <td>$400</td>\n",
       "      <td>Alaska Airlines</td>\n",
       "      <td>1 stop</td>\n",
       "      <td>17h 14m</td>\n",
       "    </tr>\n",
       "    <tr>\n",
       "      <th>147</th>\n",
       "      <td>$720</td>\n",
       "      <td>American Airlines</td>\n",
       "      <td>2 stops</td>\n",
       "      <td>12h 00m</td>\n",
       "    </tr>\n",
       "    <tr>\n",
       "      <th>148</th>\n",
       "      <td>$395</td>\n",
       "      <td>United Airlines</td>\n",
       "      <td>1 stop</td>\n",
       "      <td>15h 55m</td>\n",
       "    </tr>\n",
       "    <tr>\n",
       "      <th>149</th>\n",
       "      <td>$375</td>\n",
       "      <td>United Airlines</td>\n",
       "      <td>1 stop</td>\n",
       "      <td>18h 03m</td>\n",
       "    </tr>\n",
       "  </tbody>\n",
       "</table>\n",
       "<p>150 rows × 4 columns</p>\n",
       "</div>"
      ],
      "text/plain": [
       "    Price       Company Name    Stops Duration\n",
       "0    $326  American Airlines  nonstop   5h 48m\n",
       "1    $319    Alaska Airlines  nonstop   6h 10m\n",
       "2    $400    United Airlines  nonstop   5h 38m\n",
       "3    $400    United Airlines  nonstop   5h 30m\n",
       "4    $400    United Airlines  nonstop   5h 40m\n",
       "..    ...                ...      ...      ...\n",
       "145  $459    Alaska Airlines   1 stop  16h 10m\n",
       "146  $400    Alaska Airlines   1 stop  17h 14m\n",
       "147  $720  American Airlines  2 stops  12h 00m\n",
       "148  $395    United Airlines   1 stop  15h 55m\n",
       "149  $375    United Airlines   1 stop  18h 03m\n",
       "\n",
       "[150 rows x 4 columns]"
      ]
     },
     "execution_count": 7,
     "metadata": {},
     "output_type": "execute_result"
    }
   ],
   "source": [
    "df"
   ]
  },
  {
   "cell_type": "code",
   "execution_count": 14,
   "id": "27376b1a",
   "metadata": {},
   "outputs": [
    {
     "name": "stdout",
     "output_type": "stream",
     "text": [
      "    Price       Company Name    Stops Duration\n",
      "0    $326  American Airlines  nonstop   5h 48m\n",
      "1    $319    Alaska Airlines  nonstop   6h 10m\n",
      "2    $400    United Airlines  nonstop   5h 38m\n",
      "3    $400    United Airlines  nonstop   5h 30m\n",
      "4    $400    United Airlines  nonstop   5h 40m\n",
      "..    ...                ...      ...      ...\n",
      "145  $459    Alaska Airlines   1 stop  16h 10m\n",
      "146  $400    Alaska Airlines   1 stop  17h 14m\n",
      "147  $720  American Airlines  2 stops  12h 00m\n",
      "148  $395    United Airlines   1 stop  15h 55m\n",
      "149  $375    United Airlines   1 stop  18h 03m\n",
      "\n",
      "[150 rows x 4 columns]\n"
     ]
    }
   ],
   "source": [
    "df = pd.read_csv('flights.csv')\n",
    "print(df)\n",
    "df.to_csv('flights_output.csv', index=False)"
   ]
  },
  {
   "cell_type": "code",
   "execution_count": 13,
   "id": "9bc86b5d",
   "metadata": {},
   "outputs": [],
   "source": []
  },
  {
   "cell_type": "code",
   "execution_count": null,
   "id": "68639d19",
   "metadata": {},
   "outputs": [],
   "source": []
  }
 ],
 "metadata": {
  "kernelspec": {
   "display_name": "Python 3 (ipykernel)",
   "language": "python",
   "name": "python3"
  },
  "language_info": {
   "codemirror_mode": {
    "name": "ipython",
    "version": 3
   },
   "file_extension": ".py",
   "mimetype": "text/x-python",
   "name": "python",
   "nbconvert_exporter": "python",
   "pygments_lexer": "ipython3",
   "version": "3.9.7"
  }
 },
 "nbformat": 4,
 "nbformat_minor": 5
}
