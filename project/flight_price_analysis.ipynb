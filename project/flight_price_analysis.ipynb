{
 "cells": [
  {
   "cell_type": "code",
   "execution_count": 1,
   "id": "b9779aba",
   "metadata": {},
   "outputs": [],
   "source": [
    "import numpy as np\n",
    "import pandas as pd\n",
    "import matplotlib.pyplot as plt\n",
    "import seaborn as sns\n",
    "import pickle as pkl\n",
    "\n",
    "sns.set()\n",
    "\n",
    "from sklearn.model_selection import train_test_split, RandomizedSearchCV\n",
    "from sklearn.linear_model import LinearRegression, Ridge, Lasso, ElasticNet\n",
    "from sklearn.preprocessing import StandardScaler, PolynomialFeatures\n",
    "from sklearn.pipeline import make_pipeline\n",
    "from sklearn.model_selection import cross_val_score, train_test_split, KFold, GridSearchCV\n",
    "from sklearn.ensemble import RandomForestRegressor, ExtraTreesRegressor\n",
    "from sklearn import metrics"
   ]
  },
  {
   "cell_type": "code",
   "execution_count": 2,
   "id": "1d4296bd",
   "metadata": {},
   "outputs": [],
   "source": [
    "df1 = pd.read_csv(\"flight_LAX_JFK_data_0601_0831.csv\")"
   ]
  },
  {
   "cell_type": "code",
   "execution_count": 3,
   "id": "5755fdcd",
   "metadata": {},
   "outputs": [
    {
     "name": "stderr",
     "output_type": "stream",
     "text": [
      "/var/folders/46/pfdkgb65581clhq5m08ccz700000gn/T/ipykernel_9902/2129029691.py:2: FutureWarning: The default value of regex will change from True to False in a future version. In addition, single character regular expressions will *not* be treated as literal strings when regex=True.\n",
      "  df1['Price'] = df1['Price'].str.replace('$', '')\n"
     ]
    }
   ],
   "source": [
    "df1 = df1[~df1['Price'].str.contains(\"Info\")]\n",
    "df1['Price'] = df1['Price'].str.replace('$', '')\n",
    "df1.to_csv(\"flight_LAX_JFK_data.csv\", index=False)"
   ]
  },
  {
   "cell_type": "code",
   "execution_count": 4,
   "id": "ce9bb58f",
   "metadata": {
    "scrolled": true
   },
   "outputs": [
    {
     "name": "stdout",
     "output_type": "stream",
     "text": [
      "LAX => JFK has 12471 flights from June 01 to August 31\n"
     ]
    }
   ],
   "source": [
    "print(f\"{df1['From'][0]} => {df1['Destination'][0]} has {df1.shape[0]} flights from June 01 to August 31\")"
   ]
  },
  {
   "cell_type": "code",
   "execution_count": 5,
   "id": "b3a4ed7b",
   "metadata": {},
   "outputs": [],
   "source": [
    "def clean_date(date):\n",
    "    date = pd.to_datetime(date)\n",
    "    return date"
   ]
  },
  {
   "cell_type": "code",
   "execution_count": 6,
   "id": "33065d4c",
   "metadata": {},
   "outputs": [],
   "source": [
    "def convert_to_minutes(timing): \n",
    "    hours, minutes = timing.split('h')\n",
    "    hours = int(hours.strip())\n",
    "    minutes = int(minutes.strip('m'))\n",
    "    total_minutes = hours * 60 + minutes\n",
    "    return total_minutes"
   ]
  },
  {
   "cell_type": "code",
   "execution_count": 7,
   "id": "e6c5379d",
   "metadata": {
    "scrolled": false
   },
   "outputs": [],
   "source": [
    "df1[\"Duration\"] = df1[\"Duration\"].apply(convert_to_minutes)"
   ]
  },
  {
   "cell_type": "code",
   "execution_count": 8,
   "id": "bf6cb6b5",
   "metadata": {},
   "outputs": [],
   "source": [
    "df1 = df1.rename(columns={'Price': 'Price(USD)'})\n",
    "df1 = df1.rename(columns={'Duration': 'Duration(min)'})"
   ]
  },
  {
   "cell_type": "code",
   "execution_count": 9,
   "id": "b0fccd01",
   "metadata": {},
   "outputs": [],
   "source": [
    "df1[\"Date\"] = df1[\"Date\"].apply(clean_date)"
   ]
  },
  {
   "cell_type": "code",
   "execution_count": 10,
   "id": "45c72983",
   "metadata": {},
   "outputs": [],
   "source": [
    "df1['Price(USD)'] = df1['Price(USD)'].str.replace(',', '')"
   ]
  },
  {
   "cell_type": "code",
   "execution_count": 11,
   "id": "6d46d8ca",
   "metadata": {},
   "outputs": [],
   "source": [
    "df1['Price(USD)'] = df1['Price(USD)'].astype(int)"
   ]
  },
  {
   "cell_type": "code",
   "execution_count": 12,
   "id": "d1ac99a1",
   "metadata": {},
   "outputs": [],
   "source": [
    "df1['Duration(min)'] = df1['Duration(min)'].astype(int)"
   ]
  },
  {
   "cell_type": "code",
   "execution_count": 20,
   "id": "f18ecf13",
   "metadata": {},
   "outputs": [],
   "source": [
    "def clean_stops(stops):\n",
    "    if stops == 'nonstop':\n",
    "        return 0\n",
    "    elif stops == '1 stop':\n",
    "        return 1\n",
    "    elif stops == '2 stops':\n",
    "        return 2\n",
    "    elif stops == '3 stops':\n",
    "        return 3\n",
    "    else:\n",
    "        return np.nan"
   ]
  },
  {
   "cell_type": "code",
   "execution_count": 21,
   "id": "2f6fd394",
   "metadata": {},
   "outputs": [],
   "source": [
    "df1[\"Stops\"] = df1[\"Stops\"].apply(clean_stops)"
   ]
  },
  {
   "cell_type": "code",
   "execution_count": 22,
   "id": "2e27905a",
   "metadata": {
    "scrolled": true
   },
   "outputs": [
    {
     "data": {
      "text/html": [
       "<div>\n",
       "<style scoped>\n",
       "    .dataframe tbody tr th:only-of-type {\n",
       "        vertical-align: middle;\n",
       "    }\n",
       "\n",
       "    .dataframe tbody tr th {\n",
       "        vertical-align: top;\n",
       "    }\n",
       "\n",
       "    .dataframe thead th {\n",
       "        text-align: right;\n",
       "    }\n",
       "</style>\n",
       "<table border=\"1\" class=\"dataframe\">\n",
       "  <thead>\n",
       "    <tr style=\"text-align: right;\">\n",
       "      <th></th>\n",
       "      <th>Price(USD)</th>\n",
       "      <th>Company Name</th>\n",
       "      <th>Stops</th>\n",
       "      <th>Duration(min)</th>\n",
       "      <th>Destination</th>\n",
       "      <th>From</th>\n",
       "      <th>Date</th>\n",
       "    </tr>\n",
       "  </thead>\n",
       "  <tbody>\n",
       "    <tr>\n",
       "      <th>0</th>\n",
       "      <td>249</td>\n",
       "      <td>American Airlines</td>\n",
       "      <td>0</td>\n",
       "      <td>334</td>\n",
       "      <td>JFK</td>\n",
       "      <td>LAX</td>\n",
       "      <td>2023-06-01</td>\n",
       "    </tr>\n",
       "    <tr>\n",
       "      <th>1</th>\n",
       "      <td>227</td>\n",
       "      <td>American Airlines</td>\n",
       "      <td>1</td>\n",
       "      <td>485</td>\n",
       "      <td>JFK</td>\n",
       "      <td>LAX</td>\n",
       "      <td>2023-06-01</td>\n",
       "    </tr>\n",
       "    <tr>\n",
       "      <th>2</th>\n",
       "      <td>286</td>\n",
       "      <td>American Airlines</td>\n",
       "      <td>0</td>\n",
       "      <td>335</td>\n",
       "      <td>JFK</td>\n",
       "      <td>LAX</td>\n",
       "      <td>2023-06-01</td>\n",
       "    </tr>\n",
       "    <tr>\n",
       "      <th>3</th>\n",
       "      <td>299</td>\n",
       "      <td>American Airlines</td>\n",
       "      <td>0</td>\n",
       "      <td>335</td>\n",
       "      <td>JFK</td>\n",
       "      <td>LAX</td>\n",
       "      <td>2023-06-01</td>\n",
       "    </tr>\n",
       "    <tr>\n",
       "      <th>4</th>\n",
       "      <td>299</td>\n",
       "      <td>American Airlines</td>\n",
       "      <td>0</td>\n",
       "      <td>340</td>\n",
       "      <td>JFK</td>\n",
       "      <td>LAX</td>\n",
       "      <td>2023-06-01</td>\n",
       "    </tr>\n",
       "    <tr>\n",
       "      <th>...</th>\n",
       "      <td>...</td>\n",
       "      <td>...</td>\n",
       "      <td>...</td>\n",
       "      <td>...</td>\n",
       "      <td>...</td>\n",
       "      <td>...</td>\n",
       "      <td>...</td>\n",
       "    </tr>\n",
       "    <tr>\n",
       "      <th>12466</th>\n",
       "      <td>372</td>\n",
       "      <td>American Airlines</td>\n",
       "      <td>1</td>\n",
       "      <td>622</td>\n",
       "      <td>JFK</td>\n",
       "      <td>LAX</td>\n",
       "      <td>2023-08-31</td>\n",
       "    </tr>\n",
       "    <tr>\n",
       "      <th>12467</th>\n",
       "      <td>374</td>\n",
       "      <td>American Airlines</td>\n",
       "      <td>1</td>\n",
       "      <td>629</td>\n",
       "      <td>JFK</td>\n",
       "      <td>LAX</td>\n",
       "      <td>2023-08-31</td>\n",
       "    </tr>\n",
       "    <tr>\n",
       "      <th>12468</th>\n",
       "      <td>344</td>\n",
       "      <td>JetBlue</td>\n",
       "      <td>1</td>\n",
       "      <td>648</td>\n",
       "      <td>JFK</td>\n",
       "      <td>LAX</td>\n",
       "      <td>2023-08-31</td>\n",
       "    </tr>\n",
       "    <tr>\n",
       "      <th>12469</th>\n",
       "      <td>293</td>\n",
       "      <td>JetBlue</td>\n",
       "      <td>1</td>\n",
       "      <td>696</td>\n",
       "      <td>JFK</td>\n",
       "      <td>LAX</td>\n",
       "      <td>2023-08-31</td>\n",
       "    </tr>\n",
       "    <tr>\n",
       "      <th>12470</th>\n",
       "      <td>378</td>\n",
       "      <td>American Airlines</td>\n",
       "      <td>2</td>\n",
       "      <td>615</td>\n",
       "      <td>JFK</td>\n",
       "      <td>LAX</td>\n",
       "      <td>2023-08-31</td>\n",
       "    </tr>\n",
       "  </tbody>\n",
       "</table>\n",
       "<p>12471 rows × 7 columns</p>\n",
       "</div>"
      ],
      "text/plain": [
       "       Price(USD)       Company Name  Stops  Duration(min) Destination From  \\\n",
       "0             249  American Airlines      0            334         JFK  LAX   \n",
       "1             227  American Airlines      1            485         JFK  LAX   \n",
       "2             286  American Airlines      0            335         JFK  LAX   \n",
       "3             299  American Airlines      0            335         JFK  LAX   \n",
       "4             299  American Airlines      0            340         JFK  LAX   \n",
       "...           ...                ...    ...            ...         ...  ...   \n",
       "12466         372  American Airlines      1            622         JFK  LAX   \n",
       "12467         374  American Airlines      1            629         JFK  LAX   \n",
       "12468         344            JetBlue      1            648         JFK  LAX   \n",
       "12469         293            JetBlue      1            696         JFK  LAX   \n",
       "12470         378  American Airlines      2            615         JFK  LAX   \n",
       "\n",
       "            Date  \n",
       "0     2023-06-01  \n",
       "1     2023-06-01  \n",
       "2     2023-06-01  \n",
       "3     2023-06-01  \n",
       "4     2023-06-01  \n",
       "...          ...  \n",
       "12466 2023-08-31  \n",
       "12467 2023-08-31  \n",
       "12468 2023-08-31  \n",
       "12469 2023-08-31  \n",
       "12470 2023-08-31  \n",
       "\n",
       "[12471 rows x 7 columns]"
      ]
     },
     "execution_count": 22,
     "metadata": {},
     "output_type": "execute_result"
    }
   ],
   "source": [
    "df1"
   ]
  },
  {
   "cell_type": "code",
   "execution_count": 23,
   "id": "1e45bc67",
   "metadata": {},
   "outputs": [
    {
     "data": {
      "text/html": [
       "<div>\n",
       "<style scoped>\n",
       "    .dataframe tbody tr th:only-of-type {\n",
       "        vertical-align: middle;\n",
       "    }\n",
       "\n",
       "    .dataframe tbody tr th {\n",
       "        vertical-align: top;\n",
       "    }\n",
       "\n",
       "    .dataframe thead th {\n",
       "        text-align: right;\n",
       "    }\n",
       "</style>\n",
       "<table border=\"1\" class=\"dataframe\">\n",
       "  <thead>\n",
       "    <tr style=\"text-align: right;\">\n",
       "      <th></th>\n",
       "      <th>Price(USD)</th>\n",
       "      <th>Duration(min)</th>\n",
       "      <th>Stops</th>\n",
       "    </tr>\n",
       "  </thead>\n",
       "  <tbody>\n",
       "    <tr>\n",
       "      <th>0</th>\n",
       "      <td>249</td>\n",
       "      <td>334</td>\n",
       "      <td>0</td>\n",
       "    </tr>\n",
       "    <tr>\n",
       "      <th>1</th>\n",
       "      <td>227</td>\n",
       "      <td>485</td>\n",
       "      <td>1</td>\n",
       "    </tr>\n",
       "    <tr>\n",
       "      <th>2</th>\n",
       "      <td>286</td>\n",
       "      <td>335</td>\n",
       "      <td>0</td>\n",
       "    </tr>\n",
       "    <tr>\n",
       "      <th>3</th>\n",
       "      <td>299</td>\n",
       "      <td>335</td>\n",
       "      <td>0</td>\n",
       "    </tr>\n",
       "    <tr>\n",
       "      <th>4</th>\n",
       "      <td>299</td>\n",
       "      <td>340</td>\n",
       "      <td>0</td>\n",
       "    </tr>\n",
       "    <tr>\n",
       "      <th>...</th>\n",
       "      <td>...</td>\n",
       "      <td>...</td>\n",
       "      <td>...</td>\n",
       "    </tr>\n",
       "    <tr>\n",
       "      <th>12466</th>\n",
       "      <td>372</td>\n",
       "      <td>622</td>\n",
       "      <td>1</td>\n",
       "    </tr>\n",
       "    <tr>\n",
       "      <th>12467</th>\n",
       "      <td>374</td>\n",
       "      <td>629</td>\n",
       "      <td>1</td>\n",
       "    </tr>\n",
       "    <tr>\n",
       "      <th>12468</th>\n",
       "      <td>344</td>\n",
       "      <td>648</td>\n",
       "      <td>1</td>\n",
       "    </tr>\n",
       "    <tr>\n",
       "      <th>12469</th>\n",
       "      <td>293</td>\n",
       "      <td>696</td>\n",
       "      <td>1</td>\n",
       "    </tr>\n",
       "    <tr>\n",
       "      <th>12470</th>\n",
       "      <td>378</td>\n",
       "      <td>615</td>\n",
       "      <td>2</td>\n",
       "    </tr>\n",
       "  </tbody>\n",
       "</table>\n",
       "<p>12471 rows × 3 columns</p>\n",
       "</div>"
      ],
      "text/plain": [
       "       Price(USD)  Duration(min)  Stops\n",
       "0             249            334      0\n",
       "1             227            485      1\n",
       "2             286            335      0\n",
       "3             299            335      0\n",
       "4             299            340      0\n",
       "...           ...            ...    ...\n",
       "12466         372            622      1\n",
       "12467         374            629      1\n",
       "12468         344            648      1\n",
       "12469         293            696      1\n",
       "12470         378            615      2\n",
       "\n",
       "[12471 rows x 3 columns]"
      ]
     },
     "execution_count": 23,
     "metadata": {},
     "output_type": "execute_result"
    }
   ],
   "source": [
    "key = df1[['Price(USD)','Duration(min)','Stops']]\n",
    "key"
   ]
  },
  {
   "cell_type": "code",
   "execution_count": 25,
   "id": "9afe1872",
   "metadata": {},
   "outputs": [],
   "source": [
    "y = key['Price(USD)']\n",
    "X = key[['Duration(min)','Stops']]"
   ]
  },
  {
   "cell_type": "code",
   "execution_count": 26,
   "id": "5d362714",
   "metadata": {},
   "outputs": [
    {
     "data": {
      "text/plain": [
       "LinearRegression()"
      ]
     },
     "execution_count": 26,
     "metadata": {},
     "output_type": "execute_result"
    }
   ],
   "source": [
    "from sklearn import linear_model\n",
    "lm = linear_model.LinearRegression()\n",
    "lm.fit(X, y)"
   ]
  },
  {
   "cell_type": "code",
   "execution_count": 28,
   "id": "1c2488d5",
   "metadata": {},
   "outputs": [
    {
     "data": {
      "text/plain": [
       "array([396.40098916])"
      ]
     },
     "execution_count": 28,
     "metadata": {},
     "output_type": "execute_result"
    }
   ],
   "source": [
    "lm.predict([[360, 0]])"
   ]
  },
  {
   "cell_type": "code",
   "execution_count": 31,
   "id": "b25260c8",
   "metadata": {},
   "outputs": [],
   "source": [
    "pkl.dump(lm,open('flight_price_analysis.pkl','wb'))"
   ]
  },
  {
   "cell_type": "code",
   "execution_count": null,
   "id": "fe0a995a",
   "metadata": {},
   "outputs": [],
   "source": []
  }
 ],
 "metadata": {
  "kernelspec": {
   "display_name": "Python 3 (ipykernel)",
   "language": "python",
   "name": "python3"
  },
  "language_info": {
   "codemirror_mode": {
    "name": "ipython",
    "version": 3
   },
   "file_extension": ".py",
   "mimetype": "text/x-python",
   "name": "python",
   "nbconvert_exporter": "python",
   "pygments_lexer": "ipython3",
   "version": "3.9.7"
  }
 },
 "nbformat": 4,
 "nbformat_minor": 5
}
