{
 "cells": [
  {
   "cell_type": "code",
   "execution_count": 14,
   "id": "ef1815f6",
   "metadata": {},
   "outputs": [
    {
     "name": "stderr",
     "output_type": "stream",
     "text": [
      "2023-05-23 08:59:36.211819: I tensorflow/core/platform/cpu_feature_guard.cc:182] This TensorFlow binary is optimized to use available CPU instructions in performance-critical operations.\n",
      "To enable the following instructions: AVX2 FMA, in other operations, rebuild TensorFlow with the appropriate compiler flags.\n"
     ]
    }
   ],
   "source": [
    "import numpy as np\n",
    "import pandas as pd\n",
    "import matplotlib.pyplot as plt\n",
    "import seaborn as sns\n",
    "import pickle as pkl\n",
    "import re\n",
    "import tensorflow as tf\n",
    "from tensorflow.keras import layers\n",
    "sns.set()\n",
    "\n",
    "from sklearn.model_selection import train_test_split, RandomizedSearchCV\n",
    "from sklearn.linear_model import LinearRegression, Ridge, Lasso, ElasticNet\n",
    "from sklearn.preprocessing import StandardScaler, PolynomialFeatures\n",
    "from sklearn.pipeline import make_pipeline\n",
    "from sklearn.model_selection import cross_val_score, train_test_split, KFold, GridSearchCV\n",
    "from sklearn.ensemble import RandomForestRegressor, ExtraTreesRegressor\n",
    "from sklearn import metrics\n",
    "\n",
    "from sklearn.preprocessing import LabelEncoder\n",
    "from sklearn.model_selection import train_test_split\n",
    "from sklearn.preprocessing import normalize\n",
    "\n",
    "\n"
   ]
  },
  {
   "cell_type": "code",
   "execution_count": 2,
   "id": "ad40c03f",
   "metadata": {},
   "outputs": [
    {
     "name": "stdout",
     "output_type": "stream",
     "text": [
      "LAX => ATL has 34814 flights from June 01 to August 31\n"
     ]
    },
    {
     "data": {
      "text/html": [
       "<div>\n",
       "<style scoped>\n",
       "    .dataframe tbody tr th:only-of-type {\n",
       "        vertical-align: middle;\n",
       "    }\n",
       "\n",
       "    .dataframe tbody tr th {\n",
       "        vertical-align: top;\n",
       "    }\n",
       "\n",
       "    .dataframe thead th {\n",
       "        text-align: right;\n",
       "    }\n",
       "</style>\n",
       "<table border=\"1\" class=\"dataframe\">\n",
       "  <thead>\n",
       "    <tr style=\"text-align: right;\">\n",
       "      <th></th>\n",
       "      <th>Price</th>\n",
       "      <th>Company Name</th>\n",
       "      <th>Stops</th>\n",
       "      <th>Duration</th>\n",
       "      <th>Destination</th>\n",
       "      <th>From</th>\n",
       "      <th>Date</th>\n",
       "    </tr>\n",
       "  </thead>\n",
       "  <tbody>\n",
       "    <tr>\n",
       "      <th>0</th>\n",
       "      <td>254</td>\n",
       "      <td>American Airlines</td>\n",
       "      <td>nonstop</td>\n",
       "      <td>4h 38m</td>\n",
       "      <td>ATL</td>\n",
       "      <td>LAX</td>\n",
       "      <td>6/1/23</td>\n",
       "    </tr>\n",
       "    <tr>\n",
       "      <th>1</th>\n",
       "      <td>73</td>\n",
       "      <td>Spirit Airlines</td>\n",
       "      <td>1 stop</td>\n",
       "      <td>25h 28m</td>\n",
       "      <td>ATL</td>\n",
       "      <td>LAX</td>\n",
       "      <td>6/1/23</td>\n",
       "    </tr>\n",
       "    <tr>\n",
       "      <th>2</th>\n",
       "      <td>209</td>\n",
       "      <td>American Airlines</td>\n",
       "      <td>1 stop</td>\n",
       "      <td>6h 15m</td>\n",
       "      <td>ATL</td>\n",
       "      <td>LAX</td>\n",
       "      <td>6/1/23</td>\n",
       "    </tr>\n",
       "    <tr>\n",
       "      <th>3</th>\n",
       "      <td>159</td>\n",
       "      <td>United Airlines</td>\n",
       "      <td>1 stop</td>\n",
       "      <td>6h 55m</td>\n",
       "      <td>ATL</td>\n",
       "      <td>LAX</td>\n",
       "      <td>6/1/23</td>\n",
       "    </tr>\n",
       "    <tr>\n",
       "      <th>4</th>\n",
       "      <td>204</td>\n",
       "      <td>United Airlines</td>\n",
       "      <td>1 stop</td>\n",
       "      <td>6h 10m</td>\n",
       "      <td>ATL</td>\n",
       "      <td>LAX</td>\n",
       "      <td>6/1/23</td>\n",
       "    </tr>\n",
       "    <tr>\n",
       "      <th>...</th>\n",
       "      <td>...</td>\n",
       "      <td>...</td>\n",
       "      <td>...</td>\n",
       "      <td>...</td>\n",
       "      <td>...</td>\n",
       "      <td>...</td>\n",
       "      <td>...</td>\n",
       "    </tr>\n",
       "    <tr>\n",
       "      <th>34809</th>\n",
       "      <td>1174</td>\n",
       "      <td>Avianca, JetBlue</td>\n",
       "      <td>3 stops</td>\n",
       "      <td>32h 56m</td>\n",
       "      <td>ATL</td>\n",
       "      <td>LAX</td>\n",
       "      <td>8/31/23</td>\n",
       "    </tr>\n",
       "    <tr>\n",
       "      <th>34810</th>\n",
       "      <td>1174</td>\n",
       "      <td>Avianca, JetBlue</td>\n",
       "      <td>3 stops</td>\n",
       "      <td>37h 39m</td>\n",
       "      <td>ATL</td>\n",
       "      <td>LAX</td>\n",
       "      <td>8/31/23</td>\n",
       "    </tr>\n",
       "    <tr>\n",
       "      <th>34811</th>\n",
       "      <td>1201</td>\n",
       "      <td>Avianca, JetBlue</td>\n",
       "      <td>3 stops</td>\n",
       "      <td>37h 39m</td>\n",
       "      <td>ATL</td>\n",
       "      <td>LAX</td>\n",
       "      <td>8/31/23</td>\n",
       "    </tr>\n",
       "    <tr>\n",
       "      <th>34812</th>\n",
       "      <td>1174</td>\n",
       "      <td>Avianca, JetBlue</td>\n",
       "      <td>3 stops</td>\n",
       "      <td>38h 34m</td>\n",
       "      <td>ATL</td>\n",
       "      <td>LAX</td>\n",
       "      <td>8/31/23</td>\n",
       "    </tr>\n",
       "    <tr>\n",
       "      <th>34813</th>\n",
       "      <td>1201</td>\n",
       "      <td>Avianca, JetBlue</td>\n",
       "      <td>3 stops</td>\n",
       "      <td>38h 34m</td>\n",
       "      <td>ATL</td>\n",
       "      <td>LAX</td>\n",
       "      <td>8/31/23</td>\n",
       "    </tr>\n",
       "  </tbody>\n",
       "</table>\n",
       "<p>34814 rows × 7 columns</p>\n",
       "</div>"
      ],
      "text/plain": [
       "       Price       Company Name    Stops Duration Destination From     Date\n",
       "0        254  American Airlines  nonstop   4h 38m         ATL  LAX   6/1/23\n",
       "1         73    Spirit Airlines   1 stop  25h 28m         ATL  LAX   6/1/23\n",
       "2        209  American Airlines   1 stop   6h 15m         ATL  LAX   6/1/23\n",
       "3        159    United Airlines   1 stop   6h 55m         ATL  LAX   6/1/23\n",
       "4        204    United Airlines   1 stop   6h 10m         ATL  LAX   6/1/23\n",
       "...      ...                ...      ...      ...         ...  ...      ...\n",
       "34809   1174   Avianca, JetBlue  3 stops  32h 56m         ATL  LAX  8/31/23\n",
       "34810   1174   Avianca, JetBlue  3 stops  37h 39m         ATL  LAX  8/31/23\n",
       "34811   1201   Avianca, JetBlue  3 stops  37h 39m         ATL  LAX  8/31/23\n",
       "34812   1174   Avianca, JetBlue  3 stops  38h 34m         ATL  LAX  8/31/23\n",
       "34813   1201   Avianca, JetBlue  3 stops  38h 34m         ATL  LAX  8/31/23\n",
       "\n",
       "[34814 rows x 7 columns]"
      ]
     },
     "execution_count": 2,
     "metadata": {},
     "output_type": "execute_result"
    }
   ],
   "source": [
    "df1 = pd.read_csv(\"flight_LAX_ATL_data_0601_0831.csv\")\n",
    "print(f\"{df1['From'][0]} => {df1['Destination'][0]} has {df1.shape[0]} flights from June 01 to August 31\")\n",
    "df1"
   ]
  },
  {
   "cell_type": "code",
   "execution_count": 3,
   "id": "0a796cb0",
   "metadata": {},
   "outputs": [],
   "source": [
    "def remove_outliers(df):\n",
    "    Q1 = df['Price'].quantile(0.25)\n",
    "    Q3 = df['Price'].quantile(0.75)\n",
    "    IQR = Q3 - Q1\n",
    "    lower_lim = Q1 - 1.5 * IQR\n",
    "    upper_lim = Q3 + 1.5 * IQR\n",
    "    \n",
    "    # Print the dropped values\n",
    "    dropped_values = df[(df['Price'] < lower_lim) | (df['Price'] > upper_lim)]   \n",
    "    # Remove the outliers\n",
    "    df = df[(df['Price'] >= lower_lim) & (df['Price'] <= upper_lim)]\n",
    "    return df\n",
    "\n",
    "# convert duration to numerical format in minutes\n",
    "def clean_duration(duration):\n",
    "    duration = list(duration)\n",
    "    duration_hours = []\n",
    "    duration_mins = []\n",
    "    for i in range(len(duration)):\n",
    "        duration_hours.append(int(duration[i].split(sep = \"h\")[0])) \n",
    "        duration_mins.append(int(duration[i].split(sep = \"m\")[0].split()[-1])) \n",
    "\n",
    "    d = []\n",
    "    for i in range(len(duration)):\n",
    "        d.append(duration_hours[i]*60+duration_mins[i])\n",
    "        \n",
    "    return d\n",
    "\n",
    "def clean_stops(stops):\n",
    "    if stops == 'nonstop':\n",
    "        return 0\n",
    "    elif stops == '1 stop':\n",
    "        return 1\n",
    "    elif stops == '2 stops':\n",
    "        return 2\n",
    "    elif stops == '3 stops':\n",
    "        return 3\n",
    "    else:\n",
    "        return np.nan\n",
    "\n",
    "def get_avg_per_airline(x):\n",
    "    # Average for trips with single airlines\n",
    "    single_airlines = x[~x[\"Company Name\"].str.contains(\",\")]\n",
    "    avg_per_airline = single_airlines.groupby(\"Company Name\", as_index=False)[\"Price\"].mean()\n",
    "    avg_per_airline = avg_per_airline.rename(columns={\"Price\": \"Average Price\"})\n",
    "    temp = x.merge(avg_per_airline, on=\"Company Name\", how=\"left\")\n",
    "    \n",
    "    # Average for trips with multiple airlines\n",
    "    multiple_airlines = x[x[\"Company Name\"].str.contains(\",\")]\n",
    "    avg_price_multiple = multiple_airlines[\"Price\"].mean()\n",
    "    multiple_airlines = multiple_airlines.reset_index(drop=True)  # Reset index\n",
    "    temp.loc[multiple_airlines.index, \"Average Price\"] = avg_price_multiple\n",
    "    \n",
    "    return temp\n",
    "\n",
    "def clean_date(date):\n",
    "    date = pd.to_datetime(date)\n",
    "    df1['Date'] = pd.to_datetime(df1['Date'])\n",
    "    df1['DayOfWeek'] = (df1['Date'].dt.dayofweek + 1) % 7\n",
    "    df1['Month'] = df1['Date'].dt.month\n",
    "    return date\n",
    "\n",
    "def clean_company_name(df1):\n",
    "    # Remove leading and trailing whitespace\n",
    "    df1['Company Name'] = df1['Company Name'].str.strip()\n",
    "    # Remove punctuation\n",
    "    df1['Company Name'] = df1['Company Name'].str.replace('[^\\w\\s]', '')\n",
    "    # Remove extra whitespace within the company name\n",
    "    df1['Company Name'] = df1['Company Name'].str.replace('\\s+', ' ')\n",
    "    return df1\n",
    "\n"
   ]
  },
  {
   "cell_type": "code",
   "execution_count": 4,
   "id": "b0286a2e",
   "metadata": {},
   "outputs": [
    {
     "name": "stderr",
     "output_type": "stream",
     "text": [
      "/var/folders/16/21gn5t6x7f7dx4v5mtlkwz300000gn/T/ipykernel_42738/2339536939.py:67: FutureWarning: The default value of regex will change from True to False in a future version.\n",
      "  df1['Company Name'] = df1['Company Name'].str.replace('[^\\w\\s]', '')\n",
      "/var/folders/16/21gn5t6x7f7dx4v5mtlkwz300000gn/T/ipykernel_42738/2339536939.py:69: FutureWarning: The default value of regex will change from True to False in a future version.\n",
      "  df1['Company Name'] = df1['Company Name'].str.replace('\\s+', ' ')\n"
     ]
    },
    {
     "data": {
      "text/html": [
       "<div>\n",
       "<style scoped>\n",
       "    .dataframe tbody tr th:only-of-type {\n",
       "        vertical-align: middle;\n",
       "    }\n",
       "\n",
       "    .dataframe tbody tr th {\n",
       "        vertical-align: top;\n",
       "    }\n",
       "\n",
       "    .dataframe thead th {\n",
       "        text-align: right;\n",
       "    }\n",
       "</style>\n",
       "<table border=\"1\" class=\"dataframe\">\n",
       "  <thead>\n",
       "    <tr style=\"text-align: right;\">\n",
       "      <th></th>\n",
       "      <th>Price</th>\n",
       "      <th>Company Name</th>\n",
       "      <th>Stops</th>\n",
       "      <th>Duration</th>\n",
       "      <th>Destination</th>\n",
       "      <th>From</th>\n",
       "      <th>Date</th>\n",
       "      <th>DayOfWeek</th>\n",
       "      <th>Month</th>\n",
       "      <th>Average Price</th>\n",
       "    </tr>\n",
       "  </thead>\n",
       "  <tbody>\n",
       "    <tr>\n",
       "      <th>0</th>\n",
       "      <td>254</td>\n",
       "      <td>American Airlines</td>\n",
       "      <td>0</td>\n",
       "      <td>278</td>\n",
       "      <td>ATL</td>\n",
       "      <td>LAX</td>\n",
       "      <td>2023-06-01</td>\n",
       "      <td>4</td>\n",
       "      <td>6</td>\n",
       "      <td>607.705316</td>\n",
       "    </tr>\n",
       "    <tr>\n",
       "      <th>1</th>\n",
       "      <td>73</td>\n",
       "      <td>Spirit Airlines</td>\n",
       "      <td>1</td>\n",
       "      <td>1528</td>\n",
       "      <td>ATL</td>\n",
       "      <td>LAX</td>\n",
       "      <td>2023-06-01</td>\n",
       "      <td>4</td>\n",
       "      <td>6</td>\n",
       "      <td>607.705316</td>\n",
       "    </tr>\n",
       "    <tr>\n",
       "      <th>2</th>\n",
       "      <td>209</td>\n",
       "      <td>American Airlines</td>\n",
       "      <td>1</td>\n",
       "      <td>375</td>\n",
       "      <td>ATL</td>\n",
       "      <td>LAX</td>\n",
       "      <td>2023-06-01</td>\n",
       "      <td>4</td>\n",
       "      <td>6</td>\n",
       "      <td>607.705316</td>\n",
       "    </tr>\n",
       "    <tr>\n",
       "      <th>3</th>\n",
       "      <td>159</td>\n",
       "      <td>United Airlines</td>\n",
       "      <td>1</td>\n",
       "      <td>415</td>\n",
       "      <td>ATL</td>\n",
       "      <td>LAX</td>\n",
       "      <td>2023-06-01</td>\n",
       "      <td>4</td>\n",
       "      <td>6</td>\n",
       "      <td>607.705316</td>\n",
       "    </tr>\n",
       "    <tr>\n",
       "      <th>4</th>\n",
       "      <td>204</td>\n",
       "      <td>United Airlines</td>\n",
       "      <td>1</td>\n",
       "      <td>370</td>\n",
       "      <td>ATL</td>\n",
       "      <td>LAX</td>\n",
       "      <td>2023-06-01</td>\n",
       "      <td>4</td>\n",
       "      <td>6</td>\n",
       "      <td>607.705316</td>\n",
       "    </tr>\n",
       "    <tr>\n",
       "      <th>...</th>\n",
       "      <td>...</td>\n",
       "      <td>...</td>\n",
       "      <td>...</td>\n",
       "      <td>...</td>\n",
       "      <td>...</td>\n",
       "      <td>...</td>\n",
       "      <td>...</td>\n",
       "      <td>...</td>\n",
       "      <td>...</td>\n",
       "      <td>...</td>\n",
       "    </tr>\n",
       "    <tr>\n",
       "      <th>34798</th>\n",
       "      <td>896</td>\n",
       "      <td>United Airlines</td>\n",
       "      <td>3</td>\n",
       "      <td>1806</td>\n",
       "      <td>ATL</td>\n",
       "      <td>LAX</td>\n",
       "      <td>2023-08-31</td>\n",
       "      <td>4</td>\n",
       "      <td>8</td>\n",
       "      <td>371.307490</td>\n",
       "    </tr>\n",
       "    <tr>\n",
       "      <th>34800</th>\n",
       "      <td>678</td>\n",
       "      <td>Avianca Frontier</td>\n",
       "      <td>3</td>\n",
       "      <td>2162</td>\n",
       "      <td>ATL</td>\n",
       "      <td>LAX</td>\n",
       "      <td>2023-08-31</td>\n",
       "      <td>4</td>\n",
       "      <td>8</td>\n",
       "      <td>NaN</td>\n",
       "    </tr>\n",
       "    <tr>\n",
       "      <th>34803</th>\n",
       "      <td>818</td>\n",
       "      <td>Avianca Frontier</td>\n",
       "      <td>3</td>\n",
       "      <td>2000</td>\n",
       "      <td>ATL</td>\n",
       "      <td>LAX</td>\n",
       "      <td>2023-08-31</td>\n",
       "      <td>4</td>\n",
       "      <td>8</td>\n",
       "      <td>NaN</td>\n",
       "    </tr>\n",
       "    <tr>\n",
       "      <th>34804</th>\n",
       "      <td>896</td>\n",
       "      <td>United Airlines</td>\n",
       "      <td>3</td>\n",
       "      <td>1961</td>\n",
       "      <td>ATL</td>\n",
       "      <td>LAX</td>\n",
       "      <td>2023-08-31</td>\n",
       "      <td>4</td>\n",
       "      <td>8</td>\n",
       "      <td>371.307490</td>\n",
       "    </tr>\n",
       "    <tr>\n",
       "      <th>34805</th>\n",
       "      <td>598</td>\n",
       "      <td>Avianca Frontier</td>\n",
       "      <td>3</td>\n",
       "      <td>2653</td>\n",
       "      <td>ATL</td>\n",
       "      <td>LAX</td>\n",
       "      <td>2023-08-31</td>\n",
       "      <td>4</td>\n",
       "      <td>8</td>\n",
       "      <td>NaN</td>\n",
       "    </tr>\n",
       "  </tbody>\n",
       "</table>\n",
       "<p>34238 rows × 10 columns</p>\n",
       "</div>"
      ],
      "text/plain": [
       "       Price       Company Name  Stops  Duration Destination From       Date  \\\n",
       "0        254  American Airlines      0       278         ATL  LAX 2023-06-01   \n",
       "1         73    Spirit Airlines      1      1528         ATL  LAX 2023-06-01   \n",
       "2        209  American Airlines      1       375         ATL  LAX 2023-06-01   \n",
       "3        159    United Airlines      1       415         ATL  LAX 2023-06-01   \n",
       "4        204    United Airlines      1       370         ATL  LAX 2023-06-01   \n",
       "...      ...                ...    ...       ...         ...  ...        ...   \n",
       "34798    896    United Airlines      3      1806         ATL  LAX 2023-08-31   \n",
       "34800    678   Avianca Frontier      3      2162         ATL  LAX 2023-08-31   \n",
       "34803    818   Avianca Frontier      3      2000         ATL  LAX 2023-08-31   \n",
       "34804    896    United Airlines      3      1961         ATL  LAX 2023-08-31   \n",
       "34805    598   Avianca Frontier      3      2653         ATL  LAX 2023-08-31   \n",
       "\n",
       "       DayOfWeek  Month  Average Price  \n",
       "0              4      6     607.705316  \n",
       "1              4      6     607.705316  \n",
       "2              4      6     607.705316  \n",
       "3              4      6     607.705316  \n",
       "4              4      6     607.705316  \n",
       "...          ...    ...            ...  \n",
       "34798          4      8     371.307490  \n",
       "34800          4      8            NaN  \n",
       "34803          4      8            NaN  \n",
       "34804          4      8     371.307490  \n",
       "34805          4      8            NaN  \n",
       "\n",
       "[34238 rows x 10 columns]"
      ]
     },
     "execution_count": 4,
     "metadata": {},
     "output_type": "execute_result"
    }
   ],
   "source": [
    "df1['Duration'] = clean_duration(df1['Duration'])\n",
    "df1['Date'] = clean_date(df1['Date'])\n",
    "df1['Stops'] = df1['Stops'].apply(clean_stops).astype(float).fillna(-1).astype(int)\n",
    "df1['Stops'] = df1['Stops'].replace(-1, '')\n",
    "df1 = df1[df1['Stops'] != '']\n",
    "df1 = get_avg_per_airline(df1)\n",
    "df1=clean_company_name(df1)\n",
    "df1 = remove_outliers(df1)\n",
    "\n",
    "df1"
   ]
  },
  {
   "cell_type": "code",
   "execution_count": 8,
   "id": "273dd831",
   "metadata": {},
   "outputs": [],
   "source": [
    "def preprocess(df1):\n",
    "    le = LabelEncoder()\n",
    "    df1['Date'] = le.fit_transform(df1['Date'])\n",
    "    df1['Company Name'] = le.fit_transform(df1['Company Name'])\n",
    "preprocess(df1)\n",
    "     "
   ]
  },
  {
   "cell_type": "code",
   "execution_count": 10,
   "id": "b888e0bc",
   "metadata": {},
   "outputs": [],
   "source": [
    "X = df1[['Date', 'Company Name', 'Stops', 'Duration', 'DayOfWeek', 'Month']]\n",
    "X = np.array(X)\n",
    "y = df1['Price']\n",
    "\n",
    "X_train, X_test, y_train, y_test = train_test_split(X, y, test_size = 0.2)"
   ]
  },
  {
   "cell_type": "code",
   "execution_count": 11,
   "id": "bb2dad87",
   "metadata": {},
   "outputs": [
    {
     "data": {
      "text/plain": [
       "array([[   0,    3,    0,  278,    4,    6],\n",
       "       [   0,   11,    1, 1528,    4,    6],\n",
       "       [   0,    3,    1,  375,    4,    6],\n",
       "       ...,\n",
       "       [  90,    4,    3, 2000,    4,    8],\n",
       "       [  90,   16,    3, 1961,    4,    8],\n",
       "       [  90,    4,    3, 2653,    4,    8]])"
      ]
     },
     "execution_count": 11,
     "metadata": {},
     "output_type": "execute_result"
    }
   ],
   "source": [
    "X"
   ]
  },
  {
   "cell_type": "code",
   "execution_count": 12,
   "id": "061d4da8",
   "metadata": {},
   "outputs": [
    {
     "data": {
      "text/plain": [
       "((27390, 6), (27390,))"
      ]
     },
     "execution_count": 12,
     "metadata": {},
     "output_type": "execute_result"
    }
   ],
   "source": [
    "X_train.shape, y_train.shape"
   ]
  },
  {
   "cell_type": "code",
   "execution_count": 15,
   "id": "e241c1cb",
   "metadata": {},
   "outputs": [],
   "source": [
    "model = tf.keras.models.Sequential([\n",
    "    layers.Dense(500, activation = 'relu'),\n",
    "    layers.Dropout(.2),\n",
    "    layers.Dense(500, activation = 'relu'),\n",
    "    layers.Dropout(.2),\n",
    "    layers.Dense(500, activation = 'relu'),\n",
    "    layers.Dense(1)\n",
    "])"
   ]
  },
  {
   "cell_type": "code",
   "execution_count": 16,
   "id": "052ad3bf",
   "metadata": {},
   "outputs": [],
   "source": [
    "model.compile(optimizer = 'adam', loss = 'huber')"
   ]
  },
  {
   "cell_type": "code",
   "execution_count": 17,
   "id": "bb12ca92",
   "metadata": {},
   "outputs": [
    {
     "name": "stdout",
     "output_type": "stream",
     "text": [
      "Epoch 1/20\n",
      "685/685 [==============================] - 4s 4ms/step - loss: 181.7896 - val_loss: 150.9944\n",
      "Epoch 2/20\n",
      "685/685 [==============================] - 2s 3ms/step - loss: 149.8848 - val_loss: 133.4330\n",
      "Epoch 3/20\n",
      "685/685 [==============================] - 2s 4ms/step - loss: 140.6858 - val_loss: 138.7754\n",
      "Epoch 4/20\n",
      "685/685 [==============================] - 3s 4ms/step - loss: 138.3451 - val_loss: 129.6251\n",
      "Epoch 5/20\n",
      "685/685 [==============================] - 3s 4ms/step - loss: 134.6061 - val_loss: 128.8900\n",
      "Epoch 6/20\n",
      "685/685 [==============================] - 3s 4ms/step - loss: 132.5349 - val_loss: 131.8038\n",
      "Epoch 7/20\n",
      "685/685 [==============================] - 3s 4ms/step - loss: 130.7329 - val_loss: 120.1748\n",
      "Epoch 8/20\n",
      "685/685 [==============================] - 3s 4ms/step - loss: 128.8357 - val_loss: 119.3852\n",
      "Epoch 9/20\n",
      "685/685 [==============================] - 3s 4ms/step - loss: 124.7348 - val_loss: 108.8529\n",
      "Epoch 10/20\n",
      "685/685 [==============================] - 3s 4ms/step - loss: 118.9861 - val_loss: 101.8278\n",
      "Epoch 11/20\n",
      "685/685 [==============================] - 3s 4ms/step - loss: 110.5922 - val_loss: 92.9582\n",
      "Epoch 12/20\n",
      "685/685 [==============================] - 3s 4ms/step - loss: 107.9848 - val_loss: 92.8304\n",
      "Epoch 13/20\n",
      "685/685 [==============================] - 3s 4ms/step - loss: 104.3211 - val_loss: 94.2190\n",
      "Epoch 14/20\n",
      "685/685 [==============================] - 3s 4ms/step - loss: 102.3170 - val_loss: 90.3932\n",
      "Epoch 15/20\n",
      "685/685 [==============================] - 3s 4ms/step - loss: 101.6772 - val_loss: 92.5443\n",
      "Epoch 16/20\n",
      "685/685 [==============================] - 3s 4ms/step - loss: 100.0061 - val_loss: 87.8193\n",
      "Epoch 17/20\n",
      "685/685 [==============================] - 3s 4ms/step - loss: 98.7671 - val_loss: 85.7131\n",
      "Epoch 18/20\n",
      "685/685 [==============================] - 3s 4ms/step - loss: 98.4393 - val_loss: 89.5872\n",
      "Epoch 19/20\n",
      "685/685 [==============================] - 3s 4ms/step - loss: 97.3391 - val_loss: 83.2605\n",
      "Epoch 20/20\n",
      "685/685 [==============================] - 3s 4ms/step - loss: 96.9119 - val_loss: 86.7033\n"
     ]
    }
   ],
   "source": [
    "history = model.fit(X_train, y_train, epochs = 20, verbose = 1, validation_split = .2)\n"
   ]
  },
  {
   "cell_type": "code",
   "execution_count": 20,
   "id": "b5f97da9",
   "metadata": {},
   "outputs": [
    {
     "data": {
      "text/plain": [
       "<matplotlib.legend.Legend at 0x7fa0878efe80>"
      ]
     },
     "execution_count": 20,
     "metadata": {},
     "output_type": "execute_result"
    },
    {
     "data": {
      "image/png": "[encoded data removed]",
      "text/plain": [
       "<Figure size 640x480 with 1 Axes>"
      ]
     },
     "metadata": {},
     "output_type": "display_data"
    }
   ],
   "source": [
    "plt.plot(history.history['loss'],label='training loss')\n",
    "plt.plot(history.history['val_loss'],label='validation loss')\n",
    "plt.legend()"
   ]
  },
  {
   "cell_type": "code",
   "execution_count": 21,
   "id": "68a80c1b",
   "metadata": {},
   "outputs": [
    {
     "name": "stdout",
     "output_type": "stream",
     "text": [
      "214/214 - 0s - loss: 87.1378 - 339ms/epoch - 2ms/step\n"
     ]
    },
    {
     "data": {
      "text/plain": [
       "87.1378402709961"
      ]
     },
     "execution_count": 21,
     "metadata": {},
     "output_type": "execute_result"
    }
   ],
   "source": [
    "model.evaluate(X_test, y_test, verbose = 2)"
   ]
  },
  {
   "cell_type": "code",
   "execution_count": 23,
   "id": "e04a6431",
   "metadata": {},
   "outputs": [
    {
     "name": "stdout",
     "output_type": "stream",
     "text": [
      "214/214 [==============================] - 0s 1ms/step\n"
     ]
    },
    {
     "data": {
      "text/plain": [
       "array([661.1069 , 386.94003, 396.25266, 245.65813, 474.44058, 753.5105 ,\n",
       "       382.28775, 858.33563, 343.22232, 411.1259 , 401.95053, 467.06094,\n",
       "       279.20663, 325.36606, 261.71835, 753.7218 , 303.4824 , 411.52536,\n",
       "       360.0828 , 398.94254], dtype=float32)"
      ]
     },
     "execution_count": 23,
     "metadata": {},
     "output_type": "execute_result"
    }
   ],
   "source": [
    "preds = model.predict(X_test)[:20]\n",
    "preds = preds.flatten()\n",
    "preds"
   ]
  },
  {
   "cell_type": "code",
   "execution_count": 24,
   "id": "487cf5eb",
   "metadata": {},
   "outputs": [
    {
     "data": {
      "text/plain": [
       "array([310, 309, 399, 229, 573, 713, 189, 843, 323, 392, 397, 628, 313,\n",
       "       234, 602, 493, 400, 437, 309, 392])"
      ]
     },
     "execution_count": 24,
     "metadata": {},
     "output_type": "execute_result"
    }
   ],
   "source": [
    "actual = np.array(y_test[:20])\n",
    "actual"
   ]
  },
  {
   "cell_type": "code",
   "execution_count": 25,
   "id": "234581ef",
   "metadata": {},
   "outputs": [
    {
     "data": {
      "text/plain": [
       "array([ 351.10687256,   77.94003296,   -2.74734497,   16.65812683,\n",
       "        -98.55941772,   40.51049805,  193.28775024,   15.33563232,\n",
       "         20.22232056,   19.12588501,    4.95053101, -160.9390564 ,\n",
       "        -33.79336548,   91.36605835, -340.28164673,  260.72180176,\n",
       "        -96.51760864,  -25.47463989,   51.08279419,    6.9425354 ])"
      ]
     },
     "execution_count": 25,
     "metadata": {},
     "output_type": "execute_result"
    }
   ],
   "source": [
    "preds - actual"
   ]
  },
  {
   "cell_type": "code",
   "execution_count": 27,
   "id": "7b2c2afa",
   "metadata": {},
   "outputs": [
    {
     "data": {
      "text/plain": [
       "(array([ 583., 4072., 7796., 8164., 3759., 2836., 3201., 1254., 1724.,\n",
       "         849.]),\n",
       " array([ 73. , 157.5, 242. , 326.5, 411. , 495.5, 580. , 664.5, 749. ,\n",
       "        833.5, 918. ]),\n",
       " <BarContainer object of 10 artists>)"
      ]
     },
     "execution_count": 27,
     "metadata": {},
     "output_type": "execute_result"
    },
    {
     "data": {
      "image/png": "[encoded data removed]",
      "text/plain": [
       "<Figure size 640x480 with 1 Axes>"
      ]
     },
     "metadata": {},
     "output_type": "display_data"
    }
   ],
   "source": [
    "plt.hist(df1['Price'])"
   ]
  },
  {
   "cell_type": "code",
   "execution_count": 29,
   "id": "11961377",
   "metadata": {},
   "outputs": [
    {
     "data": {
      "text/plain": [
       "(73, 918)"
      ]
     },
     "execution_count": 29,
     "metadata": {},
     "output_type": "execute_result"
    }
   ],
   "source": [
    "df1['Price'].min(), df1['Price'].max()"
   ]
  },
  {
   "cell_type": "code",
   "execution_count": null,
   "id": "64ec70c4",
   "metadata": {},
   "outputs": [],
   "source": []
  }
 ],
 "metadata": {
  "kernelspec": {
   "display_name": "Python 3 (ipykernel)",
   "language": "python",
   "name": "python3"
  },
  "language_info": {
   "codemirror_mode": {
    "name": "ipython",
    "version": 3
   },
   "file_extension": ".py",
   "mimetype": "text/x-python",
   "name": "python",
   "nbconvert_exporter": "python",
   "pygments_lexer": "ipython3",
   "version": "3.9.7"
  }
 },
 "nbformat": 4,
 "nbformat_minor": 5
}
