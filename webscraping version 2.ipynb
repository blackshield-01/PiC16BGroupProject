{
 "cells": [
  {
   "cell_type": "code",
   "execution_count": 239,
   "id": "84ca5b6f",
   "metadata": {},
   "outputs": [],
   "source": [
    "from time import sleep\n",
    "import pandas as pd\n",
    "from selenium import webdriver\n",
    "from bs4 import BeautifulSoup\n",
    "import os\n",
    "from selenium.webdriver.support.ui import WebDriverWait\n"
   ]
  },
  {
   "cell_type": "code",
   "execution_count": 240,
   "id": "7b250b44",
   "metadata": {},
   "outputs": [],
   "source": [
    "driver = webdriver.Chrome()\n",
    "# url = 'https://www.kayak.com/flights/LAX-HNL/2023-07-03/2023-07-07?sort=bestflight_a'\n",
    "to_location = 'HNL'\n",
    "url = 'https://www.kayak.com/flights/LAX-{to_location}/2023-07-03/2023-07-07?sort=bestflight_a'.format(to_location = to_location)\n",
    "driver.get(url)"
   ]
  },
  {
   "cell_type": "code",
   "execution_count": 252,
   "id": "5e0f7f64",
   "metadata": {},
   "outputs": [
    {
     "name": "stdout",
     "output_type": "stream",
     "text": [
      "[<selenium.webdriver.remote.webelement.WebElement (session=\"b7a9364333615475f5a7ab4c5cad6dad\", element=\"5a530bc9-1737-4801-ba44-f5712b7ff093\")>, <selenium.webdriver.remote.webelement.WebElement (session=\"b7a9364333615475f5a7ab4c5cad6dad\", element=\"0a67f516-3ae0-4981-a591-fa7758cddc3d\")>, <selenium.webdriver.remote.webelement.WebElement (session=\"b7a9364333615475f5a7ab4c5cad6dad\", element=\"4fc3bc28-c607-43ff-acff-4e2b3673080c\")>, <selenium.webdriver.remote.webelement.WebElement (session=\"b7a9364333615475f5a7ab4c5cad6dad\", element=\"ffce37a6-4a60-4412-b65b-7d2697c85d34\")>, <selenium.webdriver.remote.webelement.WebElement (session=\"b7a9364333615475f5a7ab4c5cad6dad\", element=\"c2d8056d-7d59-42e7-abac-a14fb88739bb\")>, <selenium.webdriver.remote.webelement.WebElement (session=\"b7a9364333615475f5a7ab4c5cad6dad\", element=\"e96ce408-ea90-48cf-9585-7fcb7c937d97\")>, <selenium.webdriver.remote.webelement.WebElement (session=\"b7a9364333615475f5a7ab4c5cad6dad\", element=\"a48263ee-20d9-4682-9c46-11e95349571a\")>, <selenium.webdriver.remote.webelement.WebElement (session=\"b7a9364333615475f5a7ab4c5cad6dad\", element=\"2def3278-b984-4b03-ba6f-f7e062ad55df\")>, <selenium.webdriver.remote.webelement.WebElement (session=\"b7a9364333615475f5a7ab4c5cad6dad\", element=\"f9c5badf-268a-422b-be6f-c19598d21279\")>, <selenium.webdriver.remote.webelement.WebElement (session=\"b7a9364333615475f5a7ab4c5cad6dad\", element=\"212a588d-ecfd-46d7-8f66-3a47185185d8\")>, <selenium.webdriver.remote.webelement.WebElement (session=\"b7a9364333615475f5a7ab4c5cad6dad\", element=\"febc5325-28bb-4fe0-a754-4dae3481dab7\")>, <selenium.webdriver.remote.webelement.WebElement (session=\"b7a9364333615475f5a7ab4c5cad6dad\", element=\"9cf0e60b-657b-4557-b44c-7bbebbc1cb1f\")>, <selenium.webdriver.remote.webelement.WebElement (session=\"b7a9364333615475f5a7ab4c5cad6dad\", element=\"92e0bba7-bd92-4a1a-b57f-d2434807a2bc\")>, <selenium.webdriver.remote.webelement.WebElement (session=\"b7a9364333615475f5a7ab4c5cad6dad\", element=\"6b8e237f-2d75-4c61-946a-4002d9b411cc\")>, <selenium.webdriver.remote.webelement.WebElement (session=\"b7a9364333615475f5a7ab4c5cad6dad\", element=\"d9027941-e533-4156-86b8-ffd22e7fe016\")>, <selenium.webdriver.remote.webelement.WebElement (session=\"b7a9364333615475f5a7ab4c5cad6dad\", element=\"e4a56091-5654-4d3f-98fd-50eb9a51acd4\")>, <selenium.webdriver.remote.webelement.WebElement (session=\"b7a9364333615475f5a7ab4c5cad6dad\", element=\"3e20fa4a-4fd1-4925-8b78-388473527385\")>]\n"
     ]
    }
   ],
   "source": [
    "flight_rows = driver.find_elements(\"xpath\",'//div[@class=\"nrc6-inner\"]')\n",
    "print(flight_rows)"
   ]
  },
  {
   "cell_type": "code",
   "execution_count": 274,
   "id": "e8135534",
   "metadata": {},
   "outputs": [],
   "source": [
    "list_prices = []\n",
    "list_company_names=[]\n",
    "list_stops=[]\n",
    "list_duration=[]"
   ]
  },
  {
   "cell_type": "code",
   "execution_count": 275,
   "id": "b63c0e17",
   "metadata": {},
   "outputs": [
    {
     "name": "stdout",
     "output_type": "stream",
     "text": [
      "['$704', '$618', '$580', '$618', '$645', '$687', '$687', '$618', '$663', '$668', '$714', '$714', '$714', '$735', '$714', '$714', '$714']\n",
      "['Hawaiian Airlines', 'United Airlines', 'American Airlines', 'United Airlines', 'American Airlines', 'United Airlines', 'United Airlines', 'United Airlines', 'United Airlines', 'Alaska Airlines', 'United Airlines', 'United Airlines', 'United Airlines', 'United Airlines', 'United Airlines', 'United Airlines', 'United Airlines']\n",
      "['1 stop', 'nonstop', 'nonstop', 'nonstop', 'nonstop', 'nonstop', 'nonstop', 'nonstop', 'nonstop', 'nonstop', 'nonstop', 'nonstop', 'nonstop', 'nonstop', 'nonstop', 'nonstop', 'nonstop']\n"
     ]
    }
   ],
   "source": [
    "\n",
    "for WebElement in flight_rows:\n",
    "    elementHTML = WebElement.get_attribute('outerHTML')\n",
    "    elementSoup = BeautifulSoup(elementHTML, 'html.parser')\n",
    "    # price\n",
    "    temp_price = elementSoup.find(\"div\", {\"class\": \"nrc6-price-section\"})\n",
    "    price = temp_price.find(\"div\", {\"class\": \"f8F1-price-text\"})\n",
    "    list_prices.append(price.text)\n",
    "    \n",
    "    #company names#\n",
    "    company_names = elementSoup.find(\"div\",{\"class\":\"c_cgF c_cgF-mod-variant-default\"}).text\n",
    "    list_company_names.append(company_names)\n",
    "    \n",
    "    # stops\n",
    "    temp_stops = elementSoup.find(\"div\", {\"class\": \"vmXl vmXl-mod-variant-default\"})\n",
    "    stops = temp_stops.find(\"span\", {\"class\": \"JWEO-stops-text\"})\n",
    "    list_stops.append(stops.text)\n",
    "    \n",
    "    #durations  \n",
    "#    temp_durations = elementSoup.find(\"div\", {\"class\": \"xdW8\"}).text\n",
    "#    durations = temp_durations.find(\"div\", {\"class\": \"vmXl vmXl-mod-variant-default\"})\n",
    "#    list_duration.append(durations)\n",
    "  \n",
    "print(list_prices)\n",
    "print(list_company_names)\n",
    "print(list_stops)\n",
    "#print(list_duration)"
   ]
  },
  {
   "cell_type": "code",
   "execution_count": null,
   "id": "d1bdd56c",
   "metadata": {},
   "outputs": [],
   "source": []
  }
 ],
 "metadata": {
  "kernelspec": {
   "display_name": "Python 3 (ipykernel)",
   "language": "python",
   "name": "python3"
  },
  "language_info": {
   "codemirror_mode": {
    "name": "ipython",
    "version": 3
   },
   "file_extension": ".py",
   "mimetype": "text/x-python",
   "name": "python",
   "nbconvert_exporter": "python",
   "pygments_lexer": "ipython3",
   "version": "3.9.7"
  }
 },
 "nbformat": 4,
 "nbformat_minor": 5
}
