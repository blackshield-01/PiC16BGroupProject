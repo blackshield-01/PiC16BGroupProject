{
  "cells": [
    {
      "cell_type": "code",
      "execution_count": 1,
      "metadata": {
        "id": "h5Yf95hVaaoI"
      },
      "outputs": [],
      "source": [
        "import tensorflow as tf\n",
        "import numpy as np\n",
        "from tensorflow.keras import layers\n",
        "import pandas as pd"
      ]
    },
    {
      "cell_type": "code",
      "execution_count": 2,
      "metadata": {
        "colab": {
          "base_uri": "https://localhost:8080/"
        },
        "id": "0a5CgUsEdNsK",
        "outputId": "0d7f7e44-bf40-4d1a-cae6-385ba5624f2a"
      },
      "outputs": [
        {
          "output_type": "stream",
          "name": "stdout",
          "text": [
            "Drive already mounted at /content/drive/; to attempt to forcibly remount, call drive.mount(\"/content/drive/\", force_remount=True).\n"
          ]
        }
      ],
      "source": [
        "from google.colab import drive\n",
        "drive.mount('/content/drive/')"
      ]
    },
    {
      "cell_type": "code",
      "source": [
        "cd '/content/drive/My Drive/Colab Notebooks'"
      ],
      "metadata": {
        "colab": {
          "base_uri": "https://localhost:8080/"
        },
        "id": "hy5eev1FMm5J",
        "outputId": "e67ab2f8-e7df-48eb-cb07-30235a908eee"
      },
      "execution_count": 3,
      "outputs": [
        {
          "output_type": "stream",
          "name": "stdout",
          "text": [
            "/content/drive/My Drive/Colab Notebooks\n"
          ]
        }
      ]
    },
    {
      "cell_type": "code",
      "execution_count": 23,
      "metadata": {
        "id": "_w7yjY4_a0d5"
      },
      "outputs": [],
      "source": [
        "flights_csv = 'flight_LAX_ATL_combined_0701_0831_clean_data.csv'\n",
        "\n",
        "flights = pd.read_csv(flights_csv)"
      ]
    },
    {
      "cell_type": "code",
      "source": [
        "flights"
      ],
      "metadata": {
        "colab": {
          "base_uri": "https://localhost:8080/",
          "height": 424
        },
        "id": "GEJMPCfNMxjw",
        "outputId": "cf7fd769-ac38-4bb2-edd0-2b78eb0cd958"
      },
      "execution_count": 6,
      "outputs": [
        {
          "output_type": "execute_result",
          "data": {
            "text/plain": [
              "       Price       Company Name    Stops Duration Destination From        Date\n",
              "0        393    United Airlines   1 stop   8h 18m         ATL  LAX  2023-07-01\n",
              "1        679              Delta  nonstop   4h 29m         ATL  LAX  2023-07-01\n",
              "2        252    Spirit Airlines   1 stop   8h 52m         ATL  LAX  2023-07-01\n",
              "3        509  American Airlines   1 stop   7h 07m         ATL  LAX  2023-07-01\n",
              "4        344  American Airlines   1 stop   9h 05m         ATL  LAX  2023-07-01\n",
              "...      ...                ...      ...      ...         ...  ...         ...\n",
              "26228   1174   Avianca, JetBlue  3 stops  32h 56m         ATL  LAX  2023-08-31\n",
              "26229   1174   Avianca, JetBlue  3 stops  37h 39m         ATL  LAX  2023-08-31\n",
              "26230   1201   Avianca, JetBlue  3 stops  37h 39m         ATL  LAX  2023-08-31\n",
              "26231   1174   Avianca, JetBlue  3 stops  38h 34m         ATL  LAX  2023-08-31\n",
              "26232   1201   Avianca, JetBlue  3 stops  38h 34m         ATL  LAX  2023-08-31\n",
              "\n",
              "[26233 rows x 7 columns]"
            ],
            "text/html": [
              "\n",
              "  <div id=\"df-0e4f4dae-6672-4d3a-8c3a-21dded5e1d9b\">\n",
              "    <div class=\"colab-df-container\">\n",
              "      <div>\n",
              "<style scoped>\n",
              "    .dataframe tbody tr th:only-of-type {\n",
              "        vertical-align: middle;\n",
              "    }\n",
              "\n",
              "    .dataframe tbody tr th {\n",
              "        vertical-align: top;\n",
              "    }\n",
              "\n",
              "    .dataframe thead th {\n",
              "        text-align: right;\n",
              "    }\n",
              "</style>\n",
              "<table border=\"1\" class=\"dataframe\">\n",
              "  <thead>\n",
              "    <tr style=\"text-align: right;\">\n",
              "      <th></th>\n",
              "      <th>Price</th>\n",
              "      <th>Company Name</th>\n",
              "      <th>Stops</th>\n",
              "      <th>Duration</th>\n",
              "      <th>Destination</th>\n",
              "      <th>From</th>\n",
              "      <th>Date</th>\n",
              "    </tr>\n",
              "  </thead>\n",
              "  <tbody>\n",
              "    <tr>\n",
              "      <th>0</th>\n",
              "      <td>393</td>\n",
              "      <td>United Airlines</td>\n",
              "      <td>1 stop</td>\n",
              "      <td>8h 18m</td>\n",
              "      <td>ATL</td>\n",
              "      <td>LAX</td>\n",
              "      <td>2023-07-01</td>\n",
              "    </tr>\n",
              "    <tr>\n",
              "      <th>1</th>\n",
              "      <td>679</td>\n",
              "      <td>Delta</td>\n",
              "      <td>nonstop</td>\n",
              "      <td>4h 29m</td>\n",
              "      <td>ATL</td>\n",
              "      <td>LAX</td>\n",
              "      <td>2023-07-01</td>\n",
              "    </tr>\n",
              "    <tr>\n",
              "      <th>2</th>\n",
              "      <td>252</td>\n",
              "      <td>Spirit Airlines</td>\n",
              "      <td>1 stop</td>\n",
              "      <td>8h 52m</td>\n",
              "      <td>ATL</td>\n",
              "      <td>LAX</td>\n",
              "      <td>2023-07-01</td>\n",
              "    </tr>\n",
              "    <tr>\n",
              "      <th>3</th>\n",
              "      <td>509</td>\n",
              "      <td>American Airlines</td>\n",
              "      <td>1 stop</td>\n",
              "      <td>7h 07m</td>\n",
              "      <td>ATL</td>\n",
              "      <td>LAX</td>\n",
              "      <td>2023-07-01</td>\n",
              "    </tr>\n",
              "    <tr>\n",
              "      <th>4</th>\n",
              "      <td>344</td>\n",
              "      <td>American Airlines</td>\n",
              "      <td>1 stop</td>\n",
              "      <td>9h 05m</td>\n",
              "      <td>ATL</td>\n",
              "      <td>LAX</td>\n",
              "      <td>2023-07-01</td>\n",
              "    </tr>\n",
              "    <tr>\n",
              "      <th>...</th>\n",
              "      <td>...</td>\n",
              "      <td>...</td>\n",
              "      <td>...</td>\n",
              "      <td>...</td>\n",
              "      <td>...</td>\n",
              "      <td>...</td>\n",
              "      <td>...</td>\n",
              "    </tr>\n",
              "    <tr>\n",
              "      <th>26228</th>\n",
              "      <td>1174</td>\n",
              "      <td>Avianca, JetBlue</td>\n",
              "      <td>3 stops</td>\n",
              "      <td>32h 56m</td>\n",
              "      <td>ATL</td>\n",
              "      <td>LAX</td>\n",
              "      <td>2023-08-31</td>\n",
              "    </tr>\n",
              "    <tr>\n",
              "      <th>26229</th>\n",
              "      <td>1174</td>\n",
              "      <td>Avianca, JetBlue</td>\n",
              "      <td>3 stops</td>\n",
              "      <td>37h 39m</td>\n",
              "      <td>ATL</td>\n",
              "      <td>LAX</td>\n",
              "      <td>2023-08-31</td>\n",
              "    </tr>\n",
              "    <tr>\n",
              "      <th>26230</th>\n",
              "      <td>1201</td>\n",
              "      <td>Avianca, JetBlue</td>\n",
              "      <td>3 stops</td>\n",
              "      <td>37h 39m</td>\n",
              "      <td>ATL</td>\n",
              "      <td>LAX</td>\n",
              "      <td>2023-08-31</td>\n",
              "    </tr>\n",
              "    <tr>\n",
              "      <th>26231</th>\n",
              "      <td>1174</td>\n",
              "      <td>Avianca, JetBlue</td>\n",
              "      <td>3 stops</td>\n",
              "      <td>38h 34m</td>\n",
              "      <td>ATL</td>\n",
              "      <td>LAX</td>\n",
              "      <td>2023-08-31</td>\n",
              "    </tr>\n",
              "    <tr>\n",
              "      <th>26232</th>\n",
              "      <td>1201</td>\n",
              "      <td>Avianca, JetBlue</td>\n",
              "      <td>3 stops</td>\n",
              "      <td>38h 34m</td>\n",
              "      <td>ATL</td>\n",
              "      <td>LAX</td>\n",
              "      <td>2023-08-31</td>\n",
              "    </tr>\n",
              "  </tbody>\n",
              "</table>\n",
              "<p>26233 rows × 7 columns</p>\n",
              "</div>\n",
              "      <button class=\"colab-df-convert\" onclick=\"convertToInteractive('df-0e4f4dae-6672-4d3a-8c3a-21dded5e1d9b')\"\n",
              "              title=\"Convert this dataframe to an interactive table.\"\n",
              "              style=\"display:none;\">\n",
              "        \n",
              "  <svg xmlns=\"http://www.w3.org/2000/svg\" height=\"24px\"viewBox=\"0 0 24 24\"\n",
              "       width=\"24px\">\n",
              "    <path d=\"M0 0h24v24H0V0z\" fill=\"none\"/>\n",
              "    <path d=\"M18.56 5.44l.94 2.06.94-2.06 2.06-.94-2.06-.94-.94-2.06-.94 2.06-2.06.94zm-11 1L8.5 8.5l.94-2.06 2.06-.94-2.06-.94L8.5 2.5l-.94 2.06-2.06.94zm10 10l.94 2.06.94-2.06 2.06-.94-2.06-.94-.94-2.06-.94 2.06-2.06.94z\"/><path d=\"M17.41 7.96l-1.37-1.37c-.4-.4-.92-.59-1.43-.59-.52 0-1.04.2-1.43.59L10.3 9.45l-7.72 7.72c-.78.78-.78 2.05 0 2.83L4 21.41c.39.39.9.59 1.41.59.51 0 1.02-.2 1.41-.59l7.78-7.78 2.81-2.81c.8-.78.8-2.07 0-2.86zM5.41 20L4 18.59l7.72-7.72 1.47 1.35L5.41 20z\"/>\n",
              "  </svg>\n",
              "      </button>\n",
              "      \n",
              "  <style>\n",
              "    .colab-df-container {\n",
              "      display:flex;\n",
              "      flex-wrap:wrap;\n",
              "      gap: 12px;\n",
              "    }\n",
              "\n",
              "    .colab-df-convert {\n",
              "      background-color: #E8F0FE;\n",
              "      border: none;\n",
              "      border-radius: 50%;\n",
              "      cursor: pointer;\n",
              "      display: none;\n",
              "      fill: #1967D2;\n",
              "      height: 32px;\n",
              "      padding: 0 0 0 0;\n",
              "      width: 32px;\n",
              "    }\n",
              "\n",
              "    .colab-df-convert:hover {\n",
              "      background-color: #E2EBFA;\n",
              "      box-shadow: 0px 1px 2px rgba(60, 64, 67, 0.3), 0px 1px 3px 1px rgba(60, 64, 67, 0.15);\n",
              "      fill: #174EA6;\n",
              "    }\n",
              "\n",
              "    [theme=dark] .colab-df-convert {\n",
              "      background-color: #3B4455;\n",
              "      fill: #D2E3FC;\n",
              "    }\n",
              "\n",
              "    [theme=dark] .colab-df-convert:hover {\n",
              "      background-color: #434B5C;\n",
              "      box-shadow: 0px 1px 3px 1px rgba(0, 0, 0, 0.15);\n",
              "      filter: drop-shadow(0px 1px 2px rgba(0, 0, 0, 0.3));\n",
              "      fill: #FFFFFF;\n",
              "    }\n",
              "  </style>\n",
              "\n",
              "      <script>\n",
              "        const buttonEl =\n",
              "          document.querySelector('#df-0e4f4dae-6672-4d3a-8c3a-21dded5e1d9b button.colab-df-convert');\n",
              "        buttonEl.style.display =\n",
              "          google.colab.kernel.accessAllowed ? 'block' : 'none';\n",
              "\n",
              "        async function convertToInteractive(key) {\n",
              "          const element = document.querySelector('#df-0e4f4dae-6672-4d3a-8c3a-21dded5e1d9b');\n",
              "          const dataTable =\n",
              "            await google.colab.kernel.invokeFunction('convertToInteractive',\n",
              "                                                     [key], {});\n",
              "          if (!dataTable) return;\n",
              "\n",
              "          const docLinkHtml = 'Like what you see? Visit the ' +\n",
              "            '<a target=\"_blank\" href=https://colab.research.google.com/notebooks/data_table.ipynb>data table notebook</a>'\n",
              "            + ' to learn more about interactive tables.';\n",
              "          element.innerHTML = '';\n",
              "          dataTable['output_type'] = 'display_data';\n",
              "          await google.colab.output.renderOutput(dataTable, element);\n",
              "          const docLink = document.createElement('div');\n",
              "          docLink.innerHTML = docLinkHtml;\n",
              "          element.appendChild(docLink);\n",
              "        }\n",
              "      </script>\n",
              "    </div>\n",
              "  </div>\n",
              "  "
            ]
          },
          "metadata": {},
          "execution_count": 6
        }
      ]
    },
    {
      "cell_type": "code",
      "source": [
        "from sklearn.preprocessing import LabelEncoder\n",
        "from sklearn.model_selection import train_test_split\n",
        "from sklearn.preprocessing import normalize"
      ],
      "metadata": {
        "id": "TR2iyVJPNCAS"
      },
      "execution_count": 7,
      "outputs": []
    },
    {
      "cell_type": "code",
      "source": [
        "def preprocess(df):\n",
        "\n",
        "  le = LabelEncoder()\n",
        "\n",
        "  df['Date'] = le.fit_transform(df['Date'])\n",
        "  df['Company Name'] = le.fit_transform(df['Company Name'])\n",
        "  df['Stops'] = le.fit_transform(df['Stops'])\n",
        "\n",
        "  df['Price'] = df['Price'].str[1:].str.replace(',','').astype(int)\n",
        "  #df['Price'] = normalize(np.array(df['Price']).reshape(1,-1)).flatten()\n",
        "\n",
        "preprocess(flights)\n",
        "\n",
        "X = flights[['Date', 'Company Name', 'Stops']]\n",
        "X = np.array(X)\n",
        "y = flights['Price']\n",
        "\n",
        "X_train, X_test, y_train, y_test = train_test_split(X, y, test_size = 0.3)"
      ],
      "metadata": {
        "id": "MT2dAVbANcgr"
      },
      "execution_count": 24,
      "outputs": []
    },
    {
      "cell_type": "code",
      "source": [
        "X"
      ],
      "metadata": {
        "colab": {
          "base_uri": "https://localhost:8080/"
        },
        "id": "CCN56XtsVBtV",
        "outputId": "5a7ab291-4c6c-4031-eb10-f8137bdb9d7e"
      },
      "execution_count": 25,
      "outputs": [
        {
          "output_type": "execute_result",
          "data": {
            "text/plain": [
              "array([[ 0, 17,  0],\n",
              "       [ 0,  9,  3],\n",
              "       [ 0, 13,  0],\n",
              "       ...,\n",
              "       [61,  5,  2],\n",
              "       [61,  5,  2],\n",
              "       [61,  5,  2]])"
            ]
          },
          "metadata": {},
          "execution_count": 25
        }
      ]
    },
    {
      "cell_type": "code",
      "source": [
        "X_train.shape, y_train.shape"
      ],
      "metadata": {
        "colab": {
          "base_uri": "https://localhost:8080/"
        },
        "id": "AEBePlfINwUl",
        "outputId": "3c2631c7-6201-4ee8-9766-b4ecce50d733"
      },
      "execution_count": 26,
      "outputs": [
        {
          "output_type": "execute_result",
          "data": {
            "text/plain": [
              "((18363, 3), (18363,))"
            ]
          },
          "metadata": {},
          "execution_count": 26
        }
      ]
    },
    {
      "cell_type": "code",
      "source": [
        "model = tf.keras.models.Sequential([\n",
        "    layers.Dense(500, activation = 'relu'),\n",
        "    layers.Dropout(.2),\n",
        "    layers.Dense(500, activation = 'relu'),\n",
        "    layers.Dropout(.2),\n",
        "    layers.Dense(1)\n",
        "])"
      ],
      "metadata": {
        "id": "p0ZgWEUoNy4L"
      },
      "execution_count": 93,
      "outputs": []
    },
    {
      "cell_type": "code",
      "source": [
        "model.compile(optimizer = 'adam', loss = 'huber')"
      ],
      "metadata": {
        "id": "OaTSwf6gOTQy"
      },
      "execution_count": 94,
      "outputs": []
    },
    {
      "cell_type": "code",
      "source": [
        "history = model.fit(X_train, y_train, epochs = 20, verbose = 1, validation_split = .2)"
      ],
      "metadata": {
        "colab": {
          "base_uri": "https://localhost:8080/"
        },
        "id": "k-RFoAcgOY0-",
        "outputId": "fdfc75ea-a510-4926-c61c-5988008f26cc"
      },
      "execution_count": 96,
      "outputs": [
        {
          "output_type": "stream",
          "name": "stdout",
          "text": [
            "Epoch 1/20\n",
            "460/460 [==============================] - 4s 9ms/step - loss: 92.4568 - val_loss: 91.9255\n",
            "Epoch 2/20\n",
            "460/460 [==============================] - 5s 10ms/step - loss: 91.7504 - val_loss: 96.1743\n",
            "Epoch 3/20\n",
            "460/460 [==============================] - 4s 8ms/step - loss: 92.1491 - val_loss: 93.2449\n",
            "Epoch 4/20\n",
            "460/460 [==============================] - 4s 8ms/step - loss: 91.0840 - val_loss: 92.8854\n",
            "Epoch 5/20\n",
            "460/460 [==============================] - 5s 12ms/step - loss: 92.2748 - val_loss: 90.2689\n",
            "Epoch 6/20\n",
            "460/460 [==============================] - 4s 8ms/step - loss: 90.3090 - val_loss: 89.5513\n",
            "Epoch 7/20\n",
            "460/460 [==============================] - 4s 8ms/step - loss: 90.2483 - val_loss: 90.5261\n",
            "Epoch 8/20\n",
            "460/460 [==============================] - 4s 9ms/step - loss: 90.0326 - val_loss: 95.1625\n",
            "Epoch 9/20\n",
            "460/460 [==============================] - 5s 10ms/step - loss: 89.6163 - val_loss: 90.2749\n",
            "Epoch 10/20\n",
            "460/460 [==============================] - 4s 8ms/step - loss: 89.6483 - val_loss: 89.0582\n",
            "Epoch 11/20\n",
            "460/460 [==============================] - 4s 8ms/step - loss: 89.7836 - val_loss: 89.6099\n",
            "Epoch 12/20\n",
            "460/460 [==============================] - 5s 11ms/step - loss: 90.2603 - val_loss: 92.0794\n",
            "Epoch 13/20\n",
            "460/460 [==============================] - 4s 9ms/step - loss: 89.7117 - val_loss: 88.5294\n",
            "Epoch 14/20\n",
            "460/460 [==============================] - 4s 8ms/step - loss: 89.5554 - val_loss: 92.5798\n",
            "Epoch 15/20\n",
            "460/460 [==============================] - 4s 9ms/step - loss: 89.6618 - val_loss: 95.9484\n",
            "Epoch 16/20\n",
            "460/460 [==============================] - 5s 11ms/step - loss: 89.6976 - val_loss: 88.6875\n",
            "Epoch 17/20\n",
            "460/460 [==============================] - 3s 8ms/step - loss: 89.6029 - val_loss: 90.6206\n",
            "Epoch 18/20\n",
            "460/460 [==============================] - 3s 8ms/step - loss: 89.3074 - val_loss: 90.6084\n",
            "Epoch 19/20\n",
            "460/460 [==============================] - 4s 9ms/step - loss: 88.7370 - val_loss: 88.3056\n",
            "Epoch 20/20\n",
            "460/460 [==============================] - 5s 10ms/step - loss: 89.3839 - val_loss: 91.5471\n"
          ]
        }
      ]
    },
    {
      "cell_type": "code",
      "source": [
        "history.history"
      ],
      "metadata": {
        "colab": {
          "base_uri": "https://localhost:8080/"
        },
        "id": "3vuyhLbWOaH0",
        "outputId": "6ce0c60c-60c1-4bcd-9f92-fb5ce083c4e7"
      },
      "execution_count": 39,
      "outputs": [
        {
          "output_type": "execute_result",
          "data": {
            "text/plain": [
              "{'loss': [17856.326171875,\n",
              "  17789.15234375,\n",
              "  17804.4609375,\n",
              "  17770.876953125,\n",
              "  17806.296875,\n",
              "  17692.9375,\n",
              "  17654.55078125,\n",
              "  17669.111328125,\n",
              "  17620.37109375,\n",
              "  17581.037109375,\n",
              "  17645.544921875,\n",
              "  17581.640625,\n",
              "  17496.798828125,\n",
              "  17539.4609375,\n",
              "  17521.689453125,\n",
              "  17628.462890625,\n",
              "  17518.833984375,\n",
              "  17478.1484375,\n",
              "  17502.341796875,\n",
              "  17406.953125],\n",
              " 'val_loss': [20659.72265625,\n",
              "  20838.365234375,\n",
              "  20592.224609375,\n",
              "  20797.375,\n",
              "  21114.783203125,\n",
              "  20784.390625,\n",
              "  20470.732421875,\n",
              "  21038.201171875,\n",
              "  20554.5390625,\n",
              "  20946.689453125,\n",
              "  20576.03515625,\n",
              "  20616.876953125,\n",
              "  20562.744140625,\n",
              "  20496.140625,\n",
              "  20343.830078125,\n",
              "  21001.00390625,\n",
              "  20390.638671875,\n",
              "  21437.13671875,\n",
              "  20339.7265625,\n",
              "  20339.2265625]}"
            ]
          },
          "metadata": {},
          "execution_count": 39
        }
      ]
    },
    {
      "cell_type": "code",
      "source": [
        "model.evaluate(X_test, y_test, verbose = 2)"
      ],
      "metadata": {
        "colab": {
          "base_uri": "https://localhost:8080/"
        },
        "id": "Gtbli9pwTVrj",
        "outputId": "61a5331c-d573-40df-a867-650017c05938"
      },
      "execution_count": 97,
      "outputs": [
        {
          "output_type": "stream",
          "name": "stdout",
          "text": [
            "246/246 - 1s - loss: 85.9830 - 510ms/epoch - 2ms/step\n"
          ]
        },
        {
          "output_type": "execute_result",
          "data": {
            "text/plain": [
              "85.98295593261719"
            ]
          },
          "metadata": {},
          "execution_count": 97
        }
      ]
    },
    {
      "cell_type": "code",
      "source": [
        "preds = model.predict(X_test)[:20]"
      ],
      "metadata": {
        "colab": {
          "base_uri": "https://localhost:8080/"
        },
        "id": "6SAeahJ9a8Z9",
        "outputId": "aadfda27-5acb-44e3-ad66-467e059ea59f"
      },
      "execution_count": 98,
      "outputs": [
        {
          "output_type": "stream",
          "name": "stdout",
          "text": [
            "246/246 [==============================] - 1s 3ms/step\n"
          ]
        }
      ]
    },
    {
      "cell_type": "code",
      "source": [
        "preds = preds.flatten()\n",
        "preds"
      ],
      "metadata": {
        "colab": {
          "base_uri": "https://localhost:8080/"
        },
        "id": "fXDXsP7NcH5R",
        "outputId": "b782b7c6-c636-4d38-d0fc-e38252666556"
      },
      "execution_count": 99,
      "outputs": [
        {
          "output_type": "execute_result",
          "data": {
            "text/plain": [
              "array([278.60605, 657.68945, 376.0362 , 200.89415, 362.87402, 452.766  ,\n",
              "       700.4905 , 314.39255, 348.631  , 369.6058 , 478.77042, 263.32724,\n",
              "       452.89163, 417.8419 , 387.07755, 342.4356 , 386.61917, 335.41476,\n",
              "       379.99292, 654.77356], dtype=float32)"
            ]
          },
          "metadata": {},
          "execution_count": 99
        }
      ]
    },
    {
      "cell_type": "code",
      "source": [
        "actual = np.array(y_test[:20])\n",
        "actual"
      ],
      "metadata": {
        "colab": {
          "base_uri": "https://localhost:8080/"
        },
        "id": "J_Z7CipKhXU6",
        "outputId": "065a88be-f13b-408f-957c-9cd3546bd1b5"
      },
      "execution_count": 100,
      "outputs": [
        {
          "output_type": "execute_result",
          "data": {
            "text/plain": [
              "array([397, 840, 264, 202, 357, 487, 773, 368, 688, 633, 487, 288, 348,\n",
              "       313, 394, 324, 507, 419, 264, 783])"
            ]
          },
          "metadata": {},
          "execution_count": 100
        }
      ]
    },
    {
      "cell_type": "code",
      "source": [
        "actual - preds"
      ],
      "metadata": {
        "colab": {
          "base_uri": "https://localhost:8080/"
        },
        "id": "4TBXi0uxcEQd",
        "outputId": "83117001-2db6-47fb-c664-fc41ad0e9d87"
      },
      "execution_count": 102,
      "outputs": [
        {
          "output_type": "execute_result",
          "data": {
            "text/plain": [
              "array([ 118.39395142,  182.31054688, -112.03619385,    1.10585022,\n",
              "         -5.87402344,   34.23400879,   72.50952148,   53.60745239,\n",
              "        339.36898804,  263.39419556,    8.22958374,   24.67276001,\n",
              "       -104.89163208, -104.84188843,    6.92245483,  -18.43560791,\n",
              "        120.38082886,   83.5852356 , -115.99291992,  128.22644043])"
            ]
          },
          "metadata": {},
          "execution_count": 102
        }
      ]
    },
    {
      "cell_type": "code",
      "source": [
        "plt.hist(flights['Price'])"
      ],
      "metadata": {
        "colab": {
          "base_uri": "https://localhost:8080/",
          "height": 517
        },
        "id": "7_zWU0iheSr0",
        "outputId": "8246ca69-097d-4f98-a273-a99ac7c04e0d"
      },
      "execution_count": 70,
      "outputs": [
        {
          "output_type": "execute_result",
          "data": {
            "text/plain": [
              "(array([9.5500e+03, 1.0105e+04, 4.0560e+03, 2.2010e+03, 2.5200e+02,\n",
              "        3.9000e+01, 1.3000e+01, 9.0000e+00, 4.0000e+00, 4.0000e+00]),\n",
              " array([ 100. ,  321.9,  543.8,  765.7,  987.6, 1209.5, 1431.4, 1653.3,\n",
              "        1875.2, 2097.1, 2319. ]),\n",
              " <BarContainer object of 10 artists>)"
            ]
          },
          "metadata": {},
          "execution_count": 70
        },
        {
          "output_type": "display_data",
          "data": {
            "text/plain": [
              "<Figure size 640x480 with 1 Axes>"
            ],
            "image/png": "[encoded data removed]"
          },
          "metadata": {}
        }
      ]
    },
    {
      "cell_type": "code",
      "source": [
        "flights['Price'].min(), flights['Price'].max()"
      ],
      "metadata": {
        "colab": {
          "base_uri": "https://localhost:8080/"
        },
        "id": "fUb8M4cBef7G",
        "outputId": "7b5fa746-bc24-4da4-8641-8d57ac01ae89"
      },
      "execution_count": 103,
      "outputs": [
        {
          "output_type": "execute_result",
          "data": {
            "text/plain": [
              "(100, 2319)"
            ]
          },
          "metadata": {},
          "execution_count": 103
        }
      ]
    },
    {
      "cell_type": "code",
      "source": [
        "from matplotlib import pyplot as plt"
      ],
      "metadata": {
        "id": "aZ4HYaGrTcYe"
      },
      "execution_count": 104,
      "outputs": []
    },
    {
      "cell_type": "code",
      "source": [
        "plt.plot(history.history['loss'], label='loss')\n",
        "plt.plot(history.history['val_loss'], label='val_loss')\n",
        "plt.legend()"
      ],
      "metadata": {
        "colab": {
          "base_uri": "https://localhost:8080/",
          "height": 447
        },
        "id": "ZO1VX1KvXSV9",
        "outputId": "387f8843-cbb2-46dc-b822-c2bef027b34c"
      },
      "execution_count": 105,
      "outputs": [
        {
          "output_type": "execute_result",
          "data": {
            "text/plain": [
              "<matplotlib.legend.Legend at 0x7fe978789150>"
            ]
          },
          "metadata": {},
          "execution_count": 105
        },
        {
          "output_type": "display_data",
          "data": {
            "text/plain": [
              "<Figure size 640x480 with 1 Axes>"
            ],
            "image/png": "[encoded data removed]"
          },
          "metadata": {}
        }
      ]
    },
    {
      "cell_type": "code",
      "source": [],
      "metadata": {
        "id": "iLkSVOVfXTrH"
      },
      "execution_count": 17,
      "outputs": []
    }
  ],
  "metadata": {
    "colab": {
      "provenance": [],
      "authorship_tag": "ABX9TyNbm6XWfQ0xDA2PraikSeTT"
    },
    "kernelspec": {
      "display_name": "Python 3",
      "name": "python3"
    },
    "language_info": {
      "name": "python"
    }
  },
  "nbformat": 4,
  "nbformat_minor": 0
}