{
  "cells": [
    {
      "cell_type": "code",
      "execution_count": 87,
      "metadata": {
        "id": "h5Yf95hVaaoI"
      },
      "outputs": [],
      "source": [
        "import tensorflow as tf\n",
        "import numpy as np\n",
        "from tensorflow.keras import layers\n",
        "import pandas as pd\n",
        "import import_ipynb\n",
        "from matplotlib import pyplot as plt"
      ]
    },
    {
      "cell_type": "code",
      "execution_count": 25,
      "metadata": {
        "colab": {
          "base_uri": "https://localhost:8080/"
        },
        "id": "0a5CgUsEdNsK",
        "outputId": "a9a42035-10ee-4363-b934-aa6b68bc56ae"
      },
      "outputs": [
        {
          "output_type": "stream",
          "name": "stdout",
          "text": [
            "Drive already mounted at /content/drive/; to attempt to forcibly remount, call drive.mount(\"/content/drive/\", force_remount=True).\n"
          ]
        }
      ],
      "source": [
        "from google.colab import drive\n",
        "drive.mount('/content/drive/')"
      ]
    },
    {
      "cell_type": "code",
      "source": [
        "cd '/content/drive/My Drive/Colab Notebooks'"
      ],
      "metadata": {
        "colab": {
          "base_uri": "https://localhost:8080/"
        },
        "id": "hy5eev1FMm5J",
        "outputId": "971fa86b-ccb6-4b8c-879c-fcb6054d33d2"
      },
      "execution_count": 26,
      "outputs": [
        {
          "output_type": "stream",
          "name": "stdout",
          "text": [
            "/content/drive/My Drive/Colab Notebooks\n"
          ]
        }
      ]
    },
    {
      "cell_type": "code",
      "source": [
        "#remove_outliers, clean_duration, clean_date, clean_stops\n",
        "import Data_preprocessing_2 as preprocessing"
      ],
      "metadata": {
        "id": "OX_ENOQlKfcB"
      },
      "execution_count": 35,
      "outputs": []
    },
    {
      "cell_type": "code",
      "execution_count": 48,
      "metadata": {
        "id": "_w7yjY4_a0d5"
      },
      "outputs": [],
      "source": [
        "flights_csv = 'flight_LAX_ATL_data_0601_0831.csv'\n",
        "\n",
        "flights = pd.read_csv(flights_csv)"
      ]
    },
    {
      "cell_type": "code",
      "source": [
        "flights"
      ],
      "metadata": {
        "colab": {
          "base_uri": "https://localhost:8080/",
          "height": 424
        },
        "id": "GEJMPCfNMxjw",
        "outputId": "4e507a6d-aa7f-435a-ca8f-3c8ad508c745"
      },
      "execution_count": 49,
      "outputs": [
        {
          "output_type": "execute_result",
          "data": {
            "text/plain": [
              "       Price       Company Name    Stops Duration Destination From     Date\n",
              "0        254  American Airlines  nonstop   4h 38m         ATL  LAX   6/1/23\n",
              "1         73    Spirit Airlines   1 stop  25h 28m         ATL  LAX   6/1/23\n",
              "2        209  American Airlines   1 stop   6h 15m         ATL  LAX   6/1/23\n",
              "3        159    United Airlines   1 stop   6h 55m         ATL  LAX   6/1/23\n",
              "4        204    United Airlines   1 stop   6h 10m         ATL  LAX   6/1/23\n",
              "...      ...                ...      ...      ...         ...  ...      ...\n",
              "34809   1174   Avianca, JetBlue  3 stops  32h 56m         ATL  LAX  8/31/23\n",
              "34810   1174   Avianca, JetBlue  3 stops  37h 39m         ATL  LAX  8/31/23\n",
              "34811   1201   Avianca, JetBlue  3 stops  37h 39m         ATL  LAX  8/31/23\n",
              "34812   1174   Avianca, JetBlue  3 stops  38h 34m         ATL  LAX  8/31/23\n",
              "34813   1201   Avianca, JetBlue  3 stops  38h 34m         ATL  LAX  8/31/23\n",
              "\n",
              "[34814 rows x 7 columns]"
            ],
            "text/html": [
              "\n",
              "  <div id=\"df-374ce847-0df3-4193-98a6-5b5400a76bf4\">\n",
              "    <div class=\"colab-df-container\">\n",
              "      <div>\n",
              "<style scoped>\n",
              "    .dataframe tbody tr th:only-of-type {\n",
              "        vertical-align: middle;\n",
              "    }\n",
              "\n",
              "    .dataframe tbody tr th {\n",
              "        vertical-align: top;\n",
              "    }\n",
              "\n",
              "    .dataframe thead th {\n",
              "        text-align: right;\n",
              "    }\n",
              "</style>\n",
              "<table border=\"1\" class=\"dataframe\">\n",
              "  <thead>\n",
              "    <tr style=\"text-align: right;\">\n",
              "      <th></th>\n",
              "      <th>Price</th>\n",
              "      <th>Company Name</th>\n",
              "      <th>Stops</th>\n",
              "      <th>Duration</th>\n",
              "      <th>Destination</th>\n",
              "      <th>From</th>\n",
              "      <th>Date</th>\n",
              "    </tr>\n",
              "  </thead>\n",
              "  <tbody>\n",
              "    <tr>\n",
              "      <th>0</th>\n",
              "      <td>254</td>\n",
              "      <td>American Airlines</td>\n",
              "      <td>nonstop</td>\n",
              "      <td>4h 38m</td>\n",
              "      <td>ATL</td>\n",
              "      <td>LAX</td>\n",
              "      <td>6/1/23</td>\n",
              "    </tr>\n",
              "    <tr>\n",
              "      <th>1</th>\n",
              "      <td>73</td>\n",
              "      <td>Spirit Airlines</td>\n",
              "      <td>1 stop</td>\n",
              "      <td>25h 28m</td>\n",
              "      <td>ATL</td>\n",
              "      <td>LAX</td>\n",
              "      <td>6/1/23</td>\n",
              "    </tr>\n",
              "    <tr>\n",
              "      <th>2</th>\n",
              "      <td>209</td>\n",
              "      <td>American Airlines</td>\n",
              "      <td>1 stop</td>\n",
              "      <td>6h 15m</td>\n",
              "      <td>ATL</td>\n",
              "      <td>LAX</td>\n",
              "      <td>6/1/23</td>\n",
              "    </tr>\n",
              "    <tr>\n",
              "      <th>3</th>\n",
              "      <td>159</td>\n",
              "      <td>United Airlines</td>\n",
              "      <td>1 stop</td>\n",
              "      <td>6h 55m</td>\n",
              "      <td>ATL</td>\n",
              "      <td>LAX</td>\n",
              "      <td>6/1/23</td>\n",
              "    </tr>\n",
              "    <tr>\n",
              "      <th>4</th>\n",
              "      <td>204</td>\n",
              "      <td>United Airlines</td>\n",
              "      <td>1 stop</td>\n",
              "      <td>6h 10m</td>\n",
              "      <td>ATL</td>\n",
              "      <td>LAX</td>\n",
              "      <td>6/1/23</td>\n",
              "    </tr>\n",
              "    <tr>\n",
              "      <th>...</th>\n",
              "      <td>...</td>\n",
              "      <td>...</td>\n",
              "      <td>...</td>\n",
              "      <td>...</td>\n",
              "      <td>...</td>\n",
              "      <td>...</td>\n",
              "      <td>...</td>\n",
              "    </tr>\n",
              "    <tr>\n",
              "      <th>34809</th>\n",
              "      <td>1174</td>\n",
              "      <td>Avianca, JetBlue</td>\n",
              "      <td>3 stops</td>\n",
              "      <td>32h 56m</td>\n",
              "      <td>ATL</td>\n",
              "      <td>LAX</td>\n",
              "      <td>8/31/23</td>\n",
              "    </tr>\n",
              "    <tr>\n",
              "      <th>34810</th>\n",
              "      <td>1174</td>\n",
              "      <td>Avianca, JetBlue</td>\n",
              "      <td>3 stops</td>\n",
              "      <td>37h 39m</td>\n",
              "      <td>ATL</td>\n",
              "      <td>LAX</td>\n",
              "      <td>8/31/23</td>\n",
              "    </tr>\n",
              "    <tr>\n",
              "      <th>34811</th>\n",
              "      <td>1201</td>\n",
              "      <td>Avianca, JetBlue</td>\n",
              "      <td>3 stops</td>\n",
              "      <td>37h 39m</td>\n",
              "      <td>ATL</td>\n",
              "      <td>LAX</td>\n",
              "      <td>8/31/23</td>\n",
              "    </tr>\n",
              "    <tr>\n",
              "      <th>34812</th>\n",
              "      <td>1174</td>\n",
              "      <td>Avianca, JetBlue</td>\n",
              "      <td>3 stops</td>\n",
              "      <td>38h 34m</td>\n",
              "      <td>ATL</td>\n",
              "      <td>LAX</td>\n",
              "      <td>8/31/23</td>\n",
              "    </tr>\n",
              "    <tr>\n",
              "      <th>34813</th>\n",
              "      <td>1201</td>\n",
              "      <td>Avianca, JetBlue</td>\n",
              "      <td>3 stops</td>\n",
              "      <td>38h 34m</td>\n",
              "      <td>ATL</td>\n",
              "      <td>LAX</td>\n",
              "      <td>8/31/23</td>\n",
              "    </tr>\n",
              "  </tbody>\n",
              "</table>\n",
              "<p>34814 rows × 7 columns</p>\n",
              "</div>\n",
              "      <button class=\"colab-df-convert\" onclick=\"convertToInteractive('df-374ce847-0df3-4193-98a6-5b5400a76bf4')\"\n",
              "              title=\"Convert this dataframe to an interactive table.\"\n",
              "              style=\"display:none;\">\n",
              "        \n",
              "  <svg xmlns=\"http://www.w3.org/2000/svg\" height=\"24px\"viewBox=\"0 0 24 24\"\n",
              "       width=\"24px\">\n",
              "    <path d=\"M0 0h24v24H0V0z\" fill=\"none\"/>\n",
              "    <path d=\"M18.56 5.44l.94 2.06.94-2.06 2.06-.94-2.06-.94-.94-2.06-.94 2.06-2.06.94zm-11 1L8.5 8.5l.94-2.06 2.06-.94-2.06-.94L8.5 2.5l-.94 2.06-2.06.94zm10 10l.94 2.06.94-2.06 2.06-.94-2.06-.94-.94-2.06-.94 2.06-2.06.94z\"/><path d=\"M17.41 7.96l-1.37-1.37c-.4-.4-.92-.59-1.43-.59-.52 0-1.04.2-1.43.59L10.3 9.45l-7.72 7.72c-.78.78-.78 2.05 0 2.83L4 21.41c.39.39.9.59 1.41.59.51 0 1.02-.2 1.41-.59l7.78-7.78 2.81-2.81c.8-.78.8-2.07 0-2.86zM5.41 20L4 18.59l7.72-7.72 1.47 1.35L5.41 20z\"/>\n",
              "  </svg>\n",
              "      </button>\n",
              "      \n",
              "  <style>\n",
              "    .colab-df-container {\n",
              "      display:flex;\n",
              "      flex-wrap:wrap;\n",
              "      gap: 12px;\n",
              "    }\n",
              "\n",
              "    .colab-df-convert {\n",
              "      background-color: #E8F0FE;\n",
              "      border: none;\n",
              "      border-radius: 50%;\n",
              "      cursor: pointer;\n",
              "      display: none;\n",
              "      fill: #1967D2;\n",
              "      height: 32px;\n",
              "      padding: 0 0 0 0;\n",
              "      width: 32px;\n",
              "    }\n",
              "\n",
              "    .colab-df-convert:hover {\n",
              "      background-color: #E2EBFA;\n",
              "      box-shadow: 0px 1px 2px rgba(60, 64, 67, 0.3), 0px 1px 3px 1px rgba(60, 64, 67, 0.15);\n",
              "      fill: #174EA6;\n",
              "    }\n",
              "\n",
              "    [theme=dark] .colab-df-convert {\n",
              "      background-color: #3B4455;\n",
              "      fill: #D2E3FC;\n",
              "    }\n",
              "\n",
              "    [theme=dark] .colab-df-convert:hover {\n",
              "      background-color: #434B5C;\n",
              "      box-shadow: 0px 1px 3px 1px rgba(0, 0, 0, 0.15);\n",
              "      filter: drop-shadow(0px 1px 2px rgba(0, 0, 0, 0.3));\n",
              "      fill: #FFFFFF;\n",
              "    }\n",
              "  </style>\n",
              "\n",
              "      <script>\n",
              "        const buttonEl =\n",
              "          document.querySelector('#df-374ce847-0df3-4193-98a6-5b5400a76bf4 button.colab-df-convert');\n",
              "        buttonEl.style.display =\n",
              "          google.colab.kernel.accessAllowed ? 'block' : 'none';\n",
              "\n",
              "        async function convertToInteractive(key) {\n",
              "          const element = document.querySelector('#df-374ce847-0df3-4193-98a6-5b5400a76bf4');\n",
              "          const dataTable =\n",
              "            await google.colab.kernel.invokeFunction('convertToInteractive',\n",
              "                                                     [key], {});\n",
              "          if (!dataTable) return;\n",
              "\n",
              "          const docLinkHtml = 'Like what you see? Visit the ' +\n",
              "            '<a target=\"_blank\" href=https://colab.research.google.com/notebooks/data_table.ipynb>data table notebook</a>'\n",
              "            + ' to learn more about interactive tables.';\n",
              "          element.innerHTML = '';\n",
              "          dataTable['output_type'] = 'display_data';\n",
              "          await google.colab.output.renderOutput(dataTable, element);\n",
              "          const docLink = document.createElement('div');\n",
              "          docLink.innerHTML = docLinkHtml;\n",
              "          element.appendChild(docLink);\n",
              "        }\n",
              "      </script>\n",
              "    </div>\n",
              "  </div>\n",
              "  "
            ]
          },
          "metadata": {},
          "execution_count": 49
        }
      ]
    },
    {
      "cell_type": "code",
      "source": [
        "flights['Duration'] = preprocessing.clean_duration(flights['Duration'])\n",
        "flights['Date'] = preprocessing.clean_date(flights['Date'])\n",
        "flights['Stops'] = flights['Stops'].apply(preprocessing.clean_stops).astype(float).fillna(-1).astype(int)\n",
        "flights['Stops'] = flights['Stops'].replace(-1, '')\n",
        "\n",
        "flights = flights[flights['Stops'] != '']"
      ],
      "metadata": {
        "id": "7MCZGNP2Lfkn"
      },
      "execution_count": 50,
      "outputs": []
    },
    {
      "cell_type": "code",
      "source": [
        "flights"
      ],
      "metadata": {
        "colab": {
          "base_uri": "https://localhost:8080/",
          "height": 424
        },
        "id": "-WbvTkzKLvT0",
        "outputId": "0f71fa24-4f6e-4092-cf06-0bd1ecfe4048"
      },
      "execution_count": 51,
      "outputs": [
        {
          "output_type": "execute_result",
          "data": {
            "text/plain": [
              "       Price       Company Name  Stops  Duration Destination From       Date\n",
              "0        254  American Airlines      0       278         ATL  LAX 2023-06-01\n",
              "1         73    Spirit Airlines      1      1528         ATL  LAX 2023-06-01\n",
              "2        209  American Airlines      1       375         ATL  LAX 2023-06-01\n",
              "3        159    United Airlines      1       415         ATL  LAX 2023-06-01\n",
              "4        204    United Airlines      1       370         ATL  LAX 2023-06-01\n",
              "...      ...                ...    ...       ...         ...  ...        ...\n",
              "34809   1174   Avianca, JetBlue      3      1976         ATL  LAX 2023-08-31\n",
              "34810   1174   Avianca, JetBlue      3      2259         ATL  LAX 2023-08-31\n",
              "34811   1201   Avianca, JetBlue      3      2259         ATL  LAX 2023-08-31\n",
              "34812   1174   Avianca, JetBlue      3      2314         ATL  LAX 2023-08-31\n",
              "34813   1201   Avianca, JetBlue      3      2314         ATL  LAX 2023-08-31\n",
              "\n",
              "[34814 rows x 7 columns]"
            ],
            "text/html": [
              "\n",
              "  <div id=\"df-b1b01916-9ed6-4dd7-9557-20e9b90d6318\">\n",
              "    <div class=\"colab-df-container\">\n",
              "      <div>\n",
              "<style scoped>\n",
              "    .dataframe tbody tr th:only-of-type {\n",
              "        vertical-align: middle;\n",
              "    }\n",
              "\n",
              "    .dataframe tbody tr th {\n",
              "        vertical-align: top;\n",
              "    }\n",
              "\n",
              "    .dataframe thead th {\n",
              "        text-align: right;\n",
              "    }\n",
              "</style>\n",
              "<table border=\"1\" class=\"dataframe\">\n",
              "  <thead>\n",
              "    <tr style=\"text-align: right;\">\n",
              "      <th></th>\n",
              "      <th>Price</th>\n",
              "      <th>Company Name</th>\n",
              "      <th>Stops</th>\n",
              "      <th>Duration</th>\n",
              "      <th>Destination</th>\n",
              "      <th>From</th>\n",
              "      <th>Date</th>\n",
              "    </tr>\n",
              "  </thead>\n",
              "  <tbody>\n",
              "    <tr>\n",
              "      <th>0</th>\n",
              "      <td>254</td>\n",
              "      <td>American Airlines</td>\n",
              "      <td>0</td>\n",
              "      <td>278</td>\n",
              "      <td>ATL</td>\n",
              "      <td>LAX</td>\n",
              "      <td>2023-06-01</td>\n",
              "    </tr>\n",
              "    <tr>\n",
              "      <th>1</th>\n",
              "      <td>73</td>\n",
              "      <td>Spirit Airlines</td>\n",
              "      <td>1</td>\n",
              "      <td>1528</td>\n",
              "      <td>ATL</td>\n",
              "      <td>LAX</td>\n",
              "      <td>2023-06-01</td>\n",
              "    </tr>\n",
              "    <tr>\n",
              "      <th>2</th>\n",
              "      <td>209</td>\n",
              "      <td>American Airlines</td>\n",
              "      <td>1</td>\n",
              "      <td>375</td>\n",
              "      <td>ATL</td>\n",
              "      <td>LAX</td>\n",
              "      <td>2023-06-01</td>\n",
              "    </tr>\n",
              "    <tr>\n",
              "      <th>3</th>\n",
              "      <td>159</td>\n",
              "      <td>United Airlines</td>\n",
              "      <td>1</td>\n",
              "      <td>415</td>\n",
              "      <td>ATL</td>\n",
              "      <td>LAX</td>\n",
              "      <td>2023-06-01</td>\n",
              "    </tr>\n",
              "    <tr>\n",
              "      <th>4</th>\n",
              "      <td>204</td>\n",
              "      <td>United Airlines</td>\n",
              "      <td>1</td>\n",
              "      <td>370</td>\n",
              "      <td>ATL</td>\n",
              "      <td>LAX</td>\n",
              "      <td>2023-06-01</td>\n",
              "    </tr>\n",
              "    <tr>\n",
              "      <th>...</th>\n",
              "      <td>...</td>\n",
              "      <td>...</td>\n",
              "      <td>...</td>\n",
              "      <td>...</td>\n",
              "      <td>...</td>\n",
              "      <td>...</td>\n",
              "      <td>...</td>\n",
              "    </tr>\n",
              "    <tr>\n",
              "      <th>34809</th>\n",
              "      <td>1174</td>\n",
              "      <td>Avianca, JetBlue</td>\n",
              "      <td>3</td>\n",
              "      <td>1976</td>\n",
              "      <td>ATL</td>\n",
              "      <td>LAX</td>\n",
              "      <td>2023-08-31</td>\n",
              "    </tr>\n",
              "    <tr>\n",
              "      <th>34810</th>\n",
              "      <td>1174</td>\n",
              "      <td>Avianca, JetBlue</td>\n",
              "      <td>3</td>\n",
              "      <td>2259</td>\n",
              "      <td>ATL</td>\n",
              "      <td>LAX</td>\n",
              "      <td>2023-08-31</td>\n",
              "    </tr>\n",
              "    <tr>\n",
              "      <th>34811</th>\n",
              "      <td>1201</td>\n",
              "      <td>Avianca, JetBlue</td>\n",
              "      <td>3</td>\n",
              "      <td>2259</td>\n",
              "      <td>ATL</td>\n",
              "      <td>LAX</td>\n",
              "      <td>2023-08-31</td>\n",
              "    </tr>\n",
              "    <tr>\n",
              "      <th>34812</th>\n",
              "      <td>1174</td>\n",
              "      <td>Avianca, JetBlue</td>\n",
              "      <td>3</td>\n",
              "      <td>2314</td>\n",
              "      <td>ATL</td>\n",
              "      <td>LAX</td>\n",
              "      <td>2023-08-31</td>\n",
              "    </tr>\n",
              "    <tr>\n",
              "      <th>34813</th>\n",
              "      <td>1201</td>\n",
              "      <td>Avianca, JetBlue</td>\n",
              "      <td>3</td>\n",
              "      <td>2314</td>\n",
              "      <td>ATL</td>\n",
              "      <td>LAX</td>\n",
              "      <td>2023-08-31</td>\n",
              "    </tr>\n",
              "  </tbody>\n",
              "</table>\n",
              "<p>34814 rows × 7 columns</p>\n",
              "</div>\n",
              "      <button class=\"colab-df-convert\" onclick=\"convertToInteractive('df-b1b01916-9ed6-4dd7-9557-20e9b90d6318')\"\n",
              "              title=\"Convert this dataframe to an interactive table.\"\n",
              "              style=\"display:none;\">\n",
              "        \n",
              "  <svg xmlns=\"http://www.w3.org/2000/svg\" height=\"24px\"viewBox=\"0 0 24 24\"\n",
              "       width=\"24px\">\n",
              "    <path d=\"M0 0h24v24H0V0z\" fill=\"none\"/>\n",
              "    <path d=\"M18.56 5.44l.94 2.06.94-2.06 2.06-.94-2.06-.94-.94-2.06-.94 2.06-2.06.94zm-11 1L8.5 8.5l.94-2.06 2.06-.94-2.06-.94L8.5 2.5l-.94 2.06-2.06.94zm10 10l.94 2.06.94-2.06 2.06-.94-2.06-.94-.94-2.06-.94 2.06-2.06.94z\"/><path d=\"M17.41 7.96l-1.37-1.37c-.4-.4-.92-.59-1.43-.59-.52 0-1.04.2-1.43.59L10.3 9.45l-7.72 7.72c-.78.78-.78 2.05 0 2.83L4 21.41c.39.39.9.59 1.41.59.51 0 1.02-.2 1.41-.59l7.78-7.78 2.81-2.81c.8-.78.8-2.07 0-2.86zM5.41 20L4 18.59l7.72-7.72 1.47 1.35L5.41 20z\"/>\n",
              "  </svg>\n",
              "      </button>\n",
              "      \n",
              "  <style>\n",
              "    .colab-df-container {\n",
              "      display:flex;\n",
              "      flex-wrap:wrap;\n",
              "      gap: 12px;\n",
              "    }\n",
              "\n",
              "    .colab-df-convert {\n",
              "      background-color: #E8F0FE;\n",
              "      border: none;\n",
              "      border-radius: 50%;\n",
              "      cursor: pointer;\n",
              "      display: none;\n",
              "      fill: #1967D2;\n",
              "      height: 32px;\n",
              "      padding: 0 0 0 0;\n",
              "      width: 32px;\n",
              "    }\n",
              "\n",
              "    .colab-df-convert:hover {\n",
              "      background-color: #E2EBFA;\n",
              "      box-shadow: 0px 1px 2px rgba(60, 64, 67, 0.3), 0px 1px 3px 1px rgba(60, 64, 67, 0.15);\n",
              "      fill: #174EA6;\n",
              "    }\n",
              "\n",
              "    [theme=dark] .colab-df-convert {\n",
              "      background-color: #3B4455;\n",
              "      fill: #D2E3FC;\n",
              "    }\n",
              "\n",
              "    [theme=dark] .colab-df-convert:hover {\n",
              "      background-color: #434B5C;\n",
              "      box-shadow: 0px 1px 3px 1px rgba(0, 0, 0, 0.15);\n",
              "      filter: drop-shadow(0px 1px 2px rgba(0, 0, 0, 0.3));\n",
              "      fill: #FFFFFF;\n",
              "    }\n",
              "  </style>\n",
              "\n",
              "      <script>\n",
              "        const buttonEl =\n",
              "          document.querySelector('#df-b1b01916-9ed6-4dd7-9557-20e9b90d6318 button.colab-df-convert');\n",
              "        buttonEl.style.display =\n",
              "          google.colab.kernel.accessAllowed ? 'block' : 'none';\n",
              "\n",
              "        async function convertToInteractive(key) {\n",
              "          const element = document.querySelector('#df-b1b01916-9ed6-4dd7-9557-20e9b90d6318');\n",
              "          const dataTable =\n",
              "            await google.colab.kernel.invokeFunction('convertToInteractive',\n",
              "                                                     [key], {});\n",
              "          if (!dataTable) return;\n",
              "\n",
              "          const docLinkHtml = 'Like what you see? Visit the ' +\n",
              "            '<a target=\"_blank\" href=https://colab.research.google.com/notebooks/data_table.ipynb>data table notebook</a>'\n",
              "            + ' to learn more about interactive tables.';\n",
              "          element.innerHTML = '';\n",
              "          dataTable['output_type'] = 'display_data';\n",
              "          await google.colab.output.renderOutput(dataTable, element);\n",
              "          const docLink = document.createElement('div');\n",
              "          docLink.innerHTML = docLinkHtml;\n",
              "          element.appendChild(docLink);\n",
              "        }\n",
              "      </script>\n",
              "    </div>\n",
              "  </div>\n",
              "  "
            ]
          },
          "metadata": {},
          "execution_count": 51
        }
      ]
    },
    {
      "cell_type": "code",
      "source": [
        "'''\n",
        "COMES FROM \"Data preprocessing-2\"\n",
        "NEED TO WRAP INTO FUNCTION\n",
        "'''\n",
        "\n",
        "import re\n",
        "\n",
        "# Remove leading and trailing whitespace\n",
        "flights['Company Name'] = flights['Company Name'].str.strip()\n",
        "\n",
        "# Remove punctuation\n",
        "flights['Company Name'] = flights['Company Name'].str.replace('[^\\w\\s]', '')\n",
        "\n",
        "# Remove extra whitespace within the company name\n",
        "flights['Company Name'] = flights['Company Name'].str.replace('\\s+', ' ')"
      ],
      "metadata": {
        "colab": {
          "base_uri": "https://localhost:8080/"
        },
        "id": "R6pn-TJ_Mrv_",
        "outputId": "89b914c7-5f8c-4f0b-90de-9ccbdd071377"
      },
      "execution_count": 52,
      "outputs": [
        {
          "output_type": "stream",
          "name": "stderr",
          "text": [
            "<ipython-input-52-20acb649e9f1>:7: FutureWarning: The default value of regex will change from True to False in a future version.\n",
            "  flights['Company Name'] = flights['Company Name'].str.replace('[^\\w\\s]', '')\n",
            "<ipython-input-52-20acb649e9f1>:10: FutureWarning: The default value of regex will change from True to False in a future version.\n",
            "  flights['Company Name'] = flights['Company Name'].str.replace('\\s+', ' ')\n"
          ]
        }
      ]
    },
    {
      "cell_type": "code",
      "source": [
        "flights"
      ],
      "metadata": {
        "colab": {
          "base_uri": "https://localhost:8080/",
          "height": 424
        },
        "id": "gMRHIkyYMyAU",
        "outputId": "13932f76-93cc-41e7-b050-7bd410ef89a1"
      },
      "execution_count": 53,
      "outputs": [
        {
          "output_type": "execute_result",
          "data": {
            "text/plain": [
              "       Price       Company Name  Stops  Duration Destination From       Date\n",
              "0        254  American Airlines      0       278         ATL  LAX 2023-06-01\n",
              "1         73    Spirit Airlines      1      1528         ATL  LAX 2023-06-01\n",
              "2        209  American Airlines      1       375         ATL  LAX 2023-06-01\n",
              "3        159    United Airlines      1       415         ATL  LAX 2023-06-01\n",
              "4        204    United Airlines      1       370         ATL  LAX 2023-06-01\n",
              "...      ...                ...    ...       ...         ...  ...        ...\n",
              "34809   1174    Avianca JetBlue      3      1976         ATL  LAX 2023-08-31\n",
              "34810   1174    Avianca JetBlue      3      2259         ATL  LAX 2023-08-31\n",
              "34811   1201    Avianca JetBlue      3      2259         ATL  LAX 2023-08-31\n",
              "34812   1174    Avianca JetBlue      3      2314         ATL  LAX 2023-08-31\n",
              "34813   1201    Avianca JetBlue      3      2314         ATL  LAX 2023-08-31\n",
              "\n",
              "[34814 rows x 7 columns]"
            ],
            "text/html": [
              "\n",
              "  <div id=\"df-fc6065ff-0988-4706-87a3-e433940d2483\">\n",
              "    <div class=\"colab-df-container\">\n",
              "      <div>\n",
              "<style scoped>\n",
              "    .dataframe tbody tr th:only-of-type {\n",
              "        vertical-align: middle;\n",
              "    }\n",
              "\n",
              "    .dataframe tbody tr th {\n",
              "        vertical-align: top;\n",
              "    }\n",
              "\n",
              "    .dataframe thead th {\n",
              "        text-align: right;\n",
              "    }\n",
              "</style>\n",
              "<table border=\"1\" class=\"dataframe\">\n",
              "  <thead>\n",
              "    <tr style=\"text-align: right;\">\n",
              "      <th></th>\n",
              "      <th>Price</th>\n",
              "      <th>Company Name</th>\n",
              "      <th>Stops</th>\n",
              "      <th>Duration</th>\n",
              "      <th>Destination</th>\n",
              "      <th>From</th>\n",
              "      <th>Date</th>\n",
              "    </tr>\n",
              "  </thead>\n",
              "  <tbody>\n",
              "    <tr>\n",
              "      <th>0</th>\n",
              "      <td>254</td>\n",
              "      <td>American Airlines</td>\n",
              "      <td>0</td>\n",
              "      <td>278</td>\n",
              "      <td>ATL</td>\n",
              "      <td>LAX</td>\n",
              "      <td>2023-06-01</td>\n",
              "    </tr>\n",
              "    <tr>\n",
              "      <th>1</th>\n",
              "      <td>73</td>\n",
              "      <td>Spirit Airlines</td>\n",
              "      <td>1</td>\n",
              "      <td>1528</td>\n",
              "      <td>ATL</td>\n",
              "      <td>LAX</td>\n",
              "      <td>2023-06-01</td>\n",
              "    </tr>\n",
              "    <tr>\n",
              "      <th>2</th>\n",
              "      <td>209</td>\n",
              "      <td>American Airlines</td>\n",
              "      <td>1</td>\n",
              "      <td>375</td>\n",
              "      <td>ATL</td>\n",
              "      <td>LAX</td>\n",
              "      <td>2023-06-01</td>\n",
              "    </tr>\n",
              "    <tr>\n",
              "      <th>3</th>\n",
              "      <td>159</td>\n",
              "      <td>United Airlines</td>\n",
              "      <td>1</td>\n",
              "      <td>415</td>\n",
              "      <td>ATL</td>\n",
              "      <td>LAX</td>\n",
              "      <td>2023-06-01</td>\n",
              "    </tr>\n",
              "    <tr>\n",
              "      <th>4</th>\n",
              "      <td>204</td>\n",
              "      <td>United Airlines</td>\n",
              "      <td>1</td>\n",
              "      <td>370</td>\n",
              "      <td>ATL</td>\n",
              "      <td>LAX</td>\n",
              "      <td>2023-06-01</td>\n",
              "    </tr>\n",
              "    <tr>\n",
              "      <th>...</th>\n",
              "      <td>...</td>\n",
              "      <td>...</td>\n",
              "      <td>...</td>\n",
              "      <td>...</td>\n",
              "      <td>...</td>\n",
              "      <td>...</td>\n",
              "      <td>...</td>\n",
              "    </tr>\n",
              "    <tr>\n",
              "      <th>34809</th>\n",
              "      <td>1174</td>\n",
              "      <td>Avianca JetBlue</td>\n",
              "      <td>3</td>\n",
              "      <td>1976</td>\n",
              "      <td>ATL</td>\n",
              "      <td>LAX</td>\n",
              "      <td>2023-08-31</td>\n",
              "    </tr>\n",
              "    <tr>\n",
              "      <th>34810</th>\n",
              "      <td>1174</td>\n",
              "      <td>Avianca JetBlue</td>\n",
              "      <td>3</td>\n",
              "      <td>2259</td>\n",
              "      <td>ATL</td>\n",
              "      <td>LAX</td>\n",
              "      <td>2023-08-31</td>\n",
              "    </tr>\n",
              "    <tr>\n",
              "      <th>34811</th>\n",
              "      <td>1201</td>\n",
              "      <td>Avianca JetBlue</td>\n",
              "      <td>3</td>\n",
              "      <td>2259</td>\n",
              "      <td>ATL</td>\n",
              "      <td>LAX</td>\n",
              "      <td>2023-08-31</td>\n",
              "    </tr>\n",
              "    <tr>\n",
              "      <th>34812</th>\n",
              "      <td>1174</td>\n",
              "      <td>Avianca JetBlue</td>\n",
              "      <td>3</td>\n",
              "      <td>2314</td>\n",
              "      <td>ATL</td>\n",
              "      <td>LAX</td>\n",
              "      <td>2023-08-31</td>\n",
              "    </tr>\n",
              "    <tr>\n",
              "      <th>34813</th>\n",
              "      <td>1201</td>\n",
              "      <td>Avianca JetBlue</td>\n",
              "      <td>3</td>\n",
              "      <td>2314</td>\n",
              "      <td>ATL</td>\n",
              "      <td>LAX</td>\n",
              "      <td>2023-08-31</td>\n",
              "    </tr>\n",
              "  </tbody>\n",
              "</table>\n",
              "<p>34814 rows × 7 columns</p>\n",
              "</div>\n",
              "      <button class=\"colab-df-convert\" onclick=\"convertToInteractive('df-fc6065ff-0988-4706-87a3-e433940d2483')\"\n",
              "              title=\"Convert this dataframe to an interactive table.\"\n",
              "              style=\"display:none;\">\n",
              "        \n",
              "  <svg xmlns=\"http://www.w3.org/2000/svg\" height=\"24px\"viewBox=\"0 0 24 24\"\n",
              "       width=\"24px\">\n",
              "    <path d=\"M0 0h24v24H0V0z\" fill=\"none\"/>\n",
              "    <path d=\"M18.56 5.44l.94 2.06.94-2.06 2.06-.94-2.06-.94-.94-2.06-.94 2.06-2.06.94zm-11 1L8.5 8.5l.94-2.06 2.06-.94-2.06-.94L8.5 2.5l-.94 2.06-2.06.94zm10 10l.94 2.06.94-2.06 2.06-.94-2.06-.94-.94-2.06-.94 2.06-2.06.94z\"/><path d=\"M17.41 7.96l-1.37-1.37c-.4-.4-.92-.59-1.43-.59-.52 0-1.04.2-1.43.59L10.3 9.45l-7.72 7.72c-.78.78-.78 2.05 0 2.83L4 21.41c.39.39.9.59 1.41.59.51 0 1.02-.2 1.41-.59l7.78-7.78 2.81-2.81c.8-.78.8-2.07 0-2.86zM5.41 20L4 18.59l7.72-7.72 1.47 1.35L5.41 20z\"/>\n",
              "  </svg>\n",
              "      </button>\n",
              "      \n",
              "  <style>\n",
              "    .colab-df-container {\n",
              "      display:flex;\n",
              "      flex-wrap:wrap;\n",
              "      gap: 12px;\n",
              "    }\n",
              "\n",
              "    .colab-df-convert {\n",
              "      background-color: #E8F0FE;\n",
              "      border: none;\n",
              "      border-radius: 50%;\n",
              "      cursor: pointer;\n",
              "      display: none;\n",
              "      fill: #1967D2;\n",
              "      height: 32px;\n",
              "      padding: 0 0 0 0;\n",
              "      width: 32px;\n",
              "    }\n",
              "\n",
              "    .colab-df-convert:hover {\n",
              "      background-color: #E2EBFA;\n",
              "      box-shadow: 0px 1px 2px rgba(60, 64, 67, 0.3), 0px 1px 3px 1px rgba(60, 64, 67, 0.15);\n",
              "      fill: #174EA6;\n",
              "    }\n",
              "\n",
              "    [theme=dark] .colab-df-convert {\n",
              "      background-color: #3B4455;\n",
              "      fill: #D2E3FC;\n",
              "    }\n",
              "\n",
              "    [theme=dark] .colab-df-convert:hover {\n",
              "      background-color: #434B5C;\n",
              "      box-shadow: 0px 1px 3px 1px rgba(0, 0, 0, 0.15);\n",
              "      filter: drop-shadow(0px 1px 2px rgba(0, 0, 0, 0.3));\n",
              "      fill: #FFFFFF;\n",
              "    }\n",
              "  </style>\n",
              "\n",
              "      <script>\n",
              "        const buttonEl =\n",
              "          document.querySelector('#df-fc6065ff-0988-4706-87a3-e433940d2483 button.colab-df-convert');\n",
              "        buttonEl.style.display =\n",
              "          google.colab.kernel.accessAllowed ? 'block' : 'none';\n",
              "\n",
              "        async function convertToInteractive(key) {\n",
              "          const element = document.querySelector('#df-fc6065ff-0988-4706-87a3-e433940d2483');\n",
              "          const dataTable =\n",
              "            await google.colab.kernel.invokeFunction('convertToInteractive',\n",
              "                                                     [key], {});\n",
              "          if (!dataTable) return;\n",
              "\n",
              "          const docLinkHtml = 'Like what you see? Visit the ' +\n",
              "            '<a target=\"_blank\" href=https://colab.research.google.com/notebooks/data_table.ipynb>data table notebook</a>'\n",
              "            + ' to learn more about interactive tables.';\n",
              "          element.innerHTML = '';\n",
              "          dataTable['output_type'] = 'display_data';\n",
              "          await google.colab.output.renderOutput(dataTable, element);\n",
              "          const docLink = document.createElement('div');\n",
              "          docLink.innerHTML = docLinkHtml;\n",
              "          element.appendChild(docLink);\n",
              "        }\n",
              "      </script>\n",
              "    </div>\n",
              "  </div>\n",
              "  "
            ]
          },
          "metadata": {},
          "execution_count": 53
        }
      ]
    },
    {
      "cell_type": "code",
      "source": [
        "'''\n",
        "COMES FROM \"Data preprocessing-2\"\n",
        "NEED TO WRAP INTO FUNCTION\n",
        "'''\n",
        "\n",
        "flights['Date'] = pd.to_datetime(flights['Date'])\n",
        "flights['DayOfWeek'] = (flights['Date'].dt.dayofweek + 1) % 7\n",
        "flights['Month'] = flights['Date'].dt.month"
      ],
      "metadata": {
        "id": "yJD347-gM6Fh"
      },
      "execution_count": 54,
      "outputs": []
    },
    {
      "cell_type": "code",
      "source": [
        "flights"
      ],
      "metadata": {
        "colab": {
          "base_uri": "https://localhost:8080/",
          "height": 424
        },
        "id": "emru1HBpM8bU",
        "outputId": "95292632-031c-4d10-8554-df0c2a9d7fdc"
      },
      "execution_count": 55,
      "outputs": [
        {
          "output_type": "execute_result",
          "data": {
            "text/plain": [
              "       Price       Company Name  Stops  Duration Destination From       Date  \\\n",
              "0        254  American Airlines      0       278         ATL  LAX 2023-06-01   \n",
              "1         73    Spirit Airlines      1      1528         ATL  LAX 2023-06-01   \n",
              "2        209  American Airlines      1       375         ATL  LAX 2023-06-01   \n",
              "3        159    United Airlines      1       415         ATL  LAX 2023-06-01   \n",
              "4        204    United Airlines      1       370         ATL  LAX 2023-06-01   \n",
              "...      ...                ...    ...       ...         ...  ...        ...   \n",
              "34809   1174    Avianca JetBlue      3      1976         ATL  LAX 2023-08-31   \n",
              "34810   1174    Avianca JetBlue      3      2259         ATL  LAX 2023-08-31   \n",
              "34811   1201    Avianca JetBlue      3      2259         ATL  LAX 2023-08-31   \n",
              "34812   1174    Avianca JetBlue      3      2314         ATL  LAX 2023-08-31   \n",
              "34813   1201    Avianca JetBlue      3      2314         ATL  LAX 2023-08-31   \n",
              "\n",
              "       DayOfWeek  Month  \n",
              "0              4      6  \n",
              "1              4      6  \n",
              "2              4      6  \n",
              "3              4      6  \n",
              "4              4      6  \n",
              "...          ...    ...  \n",
              "34809          4      8  \n",
              "34810          4      8  \n",
              "34811          4      8  \n",
              "34812          4      8  \n",
              "34813          4      8  \n",
              "\n",
              "[34814 rows x 9 columns]"
            ],
            "text/html": [
              "\n",
              "  <div id=\"df-3697374a-3d7f-46ee-944f-8b71ef5881d5\">\n",
              "    <div class=\"colab-df-container\">\n",
              "      <div>\n",
              "<style scoped>\n",
              "    .dataframe tbody tr th:only-of-type {\n",
              "        vertical-align: middle;\n",
              "    }\n",
              "\n",
              "    .dataframe tbody tr th {\n",
              "        vertical-align: top;\n",
              "    }\n",
              "\n",
              "    .dataframe thead th {\n",
              "        text-align: right;\n",
              "    }\n",
              "</style>\n",
              "<table border=\"1\" class=\"dataframe\">\n",
              "  <thead>\n",
              "    <tr style=\"text-align: right;\">\n",
              "      <th></th>\n",
              "      <th>Price</th>\n",
              "      <th>Company Name</th>\n",
              "      <th>Stops</th>\n",
              "      <th>Duration</th>\n",
              "      <th>Destination</th>\n",
              "      <th>From</th>\n",
              "      <th>Date</th>\n",
              "      <th>DayOfWeek</th>\n",
              "      <th>Month</th>\n",
              "    </tr>\n",
              "  </thead>\n",
              "  <tbody>\n",
              "    <tr>\n",
              "      <th>0</th>\n",
              "      <td>254</td>\n",
              "      <td>American Airlines</td>\n",
              "      <td>0</td>\n",
              "      <td>278</td>\n",
              "      <td>ATL</td>\n",
              "      <td>LAX</td>\n",
              "      <td>2023-06-01</td>\n",
              "      <td>4</td>\n",
              "      <td>6</td>\n",
              "    </tr>\n",
              "    <tr>\n",
              "      <th>1</th>\n",
              "      <td>73</td>\n",
              "      <td>Spirit Airlines</td>\n",
              "      <td>1</td>\n",
              "      <td>1528</td>\n",
              "      <td>ATL</td>\n",
              "      <td>LAX</td>\n",
              "      <td>2023-06-01</td>\n",
              "      <td>4</td>\n",
              "      <td>6</td>\n",
              "    </tr>\n",
              "    <tr>\n",
              "      <th>2</th>\n",
              "      <td>209</td>\n",
              "      <td>American Airlines</td>\n",
              "      <td>1</td>\n",
              "      <td>375</td>\n",
              "      <td>ATL</td>\n",
              "      <td>LAX</td>\n",
              "      <td>2023-06-01</td>\n",
              "      <td>4</td>\n",
              "      <td>6</td>\n",
              "    </tr>\n",
              "    <tr>\n",
              "      <th>3</th>\n",
              "      <td>159</td>\n",
              "      <td>United Airlines</td>\n",
              "      <td>1</td>\n",
              "      <td>415</td>\n",
              "      <td>ATL</td>\n",
              "      <td>LAX</td>\n",
              "      <td>2023-06-01</td>\n",
              "      <td>4</td>\n",
              "      <td>6</td>\n",
              "    </tr>\n",
              "    <tr>\n",
              "      <th>4</th>\n",
              "      <td>204</td>\n",
              "      <td>United Airlines</td>\n",
              "      <td>1</td>\n",
              "      <td>370</td>\n",
              "      <td>ATL</td>\n",
              "      <td>LAX</td>\n",
              "      <td>2023-06-01</td>\n",
              "      <td>4</td>\n",
              "      <td>6</td>\n",
              "    </tr>\n",
              "    <tr>\n",
              "      <th>...</th>\n",
              "      <td>...</td>\n",
              "      <td>...</td>\n",
              "      <td>...</td>\n",
              "      <td>...</td>\n",
              "      <td>...</td>\n",
              "      <td>...</td>\n",
              "      <td>...</td>\n",
              "      <td>...</td>\n",
              "      <td>...</td>\n",
              "    </tr>\n",
              "    <tr>\n",
              "      <th>34809</th>\n",
              "      <td>1174</td>\n",
              "      <td>Avianca JetBlue</td>\n",
              "      <td>3</td>\n",
              "      <td>1976</td>\n",
              "      <td>ATL</td>\n",
              "      <td>LAX</td>\n",
              "      <td>2023-08-31</td>\n",
              "      <td>4</td>\n",
              "      <td>8</td>\n",
              "    </tr>\n",
              "    <tr>\n",
              "      <th>34810</th>\n",
              "      <td>1174</td>\n",
              "      <td>Avianca JetBlue</td>\n",
              "      <td>3</td>\n",
              "      <td>2259</td>\n",
              "      <td>ATL</td>\n",
              "      <td>LAX</td>\n",
              "      <td>2023-08-31</td>\n",
              "      <td>4</td>\n",
              "      <td>8</td>\n",
              "    </tr>\n",
              "    <tr>\n",
              "      <th>34811</th>\n",
              "      <td>1201</td>\n",
              "      <td>Avianca JetBlue</td>\n",
              "      <td>3</td>\n",
              "      <td>2259</td>\n",
              "      <td>ATL</td>\n",
              "      <td>LAX</td>\n",
              "      <td>2023-08-31</td>\n",
              "      <td>4</td>\n",
              "      <td>8</td>\n",
              "    </tr>\n",
              "    <tr>\n",
              "      <th>34812</th>\n",
              "      <td>1174</td>\n",
              "      <td>Avianca JetBlue</td>\n",
              "      <td>3</td>\n",
              "      <td>2314</td>\n",
              "      <td>ATL</td>\n",
              "      <td>LAX</td>\n",
              "      <td>2023-08-31</td>\n",
              "      <td>4</td>\n",
              "      <td>8</td>\n",
              "    </tr>\n",
              "    <tr>\n",
              "      <th>34813</th>\n",
              "      <td>1201</td>\n",
              "      <td>Avianca JetBlue</td>\n",
              "      <td>3</td>\n",
              "      <td>2314</td>\n",
              "      <td>ATL</td>\n",
              "      <td>LAX</td>\n",
              "      <td>2023-08-31</td>\n",
              "      <td>4</td>\n",
              "      <td>8</td>\n",
              "    </tr>\n",
              "  </tbody>\n",
              "</table>\n",
              "<p>34814 rows × 9 columns</p>\n",
              "</div>\n",
              "      <button class=\"colab-df-convert\" onclick=\"convertToInteractive('df-3697374a-3d7f-46ee-944f-8b71ef5881d5')\"\n",
              "              title=\"Convert this dataframe to an interactive table.\"\n",
              "              style=\"display:none;\">\n",
              "        \n",
              "  <svg xmlns=\"http://www.w3.org/2000/svg\" height=\"24px\"viewBox=\"0 0 24 24\"\n",
              "       width=\"24px\">\n",
              "    <path d=\"M0 0h24v24H0V0z\" fill=\"none\"/>\n",
              "    <path d=\"M18.56 5.44l.94 2.06.94-2.06 2.06-.94-2.06-.94-.94-2.06-.94 2.06-2.06.94zm-11 1L8.5 8.5l.94-2.06 2.06-.94-2.06-.94L8.5 2.5l-.94 2.06-2.06.94zm10 10l.94 2.06.94-2.06 2.06-.94-2.06-.94-.94-2.06-.94 2.06-2.06.94z\"/><path d=\"M17.41 7.96l-1.37-1.37c-.4-.4-.92-.59-1.43-.59-.52 0-1.04.2-1.43.59L10.3 9.45l-7.72 7.72c-.78.78-.78 2.05 0 2.83L4 21.41c.39.39.9.59 1.41.59.51 0 1.02-.2 1.41-.59l7.78-7.78 2.81-2.81c.8-.78.8-2.07 0-2.86zM5.41 20L4 18.59l7.72-7.72 1.47 1.35L5.41 20z\"/>\n",
              "  </svg>\n",
              "      </button>\n",
              "      \n",
              "  <style>\n",
              "    .colab-df-container {\n",
              "      display:flex;\n",
              "      flex-wrap:wrap;\n",
              "      gap: 12px;\n",
              "    }\n",
              "\n",
              "    .colab-df-convert {\n",
              "      background-color: #E8F0FE;\n",
              "      border: none;\n",
              "      border-radius: 50%;\n",
              "      cursor: pointer;\n",
              "      display: none;\n",
              "      fill: #1967D2;\n",
              "      height: 32px;\n",
              "      padding: 0 0 0 0;\n",
              "      width: 32px;\n",
              "    }\n",
              "\n",
              "    .colab-df-convert:hover {\n",
              "      background-color: #E2EBFA;\n",
              "      box-shadow: 0px 1px 2px rgba(60, 64, 67, 0.3), 0px 1px 3px 1px rgba(60, 64, 67, 0.15);\n",
              "      fill: #174EA6;\n",
              "    }\n",
              "\n",
              "    [theme=dark] .colab-df-convert {\n",
              "      background-color: #3B4455;\n",
              "      fill: #D2E3FC;\n",
              "    }\n",
              "\n",
              "    [theme=dark] .colab-df-convert:hover {\n",
              "      background-color: #434B5C;\n",
              "      box-shadow: 0px 1px 3px 1px rgba(0, 0, 0, 0.15);\n",
              "      filter: drop-shadow(0px 1px 2px rgba(0, 0, 0, 0.3));\n",
              "      fill: #FFFFFF;\n",
              "    }\n",
              "  </style>\n",
              "\n",
              "      <script>\n",
              "        const buttonEl =\n",
              "          document.querySelector('#df-3697374a-3d7f-46ee-944f-8b71ef5881d5 button.colab-df-convert');\n",
              "        buttonEl.style.display =\n",
              "          google.colab.kernel.accessAllowed ? 'block' : 'none';\n",
              "\n",
              "        async function convertToInteractive(key) {\n",
              "          const element = document.querySelector('#df-3697374a-3d7f-46ee-944f-8b71ef5881d5');\n",
              "          const dataTable =\n",
              "            await google.colab.kernel.invokeFunction('convertToInteractive',\n",
              "                                                     [key], {});\n",
              "          if (!dataTable) return;\n",
              "\n",
              "          const docLinkHtml = 'Like what you see? Visit the ' +\n",
              "            '<a target=\"_blank\" href=https://colab.research.google.com/notebooks/data_table.ipynb>data table notebook</a>'\n",
              "            + ' to learn more about interactive tables.';\n",
              "          element.innerHTML = '';\n",
              "          dataTable['output_type'] = 'display_data';\n",
              "          await google.colab.output.renderOutput(dataTable, element);\n",
              "          const docLink = document.createElement('div');\n",
              "          docLink.innerHTML = docLinkHtml;\n",
              "          element.appendChild(docLink);\n",
              "        }\n",
              "      </script>\n",
              "    </div>\n",
              "  </div>\n",
              "  "
            ]
          },
          "metadata": {},
          "execution_count": 55
        }
      ]
    },
    {
      "cell_type": "code",
      "source": [
        "from sklearn.preprocessing import LabelEncoder\n",
        "from sklearn.model_selection import train_test_split\n",
        "from sklearn.preprocessing import normalize"
      ],
      "metadata": {
        "id": "TR2iyVJPNCAS"
      },
      "execution_count": 56,
      "outputs": []
    },
    {
      "cell_type": "code",
      "source": [
        "def preprocess(df):\n",
        "\n",
        "  le = LabelEncoder()\n",
        "\n",
        "  #df = df.dropna()\n",
        "  df['Date'] = le.fit_transform(df['Date'])\n",
        "  df['Company Name'] = le.fit_transform(df['Company Name'])\n",
        "  #df['Stops'] = le.fit_transform(df['Stops'])\n",
        "\n",
        "  #df['Price'] = df['Price'].str[1:].str.replace(',','').astype(int)\n",
        "  #df['Price'] = normalize(np.array(df['Price']).reshape(1,-1)).flatten()\n",
        "\n",
        "preprocess(flights)"
      ],
      "metadata": {
        "id": "MT2dAVbANcgr"
      },
      "execution_count": 57,
      "outputs": []
    },
    {
      "cell_type": "code",
      "source": [
        "X = flights[['Date', 'Company Name', 'Stops', 'Duration', 'DayOfWeek', 'Month']]\n",
        "X = np.array(X)\n",
        "y = flights['Price']\n",
        "\n",
        "X_train, X_test, y_train, y_test = train_test_split(X, y, test_size = 0.2)"
      ],
      "metadata": {
        "id": "mIiEfQ6WPNtA"
      },
      "execution_count": 63,
      "outputs": []
    },
    {
      "cell_type": "code",
      "source": [
        "X"
      ],
      "metadata": {
        "colab": {
          "base_uri": "https://localhost:8080/"
        },
        "id": "CCN56XtsVBtV",
        "outputId": "c249ce95-ba1e-46d9-9601-cdc6a112f3bc"
      },
      "execution_count": 64,
      "outputs": [
        {
          "output_type": "execute_result",
          "data": {
            "text/plain": [
              "array([[   0,    3,    0,  278,    4,    6],\n",
              "       [   0,   13,    1, 1528,    4,    6],\n",
              "       [   0,    3,    1,  375,    4,    6],\n",
              "       ...,\n",
              "       [  90,    5,    3, 2259,    4,    8],\n",
              "       [  90,    5,    3, 2314,    4,    8],\n",
              "       [  90,    5,    3, 2314,    4,    8]])"
            ]
          },
          "metadata": {},
          "execution_count": 64
        }
      ]
    },
    {
      "cell_type": "code",
      "source": [
        "X_train.shape, y_train.shape"
      ],
      "metadata": {
        "colab": {
          "base_uri": "https://localhost:8080/"
        },
        "id": "AEBePlfINwUl",
        "outputId": "9a02ecfd-6598-48d6-dbd5-1c54f7b3c4e5"
      },
      "execution_count": 65,
      "outputs": [
        {
          "output_type": "execute_result",
          "data": {
            "text/plain": [
              "((27851, 6), (27851,))"
            ]
          },
          "metadata": {},
          "execution_count": 65
        }
      ]
    },
    {
      "cell_type": "code",
      "source": [
        "model = tf.keras.models.Sequential([\n",
        "    layers.Dense(500, activation = 'relu'),\n",
        "    layers.Dropout(.2),\n",
        "    layers.Dense(500, activation = 'relu'),\n",
        "    layers.Dropout(.2),\n",
        "    layers.Dense(500, activation = 'relu'),\n",
        "    layers.Dense(1)\n",
        "])"
      ],
      "metadata": {
        "id": "p0ZgWEUoNy4L"
      },
      "execution_count": 77,
      "outputs": []
    },
    {
      "cell_type": "code",
      "source": [
        "model.compile(optimizer = 'adam', loss = 'huber')"
      ],
      "metadata": {
        "id": "OaTSwf6gOTQy"
      },
      "execution_count": 78,
      "outputs": []
    },
    {
      "cell_type": "code",
      "source": [
        "history = model.fit(X_train, y_train, epochs = 20, verbose = 1, validation_split = .2)"
      ],
      "metadata": {
        "colab": {
          "base_uri": "https://localhost:8080/"
        },
        "id": "k-RFoAcgOY0-",
        "outputId": "02bb5754-4dbd-4658-8da9-3f194c729b3e"
      },
      "execution_count": 88,
      "outputs": [
        {
          "output_type": "stream",
          "name": "stdout",
          "text": [
            "Epoch 1/20\n",
            "697/697 [==============================] - 11s 16ms/step - loss: 102.0949 - val_loss: 92.5101\n",
            "Epoch 2/20\n",
            "697/697 [==============================] - 10s 14ms/step - loss: 100.0185 - val_loss: 92.9372\n",
            "Epoch 3/20\n",
            "697/697 [==============================] - 8s 12ms/step - loss: 100.0361 - val_loss: 94.7189\n",
            "Epoch 4/20\n",
            "697/697 [==============================] - 11s 15ms/step - loss: 99.2212 - val_loss: 89.2261\n",
            "Epoch 5/20\n",
            "697/697 [==============================] - 10s 15ms/step - loss: 98.0427 - val_loss: 86.9799\n",
            "Epoch 6/20\n",
            "697/697 [==============================] - 12s 17ms/step - loss: 97.5608 - val_loss: 87.9553\n",
            "Epoch 7/20\n",
            "697/697 [==============================] - 9s 13ms/step - loss: 97.0652 - val_loss: 84.9754\n",
            "Epoch 8/20\n",
            "697/697 [==============================] - 10s 14ms/step - loss: 96.2247 - val_loss: 97.9780\n",
            "Epoch 9/20\n",
            "697/697 [==============================] - 11s 16ms/step - loss: 95.5328 - val_loss: 88.4543\n",
            "Epoch 10/20\n",
            "697/697 [==============================] - 8s 12ms/step - loss: 95.3432 - val_loss: 86.7116\n",
            "Epoch 11/20\n",
            "697/697 [==============================] - 11s 15ms/step - loss: 95.5062 - val_loss: 84.6230\n",
            "Epoch 12/20\n",
            "697/697 [==============================] - 11s 15ms/step - loss: 95.1537 - val_loss: 87.1969\n",
            "Epoch 13/20\n",
            "697/697 [==============================] - 10s 14ms/step - loss: 94.1010 - val_loss: 88.0459\n",
            "Epoch 14/20\n",
            "697/697 [==============================] - 10s 14ms/step - loss: 96.1636 - val_loss: 83.9507\n",
            "Epoch 15/20\n",
            "697/697 [==============================] - 11s 15ms/step - loss: 94.0587 - val_loss: 83.4848\n",
            "Epoch 16/20\n",
            "697/697 [==============================] - 10s 14ms/step - loss: 94.0485 - val_loss: 83.7632\n",
            "Epoch 17/20\n",
            "697/697 [==============================] - 9s 13ms/step - loss: 94.3919 - val_loss: 81.8246\n",
            "Epoch 18/20\n",
            "697/697 [==============================] - 10s 15ms/step - loss: 92.9906 - val_loss: 83.3391\n",
            "Epoch 19/20\n",
            "697/697 [==============================] - 9s 13ms/step - loss: 93.5580 - val_loss: 85.1029\n",
            "Epoch 20/20\n",
            "697/697 [==============================] - 9s 13ms/step - loss: 92.3939 - val_loss: 83.7262\n"
          ]
        }
      ]
    },
    {
      "cell_type": "code",
      "source": [
        "plt.plot(history.history['loss'],label='training loss')\n",
        "plt.plot(history.history['val_loss'],label='validation loss')\n",
        "plt.legend()"
      ],
      "metadata": {
        "colab": {
          "base_uri": "https://localhost:8080/",
          "height": 451
        },
        "id": "3vuyhLbWOaH0",
        "outputId": "d8997179-7ed8-4c26-beb7-dd94dd128cf4"
      },
      "execution_count": 89,
      "outputs": [
        {
          "output_type": "execute_result",
          "data": {
            "text/plain": [
              "<matplotlib.legend.Legend at 0x7fc521842710>"
            ]
          },
          "metadata": {},
          "execution_count": 89
        },
        {
          "output_type": "display_data",
          "data": {
            "text/plain": [
              "<Figure size 640x480 with 1 Axes>"
            ],
            "image/png": "[encoded data removed]"
          },
          "metadata": {}
        }
      ]
    },
    {
      "cell_type": "code",
      "source": [
        "model.evaluate(X_test, y_test, verbose = 2)"
      ],
      "metadata": {
        "colab": {
          "base_uri": "https://localhost:8080/"
        },
        "id": "Gtbli9pwTVrj",
        "outputId": "8f48676c-88a1-4bfa-a8ec-a87e676c74cb"
      },
      "execution_count": 90,
      "outputs": [
        {
          "output_type": "stream",
          "name": "stdout",
          "text": [
            "218/218 - 1s - loss: 84.8664 - 557ms/epoch - 3ms/step\n"
          ]
        },
        {
          "output_type": "execute_result",
          "data": {
            "text/plain": [
              "84.86643981933594"
            ]
          },
          "metadata": {},
          "execution_count": 90
        }
      ]
    },
    {
      "cell_type": "code",
      "source": [
        "preds = model.predict(X_test)[:20]"
      ],
      "metadata": {
        "colab": {
          "base_uri": "https://localhost:8080/"
        },
        "id": "6SAeahJ9a8Z9",
        "outputId": "77eb5329-c135-4348-bfc6-584abc69b671"
      },
      "execution_count": 91,
      "outputs": [
        {
          "output_type": "stream",
          "name": "stdout",
          "text": [
            "218/218 [==============================] - 1s 3ms/step\n"
          ]
        }
      ]
    },
    {
      "cell_type": "code",
      "source": [
        "preds = preds.flatten()\n",
        "preds"
      ],
      "metadata": {
        "colab": {
          "base_uri": "https://localhost:8080/"
        },
        "id": "fXDXsP7NcH5R",
        "outputId": "1734c813-8f9f-40f9-b0c3-a5d6a056eb7b"
      },
      "execution_count": 92,
      "outputs": [
        {
          "output_type": "execute_result",
          "data": {
            "text/plain": [
              "array([828.14166, 301.0917 , 211.48363, 385.2412 , 399.9017 , 369.7054 ,\n",
              "       381.72165, 321.1669 , 207.25795, 892.7612 , 411.78348, 393.9258 ,\n",
              "       405.2313 , 393.6648 , 289.63583, 431.60785, 361.36386, 336.15988,\n",
              "       396.0143 , 350.7394 ], dtype=float32)"
            ]
          },
          "metadata": {},
          "execution_count": 92
        }
      ]
    },
    {
      "cell_type": "code",
      "source": [
        "actual = np.array(y_test[:20])\n",
        "actual"
      ],
      "metadata": {
        "colab": {
          "base_uri": "https://localhost:8080/"
        },
        "id": "J_Z7CipKhXU6",
        "outputId": "ded75c65-cc81-4392-c9b4-35cbd0d5bb3a"
      },
      "execution_count": 93,
      "outputs": [
        {
          "output_type": "execute_result",
          "data": {
            "text/plain": [
              "array([833, 248, 176, 344, 491, 403, 403, 308, 224, 933, 397, 323, 578,\n",
              "       392, 262, 397, 239, 392, 325, 373])"
            ]
          },
          "metadata": {},
          "execution_count": 93
        }
      ]
    },
    {
      "cell_type": "code",
      "source": [
        "preds - actual"
      ],
      "metadata": {
        "colab": {
          "base_uri": "https://localhost:8080/"
        },
        "id": "4TBXi0uxcEQd",
        "outputId": "a88fcbc9-7ca8-4f3c-ec11-5b7a818defa7"
      },
      "execution_count": 94,
      "outputs": [
        {
          "output_type": "execute_result",
          "data": {
            "text/plain": [
              "array([  -4.8583374 ,   53.09170532,   35.48362732,   41.24121094,\n",
              "        -91.09829712,  -33.29458618,  -21.27835083,   13.16690063,\n",
              "        -16.74205017,  -40.23876953,   14.78347778,   70.92581177,\n",
              "       -172.76870728,    1.66479492,   27.63583374,   34.60784912,\n",
              "        122.36386108,  -55.84011841,   71.01431274,  -22.2605896 ])"
            ]
          },
          "metadata": {},
          "execution_count": 94
        }
      ]
    },
    {
      "cell_type": "code",
      "source": [
        "plt.hist(flights['Price'])"
      ],
      "metadata": {
        "colab": {
          "base_uri": "https://localhost:8080/",
          "height": 521
        },
        "id": "7_zWU0iheSr0",
        "outputId": "37fa0418-f382-4263-fa16-4a49a39dc46c"
      },
      "execution_count": 95,
      "outputs": [
        {
          "output_type": "execute_result",
          "data": {
            "text/plain": [
              "(array([1.0000e+04, 1.5487e+04, 6.1380e+03, 2.7600e+03, 3.2700e+02,\n",
              "        6.1000e+01, 2.1000e+01, 1.2000e+01, 4.0000e+00, 4.0000e+00]),\n",
              " array([  73. ,  297.6,  522.2,  746.8,  971.4, 1196. , 1420.6, 1645.2,\n",
              "        1869.8, 2094.4, 2319. ]),\n",
              " <BarContainer object of 10 artists>)"
            ]
          },
          "metadata": {},
          "execution_count": 95
        },
        {
          "output_type": "display_data",
          "data": {
            "text/plain": [
              "<Figure size 640x480 with 1 Axes>"
            ],
            "image/png": "[encoded data removed]"
          },
          "metadata": {}
        }
      ]
    },
    {
      "cell_type": "code",
      "source": [
        "flights['Price'].min(), flights['Price'].max()"
      ],
      "metadata": {
        "colab": {
          "base_uri": "https://localhost:8080/"
        },
        "id": "fUb8M4cBef7G",
        "outputId": "166b0dd7-b96b-4170-c33a-9db6e919331e"
      },
      "execution_count": 96,
      "outputs": [
        {
          "output_type": "execute_result",
          "data": {
            "text/plain": [
              "(73, 2319)"
            ]
          },
          "metadata": {},
          "execution_count": 96
        }
      ]
    },
    {
      "cell_type": "code",
      "source": [],
      "metadata": {
        "id": "iLkSVOVfXTrH"
      },
      "execution_count": null,
      "outputs": []
    }
  ],
  "metadata": {
    "colab": {
      "provenance": [],
      "authorship_tag": "ABX9TyPHRbWRrrNYi/asQ2qLPNfL"
    },
    "kernelspec": {
      "display_name": "Python 3",
      "name": "python3"
    },
    "language_info": {
      "name": "python"
    }
  },
  "nbformat": 4,
  "nbformat_minor": 0
}