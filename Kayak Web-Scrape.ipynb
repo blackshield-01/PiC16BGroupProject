{
 "cells": [
  {
   "cell_type": "code",
   "execution_count": 1,
   "id": "028dc657",
   "metadata": {},
   "outputs": [],
   "source": [
    "from time import sleep\n",
    "import pandas as pd\n",
    "from selenium import webdriver\n",
    "from bs4 import BeautifulSoup\n",
    "import os"
   ]
  },
  {
   "cell_type": "code",
   "execution_count": 4,
   "id": "3d29524b",
   "metadata": {},
   "outputs": [],
   "source": [
    "driver = webdriver.Chrome()\n",
    "# url = 'https://www.kayak.com/flights/LAX-HNL/2023-07-03/2023-07-07?sort=bestflight_a'\n",
    "to_location = 'HNL'\n",
    "url = 'https://www.kayak.com/flights/LAX-{to_location}/2023-07-03/2023-07-07?sort=bestflight_a'.format(to_location = to_location)\n",
    "driver.get(url)"
   ]
  },
  {
   "cell_type": "code",
   "execution_count": 5,
   "id": "2e07e903",
   "metadata": {},
   "outputs": [
    {
     "name": "stdout",
     "output_type": "stream",
     "text": [
      "[<selenium.webdriver.remote.webelement.WebElement (session=\"c07257ebb6d846c21813a22a1ab4c01b\", element=\"EB8F76B11D4F1FAFD46FCD820D7BA8AE_element_478\")>, <selenium.webdriver.remote.webelement.WebElement (session=\"c07257ebb6d846c21813a22a1ab4c01b\", element=\"EB8F76B11D4F1FAFD46FCD820D7BA8AE_element_458\")>, <selenium.webdriver.remote.webelement.WebElement (session=\"c07257ebb6d846c21813a22a1ab4c01b\", element=\"EB8F76B11D4F1FAFD46FCD820D7BA8AE_element_483\")>, <selenium.webdriver.remote.webelement.WebElement (session=\"c07257ebb6d846c21813a22a1ab4c01b\", element=\"EB8F76B11D4F1FAFD46FCD820D7BA8AE_element_486\")>, <selenium.webdriver.remote.webelement.WebElement (session=\"c07257ebb6d846c21813a22a1ab4c01b\", element=\"EB8F76B11D4F1FAFD46FCD820D7BA8AE_element_492\")>, <selenium.webdriver.remote.webelement.WebElement (session=\"c07257ebb6d846c21813a22a1ab4c01b\", element=\"EB8F76B11D4F1FAFD46FCD820D7BA8AE_element_496\")>, <selenium.webdriver.remote.webelement.WebElement (session=\"c07257ebb6d846c21813a22a1ab4c01b\", element=\"EB8F76B11D4F1FAFD46FCD820D7BA8AE_element_499\")>, <selenium.webdriver.remote.webelement.WebElement (session=\"c07257ebb6d846c21813a22a1ab4c01b\", element=\"EB8F76B11D4F1FAFD46FCD820D7BA8AE_element_500\")>, <selenium.webdriver.remote.webelement.WebElement (session=\"c07257ebb6d846c21813a22a1ab4c01b\", element=\"EB8F76B11D4F1FAFD46FCD820D7BA8AE_element_501\")>, <selenium.webdriver.remote.webelement.WebElement (session=\"c07257ebb6d846c21813a22a1ab4c01b\", element=\"EB8F76B11D4F1FAFD46FCD820D7BA8AE_element_502\")>, <selenium.webdriver.remote.webelement.WebElement (session=\"c07257ebb6d846c21813a22a1ab4c01b\", element=\"EB8F76B11D4F1FAFD46FCD820D7BA8AE_element_503\")>, <selenium.webdriver.remote.webelement.WebElement (session=\"c07257ebb6d846c21813a22a1ab4c01b\", element=\"EB8F76B11D4F1FAFD46FCD820D7BA8AE_element_504\")>, <selenium.webdriver.remote.webelement.WebElement (session=\"c07257ebb6d846c21813a22a1ab4c01b\", element=\"EB8F76B11D4F1FAFD46FCD820D7BA8AE_element_505\")>, <selenium.webdriver.remote.webelement.WebElement (session=\"c07257ebb6d846c21813a22a1ab4c01b\", element=\"EB8F76B11D4F1FAFD46FCD820D7BA8AE_element_506\")>, <selenium.webdriver.remote.webelement.WebElement (session=\"c07257ebb6d846c21813a22a1ab4c01b\", element=\"EB8F76B11D4F1FAFD46FCD820D7BA8AE_element_507\")>, <selenium.webdriver.remote.webelement.WebElement (session=\"c07257ebb6d846c21813a22a1ab4c01b\", element=\"EB8F76B11D4F1FAFD46FCD820D7BA8AE_element_508\")>, <selenium.webdriver.remote.webelement.WebElement (session=\"c07257ebb6d846c21813a22a1ab4c01b\", element=\"EB8F76B11D4F1FAFD46FCD820D7BA8AE_element_509\")>]\n"
     ]
    }
   ],
   "source": [
    "flight_rows = driver.find_elements(\"xpath\",'//div[@class=\"nrc6-inner\"]')\n",
    "print(flight_rows)"
   ]
  },
  {
   "cell_type": "code",
   "execution_count": 6,
   "id": "e1341dee",
   "metadata": {},
   "outputs": [],
   "source": [
    "list_prices = []"
   ]
  },
  {
   "cell_type": "code",
   "execution_count": 7,
   "id": "03c2f471",
   "metadata": {},
   "outputs": [
    {
     "name": "stdout",
     "output_type": "stream",
     "text": [
      "['$668', '$668', '$591', '$681', '$701', '$691', '$714', '$691', '$724', '$691', '$714', '$701', '$714', '$724', '$724', '$749', '$724']\n"
     ]
    }
   ],
   "source": [
    "for WebElement in flight_rows:\n",
    "    elementHTML = WebElement.get_attribute('outerHTML')\n",
    "    elementSoup = BeautifulSoup(elementHTML, 'html.parser')\n",
    "    # price\n",
    "    temp_price = elementSoup.find(\"div\", {\"class\": \"nrc6-price-section\"})\n",
    "    price = temp_price.find(\"div\", {\"class\": \"f8F1-price-text\"})\n",
    "    list_prices.append(price.text)\n",
    "    \n",
    "print(list_prices)\n"
   ]
  },
  {
   "cell_type": "code",
   "execution_count": null,
   "id": "aa470d14",
   "metadata": {},
   "outputs": [],
   "source": []
  }
 ],
 "metadata": {
  "kernelspec": {
   "display_name": "Python 3 (ipykernel)",
   "language": "python",
   "name": "python3"
  },
  "language_info": {
   "codemirror_mode": {
    "name": "ipython",
    "version": 3
   },
   "file_extension": ".py",
   "mimetype": "text/x-python",
   "name": "python",
   "nbconvert_exporter": "python",
   "pygments_lexer": "ipython3",
   "version": "3.9.7"
  }
 },
 "nbformat": 4,
 "nbformat_minor": 5
}
